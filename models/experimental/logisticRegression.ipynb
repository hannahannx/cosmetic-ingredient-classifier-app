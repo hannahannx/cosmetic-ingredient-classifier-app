{
 "cells": [
  {
   "metadata": {},
   "cell_type": "markdown",
   "source": "# Logistic Regression Model\n",
   "id": "33a8d0679d597353"
  },
  {
   "metadata": {},
   "cell_type": "markdown",
   "source": "## Load cleaned data\n",
   "id": "bc23982f934b4bf0"
  },
  {
   "metadata": {
    "ExecuteTime": {
     "end_time": "2025-03-21T11:53:36.446472Z",
     "start_time": "2025-03-21T11:53:36.329333Z"
    }
   },
   "cell_type": "code",
   "source": [
    "import numpy as np\n",
    "import pandas as pd"
   ],
   "id": "75cd1e30a98fb6e8",
   "outputs": [
    {
     "ename": "AttributeError",
     "evalue": "partially initialized module 'pandas' has no attribute '_pandas_datetime_CAPI' (most likely due to a circular import)",
     "output_type": "error",
     "traceback": [
      "\u001B[0;31m---------------------------------------------------------------------------\u001B[0m",
      "\u001B[0;31mAttributeError\u001B[0m                            Traceback (most recent call last)",
      "Cell \u001B[0;32mIn[4], line 2\u001B[0m\n\u001B[1;32m      1\u001B[0m \u001B[38;5;28;01mimport\u001B[39;00m\u001B[38;5;250m \u001B[39m\u001B[38;5;21;01mnumpy\u001B[39;00m\u001B[38;5;250m \u001B[39m\u001B[38;5;28;01mas\u001B[39;00m\u001B[38;5;250m \u001B[39m\u001B[38;5;21;01mnp\u001B[39;00m\n\u001B[0;32m----> 2\u001B[0m \u001B[38;5;28;01mimport\u001B[39;00m\u001B[38;5;250m \u001B[39m\u001B[38;5;21;01mpandas\u001B[39;00m\u001B[38;5;250m \u001B[39m\u001B[38;5;28;01mas\u001B[39;00m\u001B[38;5;250m \u001B[39m\u001B[38;5;21;01mpd\u001B[39;00m\n",
      "File \u001B[0;32m~/venv/lib/python3.9/site-packages/pandas/__init__.py:49\u001B[0m\n\u001B[1;32m     46\u001B[0m \u001B[38;5;66;03m# let init-time option registration happen\u001B[39;00m\n\u001B[1;32m     47\u001B[0m \u001B[38;5;28;01mimport\u001B[39;00m\u001B[38;5;250m \u001B[39m\u001B[38;5;21;01mpandas\u001B[39;00m\u001B[38;5;21;01m.\u001B[39;00m\u001B[38;5;21;01mcore\u001B[39;00m\u001B[38;5;21;01m.\u001B[39;00m\u001B[38;5;21;01mconfig_init\u001B[39;00m  \u001B[38;5;66;03m# pyright: ignore[reportUnusedImport] # noqa: F401\u001B[39;00m\n\u001B[0;32m---> 49\u001B[0m \u001B[38;5;28;01mfrom\u001B[39;00m\u001B[38;5;250m \u001B[39m\u001B[38;5;21;01mpandas\u001B[39;00m\u001B[38;5;21;01m.\u001B[39;00m\u001B[38;5;21;01mcore\u001B[39;00m\u001B[38;5;21;01m.\u001B[39;00m\u001B[38;5;21;01mapi\u001B[39;00m\u001B[38;5;250m \u001B[39m\u001B[38;5;28;01mimport\u001B[39;00m (\n\u001B[1;32m     50\u001B[0m     \u001B[38;5;66;03m# dtype\u001B[39;00m\n\u001B[1;32m     51\u001B[0m     ArrowDtype,\n\u001B[1;32m     52\u001B[0m     Int8Dtype,\n\u001B[1;32m     53\u001B[0m     Int16Dtype,\n\u001B[1;32m     54\u001B[0m     Int32Dtype,\n\u001B[1;32m     55\u001B[0m     Int64Dtype,\n\u001B[1;32m     56\u001B[0m     UInt8Dtype,\n\u001B[1;32m     57\u001B[0m     UInt16Dtype,\n\u001B[1;32m     58\u001B[0m     UInt32Dtype,\n\u001B[1;32m     59\u001B[0m     UInt64Dtype,\n\u001B[1;32m     60\u001B[0m     Float32Dtype,\n\u001B[1;32m     61\u001B[0m     Float64Dtype,\n\u001B[1;32m     62\u001B[0m     CategoricalDtype,\n\u001B[1;32m     63\u001B[0m     PeriodDtype,\n\u001B[1;32m     64\u001B[0m     IntervalDtype,\n\u001B[1;32m     65\u001B[0m     DatetimeTZDtype,\n\u001B[1;32m     66\u001B[0m     StringDtype,\n\u001B[1;32m     67\u001B[0m     BooleanDtype,\n\u001B[1;32m     68\u001B[0m     \u001B[38;5;66;03m# missing\u001B[39;00m\n\u001B[1;32m     69\u001B[0m     NA,\n\u001B[1;32m     70\u001B[0m     isna,\n\u001B[1;32m     71\u001B[0m     isnull,\n\u001B[1;32m     72\u001B[0m     notna,\n\u001B[1;32m     73\u001B[0m     notnull,\n\u001B[1;32m     74\u001B[0m     \u001B[38;5;66;03m# indexes\u001B[39;00m\n\u001B[1;32m     75\u001B[0m     Index,\n\u001B[1;32m     76\u001B[0m     CategoricalIndex,\n\u001B[1;32m     77\u001B[0m     RangeIndex,\n\u001B[1;32m     78\u001B[0m     MultiIndex,\n\u001B[1;32m     79\u001B[0m     IntervalIndex,\n\u001B[1;32m     80\u001B[0m     TimedeltaIndex,\n\u001B[1;32m     81\u001B[0m     DatetimeIndex,\n\u001B[1;32m     82\u001B[0m     PeriodIndex,\n\u001B[1;32m     83\u001B[0m     IndexSlice,\n\u001B[1;32m     84\u001B[0m     \u001B[38;5;66;03m# tseries\u001B[39;00m\n\u001B[1;32m     85\u001B[0m     NaT,\n\u001B[1;32m     86\u001B[0m     Period,\n\u001B[1;32m     87\u001B[0m     period_range,\n\u001B[1;32m     88\u001B[0m     Timedelta,\n\u001B[1;32m     89\u001B[0m     timedelta_range,\n\u001B[1;32m     90\u001B[0m     Timestamp,\n\u001B[1;32m     91\u001B[0m     date_range,\n\u001B[1;32m     92\u001B[0m     bdate_range,\n\u001B[1;32m     93\u001B[0m     Interval,\n\u001B[1;32m     94\u001B[0m     interval_range,\n\u001B[1;32m     95\u001B[0m     DateOffset,\n\u001B[1;32m     96\u001B[0m     \u001B[38;5;66;03m# conversion\u001B[39;00m\n\u001B[1;32m     97\u001B[0m     to_numeric,\n\u001B[1;32m     98\u001B[0m     to_datetime,\n\u001B[1;32m     99\u001B[0m     to_timedelta,\n\u001B[1;32m    100\u001B[0m     \u001B[38;5;66;03m# misc\u001B[39;00m\n\u001B[1;32m    101\u001B[0m     Flags,\n\u001B[1;32m    102\u001B[0m     Grouper,\n\u001B[1;32m    103\u001B[0m     factorize,\n\u001B[1;32m    104\u001B[0m     unique,\n\u001B[1;32m    105\u001B[0m     value_counts,\n\u001B[1;32m    106\u001B[0m     NamedAgg,\n\u001B[1;32m    107\u001B[0m     array,\n\u001B[1;32m    108\u001B[0m     Categorical,\n\u001B[1;32m    109\u001B[0m     set_eng_float_format,\n\u001B[1;32m    110\u001B[0m     Series,\n\u001B[1;32m    111\u001B[0m     DataFrame,\n\u001B[1;32m    112\u001B[0m )\n\u001B[1;32m    114\u001B[0m \u001B[38;5;28;01mfrom\u001B[39;00m\u001B[38;5;250m \u001B[39m\u001B[38;5;21;01mpandas\u001B[39;00m\u001B[38;5;21;01m.\u001B[39;00m\u001B[38;5;21;01mcore\u001B[39;00m\u001B[38;5;21;01m.\u001B[39;00m\u001B[38;5;21;01mdtypes\u001B[39;00m\u001B[38;5;21;01m.\u001B[39;00m\u001B[38;5;21;01mdtypes\u001B[39;00m\u001B[38;5;250m \u001B[39m\u001B[38;5;28;01mimport\u001B[39;00m SparseDtype\n\u001B[1;32m    116\u001B[0m \u001B[38;5;28;01mfrom\u001B[39;00m\u001B[38;5;250m \u001B[39m\u001B[38;5;21;01mpandas\u001B[39;00m\u001B[38;5;21;01m.\u001B[39;00m\u001B[38;5;21;01mtseries\u001B[39;00m\u001B[38;5;21;01m.\u001B[39;00m\u001B[38;5;21;01mapi\u001B[39;00m\u001B[38;5;250m \u001B[39m\u001B[38;5;28;01mimport\u001B[39;00m infer_freq\n",
      "File \u001B[0;32m~/venv/lib/python3.9/site-packages/pandas/core/api.py:1\u001B[0m\n\u001B[0;32m----> 1\u001B[0m \u001B[38;5;28;01mfrom\u001B[39;00m\u001B[38;5;250m \u001B[39m\u001B[38;5;21;01mpandas\u001B[39;00m\u001B[38;5;21;01m.\u001B[39;00m\u001B[38;5;21;01m_libs\u001B[39;00m\u001B[38;5;250m \u001B[39m\u001B[38;5;28;01mimport\u001B[39;00m (\n\u001B[1;32m      2\u001B[0m     NaT,\n\u001B[1;32m      3\u001B[0m     Period,\n\u001B[1;32m      4\u001B[0m     Timedelta,\n\u001B[1;32m      5\u001B[0m     Timestamp,\n\u001B[1;32m      6\u001B[0m )\n\u001B[1;32m      7\u001B[0m \u001B[38;5;28;01mfrom\u001B[39;00m\u001B[38;5;250m \u001B[39m\u001B[38;5;21;01mpandas\u001B[39;00m\u001B[38;5;21;01m.\u001B[39;00m\u001B[38;5;21;01m_libs\u001B[39;00m\u001B[38;5;21;01m.\u001B[39;00m\u001B[38;5;21;01mmissing\u001B[39;00m\u001B[38;5;250m \u001B[39m\u001B[38;5;28;01mimport\u001B[39;00m NA\n\u001B[1;32m      9\u001B[0m \u001B[38;5;28;01mfrom\u001B[39;00m\u001B[38;5;250m \u001B[39m\u001B[38;5;21;01mpandas\u001B[39;00m\u001B[38;5;21;01m.\u001B[39;00m\u001B[38;5;21;01mcore\u001B[39;00m\u001B[38;5;21;01m.\u001B[39;00m\u001B[38;5;21;01mdtypes\u001B[39;00m\u001B[38;5;21;01m.\u001B[39;00m\u001B[38;5;21;01mdtypes\u001B[39;00m\u001B[38;5;250m \u001B[39m\u001B[38;5;28;01mimport\u001B[39;00m (\n\u001B[1;32m     10\u001B[0m     ArrowDtype,\n\u001B[1;32m     11\u001B[0m     CategoricalDtype,\n\u001B[0;32m   (...)\u001B[0m\n\u001B[1;32m     14\u001B[0m     PeriodDtype,\n\u001B[1;32m     15\u001B[0m )\n",
      "File \u001B[0;32m~/venv/lib/python3.9/site-packages/pandas/_libs/__init__.py:18\u001B[0m\n\u001B[1;32m     16\u001B[0m \u001B[38;5;28;01mimport\u001B[39;00m\u001B[38;5;250m \u001B[39m\u001B[38;5;21;01mpandas\u001B[39;00m\u001B[38;5;21;01m.\u001B[39;00m\u001B[38;5;21;01m_libs\u001B[39;00m\u001B[38;5;21;01m.\u001B[39;00m\u001B[38;5;21;01mpandas_parser\u001B[39;00m  \u001B[38;5;66;03m# isort: skip # type: ignore[reportUnusedImport]\u001B[39;00m\n\u001B[1;32m     17\u001B[0m \u001B[38;5;28;01mimport\u001B[39;00m\u001B[38;5;250m \u001B[39m\u001B[38;5;21;01mpandas\u001B[39;00m\u001B[38;5;21;01m.\u001B[39;00m\u001B[38;5;21;01m_libs\u001B[39;00m\u001B[38;5;21;01m.\u001B[39;00m\u001B[38;5;21;01mpandas_datetime\u001B[39;00m  \u001B[38;5;66;03m# noqa: F401 # isort: skip # type: ignore[reportUnusedImport]\u001B[39;00m\n\u001B[0;32m---> 18\u001B[0m \u001B[38;5;28;01mfrom\u001B[39;00m\u001B[38;5;250m \u001B[39m\u001B[38;5;21;01mpandas\u001B[39;00m\u001B[38;5;21;01m.\u001B[39;00m\u001B[38;5;21;01m_libs\u001B[39;00m\u001B[38;5;21;01m.\u001B[39;00m\u001B[38;5;21;01minterval\u001B[39;00m\u001B[38;5;250m \u001B[39m\u001B[38;5;28;01mimport\u001B[39;00m Interval\n\u001B[1;32m     19\u001B[0m \u001B[38;5;28;01mfrom\u001B[39;00m\u001B[38;5;250m \u001B[39m\u001B[38;5;21;01mpandas\u001B[39;00m\u001B[38;5;21;01m.\u001B[39;00m\u001B[38;5;21;01m_libs\u001B[39;00m\u001B[38;5;21;01m.\u001B[39;00m\u001B[38;5;21;01mtslibs\u001B[39;00m\u001B[38;5;250m \u001B[39m\u001B[38;5;28;01mimport\u001B[39;00m (\n\u001B[1;32m     20\u001B[0m     NaT,\n\u001B[1;32m     21\u001B[0m     NaTType,\n\u001B[0;32m   (...)\u001B[0m\n\u001B[1;32m     26\u001B[0m     iNaT,\n\u001B[1;32m     27\u001B[0m )\n",
      "File \u001B[0;32minterval.pyx:1\u001B[0m, in \u001B[0;36minit pandas._libs.interval\u001B[0;34m()\u001B[0m\n",
      "File \u001B[0;32mhashtable.pyx:1\u001B[0m, in \u001B[0;36minit pandas._libs.hashtable\u001B[0;34m()\u001B[0m\n",
      "File \u001B[0;32mmissing.pyx:40\u001B[0m, in \u001B[0;36minit pandas._libs.missing\u001B[0;34m()\u001B[0m\n",
      "\u001B[0;31mAttributeError\u001B[0m: partially initialized module 'pandas' has no attribute '_pandas_datetime_CAPI' (most likely due to a circular import)"
     ]
    }
   ],
   "execution_count": 4
  },
  {
   "metadata": {},
   "cell_type": "code",
   "outputs": [],
   "execution_count": null,
   "source": [
    "df = pd.read_csv('../data/cleaned_dataset.csv')\n",
    "df.info()"
   ],
   "id": "54520cbe69f2b59c"
  },
  {
   "metadata": {},
   "cell_type": "code",
   "outputs": [],
   "execution_count": null,
   "source": [
    "from sklearn.model_selection import train_test_split\n",
    "from sklearn.linear_model import LogisticRegression\n",
    "\n",
    "# Features\n",
    "X = df['Ingredients']\n",
    "y = df[['Combination', 'Dry', 'Normal', 'Oily', 'Sensitive']]"
   ],
   "id": "b5f0d78233bfe05c"
  },
  {
   "metadata": {},
   "cell_type": "code",
   "outputs": [],
   "execution_count": null,
   "source": [
    "# Step 2: Split the data into training and testing sets\n",
    "X_train, X_test, y_train, y_test = train_test_split(X, y, test_size=0.2, random_state=42)"
   ],
   "id": "5060424bf9f6eec2"
  },
  {
   "metadata": {},
   "cell_type": "code",
   "outputs": [],
   "execution_count": null,
   "source": [
    "# Step 3: Initialise and train the Logistic Regression model for multi-class classification\n",
    "model = LogisticRegression(max_iter=1000)\n",
    "model.fit(X_train, y_train)"
   ],
   "id": "a9c840b8f4d3d865"
  },
  {
   "metadata": {},
   "cell_type": "code",
   "outputs": [],
   "execution_count": null,
   "source": [
    "# Step 4: make prediction\n",
    "y_pred = model.predict(X_test)"
   ],
   "id": "8b72171d6b6bf227"
  },
  {
   "metadata": {},
   "cell_type": "code",
   "outputs": [],
   "execution_count": null,
   "source": [
    "from sklearn.metrics import accuracy_score\n",
    "\n",
    "# Step 5: Evaluate the model\n",
    "accuracy = accuracy_score(y_test, y_pred)\n",
    "print(f\"Accuracy: {accuracy * 100:.2f}%\")"
   ],
   "id": "b10fed2ccfb1f760"
  },
  {
   "metadata": {
    "collapsed": true
   },
   "cell_type": "code",
   "outputs": [],
   "execution_count": null,
   "source": [
    "from sklearn.metrics import classification_report\n",
    "\n",
    "# Print a classification report for a detailed evaluation\n",
    "print(classification_report(y_test, y_pred))\n"
   ],
   "id": "initial_id"
  }
 ],
 "metadata": {
  "kernelspec": {
   "display_name": "Python 3",
   "language": "python",
   "name": "python3"
  },
  "language_info": {
   "codemirror_mode": {
    "name": "ipython",
    "version": 2
   },
   "file_extension": ".py",
   "mimetype": "text/x-python",
   "name": "python",
   "nbconvert_exporter": "python",
   "pygments_lexer": "ipython2",
   "version": "2.7.6"
  }
 },
 "nbformat": 4,
 "nbformat_minor": 5
}
