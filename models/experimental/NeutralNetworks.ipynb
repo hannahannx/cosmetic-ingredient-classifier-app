{
 "cells": [
  {
   "cell_type": "markdown",
   "id": "d879cf83d8b29e2c",
   "metadata": {},
   "source": [
    "# Neural Networks\n"
   ]
  },
  {
   "cell_type": "code",
   "execution_count": null,
   "id": "6e40dbe24b5ba160",
   "metadata": {
    "ExecuteTime": {
     "start_time": "2025-05-01T11:21:10.812804Z"
    },
    "jupyter": {
     "is_executing": true
    }
   },
   "outputs": [],
   "source": [
    "import numpy as np\n",
    "import pandas as pd\n",
    "from sklearn.neural_network import MLPClassifier\n",
    "from sklearn.model_selection import train_test_split\n",
    "from sklearn.metrics import classification_report, accuracy_score, confusion_matrix\n",
    "from sklearn.preprocessing import StandardScaler"
   ]
  },
  {
   "cell_type": "code",
   "execution_count": null,
   "id": "82cfe2a42bd5cbf4",
   "metadata": {},
   "outputs": [],
   "source": []
  },
  {
   "metadata": {},
   "cell_type": "markdown",
   "source": "",
   "id": "98b22cb1e1c873ca"
  },
  {
   "cell_type": "code",
   "execution_count": null,
   "id": "08a403d3-bb06-421c-ad0c-e660579603df",
   "metadata": {},
   "outputs": [],
   "source": []
  },
  {
   "cell_type": "code",
   "execution_count": null,
   "id": "c527c65e-17b8-4a2b-9a98-6cc8e1cc3eac",
   "metadata": {},
   "outputs": [],
   "source": []
  },
  {
   "cell_type": "code",
   "execution_count": null,
   "id": "a6906289-eccc-4afb-8514-55f044087654",
   "metadata": {},
   "outputs": [],
   "source": []
  }
 ],
 "metadata": {
  "kernelspec": {
   "display_name": "Python 3 (ipykernel)",
   "language": "python",
   "name": "python3"
  },
  "language_info": {
   "codemirror_mode": {
    "name": "ipython",
    "version": 3
   },
   "file_extension": ".py",
   "mimetype": "text/x-python",
   "name": "python",
   "nbconvert_exporter": "python",
   "pygments_lexer": "ipython3",
   "version": "3.9.6"
  }
 },
 "nbformat": 4,
 "nbformat_minor": 5
}
