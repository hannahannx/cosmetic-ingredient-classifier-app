{
 "cells": [
  {
   "cell_type": "markdown",
   "id": "d879cf83d8b29e2c",
   "metadata": {},
   "source": [
    "# Neural Networks\n"
   ]
  },
  {
   "cell_type": "code",
   "id": "6e40dbe24b5ba160",
   "metadata": {
    "ExecuteTime": {
     "end_time": "2025-05-08T07:23:15.082372Z",
     "start_time": "2025-05-08T07:23:15.072190Z"
    }
   },
   "source": [
    "import numpy as np\n",
    "import pandas as pd\n",
    "from sklearn.neural_network import MLPClassifier\n",
    "from sklearn.model_selection import train_test_split, cross_val_score\n",
    "from sklearn.metrics import classification_report, accuracy_score, confusion_matrix\n",
    "from sklearn.preprocessing import StandardScaler\n",
    "from sklearn.feature_extraction.text import TfidfVectorizer\n",
    "from sklearn.pipeline import make_pipeline\n",
    "from sklearn.metrics import precision_score, recall_score, multilabel_confusion_matrix"
   ],
   "outputs": [],
   "execution_count": 98
  },
  {
   "metadata": {},
   "cell_type": "markdown",
   "source": "## Load Files",
   "id": "a46fbd8b025d3a47"
  },
  {
   "cell_type": "code",
   "id": "82cfe2a42bd5cbf4",
   "metadata": {
    "ExecuteTime": {
     "end_time": "2025-05-08T07:23:15.138301Z",
     "start_time": "2025-05-08T07:23:15.093383Z"
    }
   },
   "source": [
    "df = pd.read_csv('/Users/hannah-ann/PycharmProjects/cosmetic-ingredient-classifier-app/data/cleaned/cleaned_dataset.csv')\n",
    "df.info()"
   ],
   "outputs": [
    {
     "name": "stdout",
     "output_type": "stream",
     "text": [
      "<class 'pandas.core.frame.DataFrame'>\n",
      "RangeIndex: 763 entries, 0 to 762\n",
      "Data columns (total 6 columns):\n",
      " #   Column       Non-Null Count  Dtype \n",
      "---  ------       --------------  ----- \n",
      " 0   Ingredients  763 non-null    object\n",
      " 1   Combination  763 non-null    int64 \n",
      " 2   Dry          763 non-null    int64 \n",
      " 3   Normal       763 non-null    int64 \n",
      " 4   Oily         763 non-null    int64 \n",
      " 5   Sensitive    763 non-null    int64 \n",
      "dtypes: int64(5), object(1)\n",
      "memory usage: 35.9+ KB\n"
     ]
    }
   ],
   "execution_count": 99
  },
  {
   "cell_type": "markdown",
   "id": "98b22cb1e1c873ca",
   "metadata": {},
   "source": "## Prepare Data - Feature Extraction Vectorise"
  },
  {
   "cell_type": "code",
   "id": "08a403d3-bb06-421c-ad0c-e660579603df",
   "metadata": {
    "ExecuteTime": {
     "end_time": "2025-05-08T07:23:15.309400Z",
     "start_time": "2025-05-08T07:23:15.214486Z"
    }
   },
   "source": [
    "vectorizer = TfidfVectorizer()\n",
    "X = vectorizer.fit_transform(df['Ingredients'])\n",
    "y = df[['Combination', 'Dry', 'Normal', 'Oily', 'Sensitive']]"
   ],
   "outputs": [],
   "execution_count": 100
  },
  {
   "metadata": {},
   "cell_type": "markdown",
   "source": "## Split Data",
   "id": "a34c00dfaafc8a39"
  },
  {
   "cell_type": "code",
   "id": "c527c65e-17b8-4a2b-9a98-6cc8e1cc3eac",
   "metadata": {
    "ExecuteTime": {
     "end_time": "2025-05-08T07:23:15.342655Z",
     "start_time": "2025-05-08T07:23:15.334957Z"
    }
   },
   "source": "X_train, X_test, y_train, y_test = train_test_split(X, y, test_size=0.2, random_state=42)",
   "outputs": [],
   "execution_count": 101
  },
  {
   "metadata": {},
   "cell_type": "markdown",
   "source": "## Train Classifier Model",
   "id": "456d2f96212cd89a"
  },
  {
   "cell_type": "code",
   "id": "a6906289-eccc-4afb-8514-55f044087654",
   "metadata": {
    "ExecuteTime": {
     "end_time": "2025-05-08T07:23:24.615783Z",
     "start_time": "2025-05-08T07:23:15.371567Z"
    }
   },
   "source": [
    "# Create the Neural Network Model\n",
    "model  = make_pipeline(\n",
    "    StandardScaler(with_mean=False),\n",
    "    MLPClassifier(activation=\"relu\",hidden_layer_sizes=(64, 32), max_iter=1000, random_state=42))\n",
    "\n",
    "model.fit(X_train, y_train)\n",
    "\n",
    "# k-FOLD CORSS VALIDATION\n",
    "scores = cross_val_score(model, X, y, cv=5)\n",
    "\n",
    "print(\"Cross validation :\",scores)\n",
    "average_accuracy = np.mean(scores)\n",
    "print(\"Average accuracy :\",average_accuracy)"
   ],
   "outputs": [
    {
     "name": "stdout",
     "output_type": "stream",
     "text": [
      "Cross validation : [0.5751634  0.5751634  0.67973856 0.67105263 0.63157895]\n",
      "Average accuracy : 0.6265393876848986\n"
     ]
    }
   ],
   "execution_count": 102
  },
  {
   "metadata": {
    "ExecuteTime": {
     "end_time": "2025-05-08T07:23:24.761371Z",
     "start_time": "2025-05-08T07:23:24.751056Z"
    }
   },
   "cell_type": "code",
   "source": "y_pred = model.predict(X_test)",
   "id": "d08779689ac86742",
   "outputs": [],
   "execution_count": 103
  },
  {
   "metadata": {
    "ExecuteTime": {
     "end_time": "2025-05-08T07:23:24.901200Z",
     "start_time": "2025-05-08T07:23:24.852696Z"
    }
   },
   "cell_type": "code",
   "source": [
    "# Calculate the accuracy of the model\n",
    "accuracy = accuracy_score(y_test, y_pred,normalize=True)\n",
    "print(f\"Accuracy: {accuracy}\")\n",
    "\n",
    "# Calculate the precision of the model\n",
    "precision = precision_score(y_test, y_pred,average='weighted')\n",
    "print(f\"Precision: {precision}\")\n",
    "\n",
    "# Calculate to recall fo the model07986r-00-\n",
    "recall = recall_score(y_test, y_pred,average='micro')\n",
    "\n",
    "print(f\"Recall: {recall}\")\n",
    "\n",
    "\n",
    "# multi label confusion matrix\n",
    "confusion_matrix = multilabel_confusion_matrix(y_test, y_pred)\n",
    "print(confusion_matrix)\n",
    "\n",
    "report = classification_report(y_test, y_pred,target_names=['Combination', 'Dry', 'Normal', 'Oily', 'Sensitive'])\n",
    "print(report)\n"
   ],
   "id": "5ec6d874e8c7e5b8",
   "outputs": [
    {
     "name": "stdout",
     "output_type": "stream",
     "text": [
      "Accuracy: 0.6339869281045751\n",
      "Precision: 0.9277031319836562\n",
      "Recall: 0.9728958630527818\n",
      "[[[  0   1]\n",
      "  [  0 152]]\n",
      "\n",
      " [[  2  10]\n",
      "  [  2 139]]\n",
      "\n",
      " [[  0   2]\n",
      "  [  0 151]]\n",
      "\n",
      " [[  0  16]\n",
      "  [  3 134]]\n",
      "\n",
      " [[  7  26]\n",
      "  [ 14 106]]]\n",
      "              precision    recall  f1-score   support\n",
      "\n",
      " Combination       0.99      1.00      1.00       152\n",
      "         Dry       0.93      0.99      0.96       141\n",
      "      Normal       0.99      1.00      0.99       151\n",
      "        Oily       0.89      0.98      0.93       137\n",
      "   Sensitive       0.80      0.88      0.84       120\n",
      "\n",
      "   micro avg       0.93      0.97      0.95       701\n",
      "   macro avg       0.92      0.97      0.94       701\n",
      "weighted avg       0.93      0.97      0.95       701\n",
      " samples avg       0.93      0.97      0.94       701\n",
      "\n"
     ]
    }
   ],
   "execution_count": 104
  }
 ],
 "metadata": {
  "kernelspec": {
   "display_name": "Python 3 (ipykernel)",
   "language": "python",
   "name": "python3"
  },
  "language_info": {
   "codemirror_mode": {
    "name": "ipython",
    "version": 3
   },
   "file_extension": ".py",
   "mimetype": "text/x-python",
   "name": "python",
   "nbconvert_exporter": "python",
   "pygments_lexer": "ipython3",
   "version": "3.9.6"
  }
 },
 "nbformat": 4,
 "nbformat_minor": 5
}
