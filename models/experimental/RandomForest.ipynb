{
 "cells": [
  {
   "metadata": {},
   "cell_type": "markdown",
   "source": "# Random Forest",
   "id": "cd0d04781351f1a8"
  },
  {
   "metadata": {
    "collapsed": true,
    "ExecuteTime": {
     "end_time": "2025-05-08T08:55:43.903334Z",
     "start_time": "2025-05-08T08:55:43.893825Z"
    }
   },
   "cell_type": "code",
   "source": [
    "import pandas as pd\n",
    "import numpy as np\n",
    "from sklearn.feature_extraction.text import TfidfVectorizer\n",
    "from sklearn.ensemble import RandomForestClassifier\n",
    "from sklearn.model_selection import train_test_split, cross_val_score\n",
    "from sklearn.metrics import accuracy_score, classification_report, multilabel_confusion_matrix\n",
    "from sklearn.pipeline import make_pipeline\n",
    "from sklearn.preprocessing import StandardScaler\n"
   ],
   "id": "initial_id",
   "outputs": [],
   "execution_count": 20
  },
  {
   "metadata": {},
   "cell_type": "markdown",
   "source": "## Load Files",
   "id": "a500d1e2be961270"
  },
  {
   "metadata": {
    "ExecuteTime": {
     "end_time": "2025-05-08T08:55:43.948787Z",
     "start_time": "2025-05-08T08:55:43.910832Z"
    }
   },
   "cell_type": "code",
   "source": [
    "df = pd.read_csv('/Users/hannah-ann/PycharmProjects/cosmetic-ingredient-classifier-app/data/cleaned/cleaned_dataset.csv')\n",
    "df.info()"
   ],
   "id": "4fbc6c30c3e79af6",
   "outputs": [
    {
     "name": "stdout",
     "output_type": "stream",
     "text": [
      "<class 'pandas.core.frame.DataFrame'>\n",
      "RangeIndex: 763 entries, 0 to 762\n",
      "Data columns (total 6 columns):\n",
      " #   Column       Non-Null Count  Dtype \n",
      "---  ------       --------------  ----- \n",
      " 0   Ingredients  763 non-null    object\n",
      " 1   Combination  763 non-null    int64 \n",
      " 2   Dry          763 non-null    int64 \n",
      " 3   Normal       763 non-null    int64 \n",
      " 4   Oily         763 non-null    int64 \n",
      " 5   Sensitive    763 non-null    int64 \n",
      "dtypes: int64(5), object(1)\n",
      "memory usage: 35.9+ KB\n"
     ]
    }
   ],
   "execution_count": 21
  },
  {
   "metadata": {},
   "cell_type": "markdown",
   "source": "## Prepare Data - Feature Extraction Vectorise",
   "id": "8fdf702167b11089"
  },
  {
   "metadata": {
    "ExecuteTime": {
     "end_time": "2025-05-08T08:55:44.075447Z",
     "start_time": "2025-05-08T08:55:43.981835Z"
    }
   },
   "cell_type": "code",
   "source": [
    "vectorizer = TfidfVectorizer()\n",
    "X = vectorizer.fit_transform(df['Ingredients'])\n",
    "y = df[['Combination', 'Dry', 'Normal', 'Oily', 'Sensitive']]"
   ],
   "id": "bb289a66dea188",
   "outputs": [],
   "execution_count": 22
  },
  {
   "metadata": {},
   "cell_type": "markdown",
   "source": "## Split Data",
   "id": "657d53dcec6b1044"
  },
  {
   "metadata": {
    "ExecuteTime": {
     "end_time": "2025-05-08T08:55:44.103241Z",
     "start_time": "2025-05-08T08:55:44.095775Z"
    }
   },
   "cell_type": "code",
   "source": [
    "# Split the data (80% training, 20% test)\n",
    "X_train, X_test, y_train, y_test = train_test_split(X, y, test_size=0.2, random_state=36)\n"
   ],
   "id": "8c7dba4b15598b60",
   "outputs": [],
   "execution_count": 23
  },
  {
   "metadata": {},
   "cell_type": "markdown",
   "source": "## Train Classifier Model",
   "id": "3bb5f3c1a5e39440"
  },
  {
   "metadata": {
    "ExecuteTime": {
     "end_time": "2025-05-08T08:55:49.388862Z",
     "start_time": "2025-05-08T08:55:44.126616Z"
    }
   },
   "cell_type": "code",
   "source": [
    "# Create the Random Forest Classifier model\n",
    "model = make_pipeline(\n",
    "    StandardScaler(with_mean=False),\n",
    "    RandomForestClassifier(random_state=42, class_weight='balanced'))\n",
    "# Train the model on the training data\n",
    "model.fit(X_train, y_train)\n",
    "\n",
    "# k-FOLD CORSS VALIDATION\n",
    "scores = cross_val_score(model, X, y, cv=5)\n",
    "\n",
    "print(\"Cross validation :\",scores)\n",
    "average_accuracy = np.mean(scores)\n",
    "print(\"Average accuracy :\",scores.mean())"
   ],
   "id": "414dcee99fe76a2f",
   "outputs": [
    {
     "name": "stdout",
     "output_type": "stream",
     "text": [
      "Cross validation : [0.58823529 0.62745098 0.67973856 0.76315789 0.69078947]\n",
      "Average accuracy : 0.669874441004472\n"
     ]
    }
   ],
   "execution_count": 24
  },
  {
   "metadata": {
    "ExecuteTime": {
     "end_time": "2025-05-08T08:55:49.454825Z",
     "start_time": "2025-05-08T08:55:49.417626Z"
    }
   },
   "cell_type": "code",
   "source": "model.score(X_test, y_test)",
   "id": "218f05bc25e979a5",
   "outputs": [
    {
     "data": {
      "text/plain": [
       "0.7320261437908496"
      ]
     },
     "execution_count": 25,
     "metadata": {},
     "output_type": "execute_result"
    }
   ],
   "execution_count": 25
  },
  {
   "metadata": {},
   "cell_type": "markdown",
   "source": "## Evaluation Metric",
   "id": "970cb082b66347ec"
  },
  {
   "metadata": {
    "ExecuteTime": {
     "end_time": "2025-05-08T08:55:49.552758Z",
     "start_time": "2025-05-08T08:55:49.496022Z"
    }
   },
   "cell_type": "code",
   "source": [
    "from sklearn.metrics import precision_score, recall_score ,multilabel_confusion_matrix\n",
    "\n",
    "# predictions on the test set\n",
    "y_pred = model.predict(X_test)\n",
    "\n",
    "# Calculate the accuracy of the model\n",
    "accuracy = accuracy_score(y_test, y_pred,normalize=True)\n",
    "print(f\"Accuracy: {accuracy}\")\n",
    "\n",
    "# Calculate the precision of the model\n",
    "precision = precision_score(y_test, y_pred,average='weighted')\n",
    "print(f\"Precision: {precision}\")\n",
    "\n",
    "# Calculate to recall fo the model07986r-00-\n",
    "recall = recall_score(y_test, y_pred,average='micro')\n",
    "\n",
    "print(f\"Recall: {recall}\")\n",
    "\n",
    "\n",
    "# multi label confusion matrix\n",
    "confusion_matrix = multilabel_confusion_matrix(y_test, y_pred)\n",
    "print(confusion_matrix)\n",
    "\n",
    "report = classification_report(y_test, y_pred,target_names=['Combination', 'Dry', 'Normal', 'Oily', 'Sensitive'])\n",
    "print(report)\n"
   ],
   "id": "dc2680ccefd8ae68",
   "outputs": [
    {
     "name": "stdout",
     "output_type": "stream",
     "text": [
      "Accuracy: 0.7320261437908496\n",
      "Precision: 0.9257626745175361\n",
      "Recall: 0.9942938659058488\n",
      "[[[  0   2]\n",
      "  [  0 151]]\n",
      "\n",
      " [[  1  11]\n",
      "  [  1 140]]\n",
      "\n",
      " [[  1   7]\n",
      "  [  0 145]]\n",
      "\n",
      " [[  0  10]\n",
      "  [  1 142]]\n",
      "\n",
      " [[  3  29]\n",
      "  [  2 119]]]\n",
      "              precision    recall  f1-score   support\n",
      "\n",
      " Combination       0.99      1.00      0.99       151\n",
      "         Dry       0.93      0.99      0.96       141\n",
      "      Normal       0.95      1.00      0.98       145\n",
      "        Oily       0.93      0.99      0.96       143\n",
      "   Sensitive       0.80      0.98      0.88       121\n",
      "\n",
      "   micro avg       0.92      0.99      0.96       701\n",
      "   macro avg       0.92      0.99      0.96       701\n",
      "weighted avg       0.93      0.99      0.96       701\n",
      " samples avg       0.92      0.99      0.95       701\n",
      "\n"
     ]
    }
   ],
   "execution_count": 26
  }
 ],
 "metadata": {
  "kernelspec": {
   "display_name": "Python 3",
   "language": "python",
   "name": "python3"
  },
  "language_info": {
   "codemirror_mode": {
    "name": "ipython",
    "version": 2
   },
   "file_extension": ".py",
   "mimetype": "text/x-python",
   "name": "python",
   "nbconvert_exporter": "python",
   "pygments_lexer": "ipython2",
   "version": "2.7.6"
  }
 },
 "nbformat": 4,
 "nbformat_minor": 5
}
