{
 "cells": [
  {
   "cell_type": "markdown",
   "id": "e7f6742afdbbeaef",
   "metadata": {},
   "source": [
    "# Data Cleaning  "
   ]
  },
  {
   "cell_type": "markdown",
   "id": "9f22806f03cb8c31",
   "metadata": {},
   "source": [
    "## Load and Present Data"
   ]
  },
  {
   "cell_type": "code",
   "id": "initial_id",
   "metadata": {
    "ExecuteTime": {
     "end_time": "2025-03-21T11:54:29.715734Z",
     "start_time": "2025-03-21T11:54:25.941638Z"
    }
   },
   "source": [
    "import pandas as pd\n",
    "%matplotlib\n"
   ],
   "outputs": [
    {
     "name": "stdout",
     "output_type": "stream",
     "text": [
      "Requirement already satisfied: pandas in /Users/hannah-ann/venv/lib/python3.9/site-packages (2.2.3)\r\n",
      "Requirement already satisfied: numpy>=1.22.4 in /Users/hannah-ann/venv/lib/python3.9/site-packages (from pandas) (1.26.4)\r\n",
      "Requirement already satisfied: python-dateutil>=2.8.2 in /Users/hannah-ann/venv/lib/python3.9/site-packages (from pandas) (2.9.0.post0)\r\n",
      "Requirement already satisfied: pytz>=2020.1 in /Users/hannah-ann/venv/lib/python3.9/site-packages (from pandas) (2024.2)\r\n",
      "Requirement already satisfied: tzdata>=2022.7 in /Users/hannah-ann/venv/lib/python3.9/site-packages (from pandas) (2024.2)\r\n",
      "Requirement already satisfied: six>=1.5 in /Users/hannah-ann/venv/lib/python3.9/site-packages (from python-dateutil>=2.8.2->pandas) (1.16.0)\r\n"
     ]
    },
    {
     "ename": "AttributeError",
     "evalue": "partially initialized module 'pandas' has no attribute '_pandas_parser_CAPI' (most likely due to a circular import)",
     "output_type": "error",
     "traceback": [
      "\u001B[0;31m---------------------------------------------------------------------------\u001B[0m",
      "\u001B[0;31mAttributeError\u001B[0m                            Traceback (most recent call last)",
      "Cell \u001B[0;32mIn[28], line 2\u001B[0m\n\u001B[1;32m      1\u001B[0m get_ipython()\u001B[38;5;241m.\u001B[39msystem(\u001B[38;5;124m'\u001B[39m\u001B[38;5;124mpip install pandas\u001B[39m\u001B[38;5;124m'\u001B[39m)\n\u001B[0;32m----> 2\u001B[0m \u001B[38;5;28;01mimport\u001B[39;00m\u001B[38;5;250m \u001B[39m\u001B[38;5;21;01mpandas\u001B[39;00m\u001B[38;5;250m \u001B[39m\u001B[38;5;28;01mas\u001B[39;00m\u001B[38;5;250m \u001B[39m\u001B[38;5;21;01mpd\u001B[39;00m\n\u001B[1;32m      3\u001B[0m get_ipython()\u001B[38;5;241m.\u001B[39mrun_line_magic(\u001B[38;5;124m'\u001B[39m\u001B[38;5;124mmatplotlib\u001B[39m\u001B[38;5;124m'\u001B[39m, \u001B[38;5;124m'\u001B[39m\u001B[38;5;124m'\u001B[39m)\n",
      "File \u001B[0;32m~/venv/lib/python3.9/site-packages/pandas/__init__.py:138\u001B[0m\n\u001B[1;32m    119\u001B[0m \u001B[38;5;28;01mfrom\u001B[39;00m\u001B[38;5;250m \u001B[39m\u001B[38;5;21;01mpandas\u001B[39;00m\u001B[38;5;21;01m.\u001B[39;00m\u001B[38;5;21;01mcore\u001B[39;00m\u001B[38;5;21;01m.\u001B[39;00m\u001B[38;5;21;01mcomputation\u001B[39;00m\u001B[38;5;21;01m.\u001B[39;00m\u001B[38;5;21;01mapi\u001B[39;00m\u001B[38;5;250m \u001B[39m\u001B[38;5;28;01mimport\u001B[39;00m \u001B[38;5;28meval\u001B[39m\n\u001B[1;32m    121\u001B[0m \u001B[38;5;28;01mfrom\u001B[39;00m\u001B[38;5;250m \u001B[39m\u001B[38;5;21;01mpandas\u001B[39;00m\u001B[38;5;21;01m.\u001B[39;00m\u001B[38;5;21;01mcore\u001B[39;00m\u001B[38;5;21;01m.\u001B[39;00m\u001B[38;5;21;01mreshape\u001B[39;00m\u001B[38;5;21;01m.\u001B[39;00m\u001B[38;5;21;01mapi\u001B[39;00m\u001B[38;5;250m \u001B[39m\u001B[38;5;28;01mimport\u001B[39;00m (\n\u001B[1;32m    122\u001B[0m     concat,\n\u001B[1;32m    123\u001B[0m     lreshape,\n\u001B[0;32m   (...)\u001B[0m\n\u001B[1;32m    135\u001B[0m     qcut,\n\u001B[1;32m    136\u001B[0m )\n\u001B[0;32m--> 138\u001B[0m \u001B[38;5;28;01mfrom\u001B[39;00m\u001B[38;5;250m \u001B[39m\u001B[38;5;21;01mpandas\u001B[39;00m\u001B[38;5;250m \u001B[39m\u001B[38;5;28;01mimport\u001B[39;00m api, arrays, errors, io, plotting, tseries\n\u001B[1;32m    139\u001B[0m \u001B[38;5;28;01mfrom\u001B[39;00m\u001B[38;5;250m \u001B[39m\u001B[38;5;21;01mpandas\u001B[39;00m\u001B[38;5;250m \u001B[39m\u001B[38;5;28;01mimport\u001B[39;00m testing\n\u001B[1;32m    140\u001B[0m \u001B[38;5;28;01mfrom\u001B[39;00m\u001B[38;5;250m \u001B[39m\u001B[38;5;21;01mpandas\u001B[39;00m\u001B[38;5;21;01m.\u001B[39;00m\u001B[38;5;21;01mutil\u001B[39;00m\u001B[38;5;21;01m.\u001B[39;00m\u001B[38;5;21;01m_print_versions\u001B[39;00m\u001B[38;5;250m \u001B[39m\u001B[38;5;28;01mimport\u001B[39;00m show_versions\n",
      "File \u001B[0;32m~/venv/lib/python3.9/site-packages/pandas/api/__init__.py:2\u001B[0m\n\u001B[1;32m      1\u001B[0m \u001B[38;5;124;03m\"\"\" public toolkit API \"\"\"\u001B[39;00m\n\u001B[0;32m----> 2\u001B[0m \u001B[38;5;28;01mfrom\u001B[39;00m\u001B[38;5;250m \u001B[39m\u001B[38;5;21;01mpandas\u001B[39;00m\u001B[38;5;21;01m.\u001B[39;00m\u001B[38;5;21;01mapi\u001B[39;00m\u001B[38;5;250m \u001B[39m\u001B[38;5;28;01mimport\u001B[39;00m (\n\u001B[1;32m      3\u001B[0m     extensions,\n\u001B[1;32m      4\u001B[0m     indexers,\n\u001B[1;32m      5\u001B[0m     interchange,\n\u001B[1;32m      6\u001B[0m     types,\n\u001B[1;32m      7\u001B[0m     typing,\n\u001B[1;32m      8\u001B[0m )\n\u001B[1;32m     10\u001B[0m __all__ \u001B[38;5;241m=\u001B[39m [\n\u001B[1;32m     11\u001B[0m     \u001B[38;5;124m\"\u001B[39m\u001B[38;5;124minterchange\u001B[39m\u001B[38;5;124m\"\u001B[39m,\n\u001B[1;32m     12\u001B[0m     \u001B[38;5;124m\"\u001B[39m\u001B[38;5;124mextensions\u001B[39m\u001B[38;5;124m\"\u001B[39m,\n\u001B[0;32m   (...)\u001B[0m\n\u001B[1;32m     15\u001B[0m     \u001B[38;5;124m\"\u001B[39m\u001B[38;5;124mtyping\u001B[39m\u001B[38;5;124m\"\u001B[39m,\n\u001B[1;32m     16\u001B[0m ]\n",
      "File \u001B[0;32m~/venv/lib/python3.9/site-packages/pandas/api/typing/__init__.py:31\u001B[0m\n\u001B[1;32m     19\u001B[0m \u001B[38;5;28;01mfrom\u001B[39;00m\u001B[38;5;250m \u001B[39m\u001B[38;5;21;01mpandas\u001B[39;00m\u001B[38;5;21;01m.\u001B[39;00m\u001B[38;5;21;01mcore\u001B[39;00m\u001B[38;5;21;01m.\u001B[39;00m\u001B[38;5;21;01mwindow\u001B[39;00m\u001B[38;5;250m \u001B[39m\u001B[38;5;28;01mimport\u001B[39;00m (\n\u001B[1;32m     20\u001B[0m     Expanding,\n\u001B[1;32m     21\u001B[0m     ExpandingGroupby,\n\u001B[0;32m   (...)\u001B[0m\n\u001B[1;32m     26\u001B[0m     Window,\n\u001B[1;32m     27\u001B[0m )\n\u001B[1;32m     29\u001B[0m \u001B[38;5;66;03m# TODO: Can't import Styler without importing jinja2\u001B[39;00m\n\u001B[1;32m     30\u001B[0m \u001B[38;5;66;03m# from pandas.io.formats.style import Styler\u001B[39;00m\n\u001B[0;32m---> 31\u001B[0m \u001B[38;5;28;01mfrom\u001B[39;00m\u001B[38;5;250m \u001B[39m\u001B[38;5;21;01mpandas\u001B[39;00m\u001B[38;5;21;01m.\u001B[39;00m\u001B[38;5;21;01mio\u001B[39;00m\u001B[38;5;21;01m.\u001B[39;00m\u001B[38;5;21;01mjson\u001B[39;00m\u001B[38;5;21;01m.\u001B[39;00m\u001B[38;5;21;01m_json\u001B[39;00m\u001B[38;5;250m \u001B[39m\u001B[38;5;28;01mimport\u001B[39;00m JsonReader\n\u001B[1;32m     32\u001B[0m \u001B[38;5;28;01mfrom\u001B[39;00m\u001B[38;5;250m \u001B[39m\u001B[38;5;21;01mpandas\u001B[39;00m\u001B[38;5;21;01m.\u001B[39;00m\u001B[38;5;21;01mio\u001B[39;00m\u001B[38;5;21;01m.\u001B[39;00m\u001B[38;5;21;01mstata\u001B[39;00m\u001B[38;5;250m \u001B[39m\u001B[38;5;28;01mimport\u001B[39;00m StataReader\n\u001B[1;32m     34\u001B[0m __all__ \u001B[38;5;241m=\u001B[39m [\n\u001B[1;32m     35\u001B[0m     \u001B[38;5;124m\"\u001B[39m\u001B[38;5;124mDataFrameGroupBy\u001B[39m\u001B[38;5;124m\"\u001B[39m,\n\u001B[1;32m     36\u001B[0m     \u001B[38;5;124m\"\u001B[39m\u001B[38;5;124mDatetimeIndexResamplerGroupby\u001B[39m\u001B[38;5;124m\"\u001B[39m,\n\u001B[0;32m   (...)\u001B[0m\n\u001B[1;32m     54\u001B[0m     \u001B[38;5;124m\"\u001B[39m\u001B[38;5;124mWindow\u001B[39m\u001B[38;5;124m\"\u001B[39m,\n\u001B[1;32m     55\u001B[0m ]\n",
      "File \u001B[0;32m~/venv/lib/python3.9/site-packages/pandas/io/json/__init__.py:1\u001B[0m\n\u001B[0;32m----> 1\u001B[0m \u001B[38;5;28;01mfrom\u001B[39;00m\u001B[38;5;250m \u001B[39m\u001B[38;5;21;01mpandas\u001B[39;00m\u001B[38;5;21;01m.\u001B[39;00m\u001B[38;5;21;01mio\u001B[39;00m\u001B[38;5;21;01m.\u001B[39;00m\u001B[38;5;21;01mjson\u001B[39;00m\u001B[38;5;21;01m.\u001B[39;00m\u001B[38;5;21;01m_json\u001B[39;00m\u001B[38;5;250m \u001B[39m\u001B[38;5;28;01mimport\u001B[39;00m (\n\u001B[1;32m      2\u001B[0m     read_json,\n\u001B[1;32m      3\u001B[0m     to_json,\n\u001B[1;32m      4\u001B[0m     ujson_dumps,\n\u001B[1;32m      5\u001B[0m     ujson_loads,\n\u001B[1;32m      6\u001B[0m )\n\u001B[1;32m      7\u001B[0m \u001B[38;5;28;01mfrom\u001B[39;00m\u001B[38;5;250m \u001B[39m\u001B[38;5;21;01mpandas\u001B[39;00m\u001B[38;5;21;01m.\u001B[39;00m\u001B[38;5;21;01mio\u001B[39;00m\u001B[38;5;21;01m.\u001B[39;00m\u001B[38;5;21;01mjson\u001B[39;00m\u001B[38;5;21;01m.\u001B[39;00m\u001B[38;5;21;01m_table_schema\u001B[39;00m\u001B[38;5;250m \u001B[39m\u001B[38;5;28;01mimport\u001B[39;00m build_table_schema\n\u001B[1;32m      9\u001B[0m __all__ \u001B[38;5;241m=\u001B[39m [\n\u001B[1;32m     10\u001B[0m     \u001B[38;5;124m\"\u001B[39m\u001B[38;5;124mujson_dumps\u001B[39m\u001B[38;5;124m\"\u001B[39m,\n\u001B[1;32m     11\u001B[0m     \u001B[38;5;124m\"\u001B[39m\u001B[38;5;124mujson_loads\u001B[39m\u001B[38;5;124m\"\u001B[39m,\n\u001B[0;32m   (...)\u001B[0m\n\u001B[1;32m     14\u001B[0m     \u001B[38;5;124m\"\u001B[39m\u001B[38;5;124mbuild_table_schema\u001B[39m\u001B[38;5;124m\"\u001B[39m,\n\u001B[1;32m     15\u001B[0m ]\n",
      "File \u001B[0;32m~/venv/lib/python3.9/site-packages/pandas/io/json/_json.py:71\u001B[0m\n\u001B[1;32m     66\u001B[0m \u001B[38;5;28;01mfrom\u001B[39;00m\u001B[38;5;250m \u001B[39m\u001B[38;5;21;01mpandas\u001B[39;00m\u001B[38;5;21;01m.\u001B[39;00m\u001B[38;5;21;01mio\u001B[39;00m\u001B[38;5;21;01m.\u001B[39;00m\u001B[38;5;21;01mjson\u001B[39;00m\u001B[38;5;21;01m.\u001B[39;00m\u001B[38;5;21;01m_normalize\u001B[39;00m\u001B[38;5;250m \u001B[39m\u001B[38;5;28;01mimport\u001B[39;00m convert_to_line_delimits\n\u001B[1;32m     67\u001B[0m \u001B[38;5;28;01mfrom\u001B[39;00m\u001B[38;5;250m \u001B[39m\u001B[38;5;21;01mpandas\u001B[39;00m\u001B[38;5;21;01m.\u001B[39;00m\u001B[38;5;21;01mio\u001B[39;00m\u001B[38;5;21;01m.\u001B[39;00m\u001B[38;5;21;01mjson\u001B[39;00m\u001B[38;5;21;01m.\u001B[39;00m\u001B[38;5;21;01m_table_schema\u001B[39;00m\u001B[38;5;250m \u001B[39m\u001B[38;5;28;01mimport\u001B[39;00m (\n\u001B[1;32m     68\u001B[0m     build_table_schema,\n\u001B[1;32m     69\u001B[0m     parse_table_schema,\n\u001B[1;32m     70\u001B[0m )\n\u001B[0;32m---> 71\u001B[0m \u001B[38;5;28;01mfrom\u001B[39;00m\u001B[38;5;250m \u001B[39m\u001B[38;5;21;01mpandas\u001B[39;00m\u001B[38;5;21;01m.\u001B[39;00m\u001B[38;5;21;01mio\u001B[39;00m\u001B[38;5;21;01m.\u001B[39;00m\u001B[38;5;21;01mparsers\u001B[39;00m\u001B[38;5;21;01m.\u001B[39;00m\u001B[38;5;21;01mreaders\u001B[39;00m\u001B[38;5;250m \u001B[39m\u001B[38;5;28;01mimport\u001B[39;00m validate_integer\n\u001B[1;32m     73\u001B[0m \u001B[38;5;28;01mif\u001B[39;00m TYPE_CHECKING:\n\u001B[1;32m     74\u001B[0m     \u001B[38;5;28;01mfrom\u001B[39;00m\u001B[38;5;250m \u001B[39m\u001B[38;5;21;01mcollections\u001B[39;00m\u001B[38;5;21;01m.\u001B[39;00m\u001B[38;5;21;01mabc\u001B[39;00m\u001B[38;5;250m \u001B[39m\u001B[38;5;28;01mimport\u001B[39;00m (\n\u001B[1;32m     75\u001B[0m         Hashable,\n\u001B[1;32m     76\u001B[0m         Mapping,\n\u001B[1;32m     77\u001B[0m     )\n",
      "File \u001B[0;32m~/venv/lib/python3.9/site-packages/pandas/io/parsers/__init__.py:1\u001B[0m\n\u001B[0;32m----> 1\u001B[0m \u001B[38;5;28;01mfrom\u001B[39;00m\u001B[38;5;250m \u001B[39m\u001B[38;5;21;01mpandas\u001B[39;00m\u001B[38;5;21;01m.\u001B[39;00m\u001B[38;5;21;01mio\u001B[39;00m\u001B[38;5;21;01m.\u001B[39;00m\u001B[38;5;21;01mparsers\u001B[39;00m\u001B[38;5;21;01m.\u001B[39;00m\u001B[38;5;21;01mreaders\u001B[39;00m\u001B[38;5;250m \u001B[39m\u001B[38;5;28;01mimport\u001B[39;00m (\n\u001B[1;32m      2\u001B[0m     TextFileReader,\n\u001B[1;32m      3\u001B[0m     TextParser,\n\u001B[1;32m      4\u001B[0m     read_csv,\n\u001B[1;32m      5\u001B[0m     read_fwf,\n\u001B[1;32m      6\u001B[0m     read_table,\n\u001B[1;32m      7\u001B[0m )\n\u001B[1;32m      9\u001B[0m __all__ \u001B[38;5;241m=\u001B[39m [\u001B[38;5;124m\"\u001B[39m\u001B[38;5;124mTextFileReader\u001B[39m\u001B[38;5;124m\"\u001B[39m, \u001B[38;5;124m\"\u001B[39m\u001B[38;5;124mTextParser\u001B[39m\u001B[38;5;124m\"\u001B[39m, \u001B[38;5;124m\"\u001B[39m\u001B[38;5;124mread_csv\u001B[39m\u001B[38;5;124m\"\u001B[39m, \u001B[38;5;124m\"\u001B[39m\u001B[38;5;124mread_fwf\u001B[39m\u001B[38;5;124m\"\u001B[39m, \u001B[38;5;124m\"\u001B[39m\u001B[38;5;124mread_table\u001B[39m\u001B[38;5;124m\"\u001B[39m]\n",
      "File \u001B[0;32m~/venv/lib/python3.9/site-packages/pandas/io/parsers/readers.py:32\u001B[0m\n\u001B[1;32m     29\u001B[0m \u001B[38;5;28;01mfrom\u001B[39;00m\u001B[38;5;250m \u001B[39m\u001B[38;5;21;01mpandas\u001B[39;00m\u001B[38;5;21;01m.\u001B[39;00m\u001B[38;5;21;01m_config\u001B[39;00m\u001B[38;5;250m \u001B[39m\u001B[38;5;28;01mimport\u001B[39;00m using_copy_on_write\n\u001B[1;32m     31\u001B[0m \u001B[38;5;28;01mfrom\u001B[39;00m\u001B[38;5;250m \u001B[39m\u001B[38;5;21;01mpandas\u001B[39;00m\u001B[38;5;21;01m.\u001B[39;00m\u001B[38;5;21;01m_libs\u001B[39;00m\u001B[38;5;250m \u001B[39m\u001B[38;5;28;01mimport\u001B[39;00m lib\n\u001B[0;32m---> 32\u001B[0m \u001B[38;5;28;01mfrom\u001B[39;00m\u001B[38;5;250m \u001B[39m\u001B[38;5;21;01mpandas\u001B[39;00m\u001B[38;5;21;01m.\u001B[39;00m\u001B[38;5;21;01m_libs\u001B[39;00m\u001B[38;5;21;01m.\u001B[39;00m\u001B[38;5;21;01mparsers\u001B[39;00m\u001B[38;5;250m \u001B[39m\u001B[38;5;28;01mimport\u001B[39;00m STR_NA_VALUES\n\u001B[1;32m     33\u001B[0m \u001B[38;5;28;01mfrom\u001B[39;00m\u001B[38;5;250m \u001B[39m\u001B[38;5;21;01mpandas\u001B[39;00m\u001B[38;5;21;01m.\u001B[39;00m\u001B[38;5;21;01merrors\u001B[39;00m\u001B[38;5;250m \u001B[39m\u001B[38;5;28;01mimport\u001B[39;00m (\n\u001B[1;32m     34\u001B[0m     AbstractMethodError,\n\u001B[1;32m     35\u001B[0m     ParserWarning,\n\u001B[1;32m     36\u001B[0m )\n\u001B[1;32m     37\u001B[0m \u001B[38;5;28;01mfrom\u001B[39;00m\u001B[38;5;250m \u001B[39m\u001B[38;5;21;01mpandas\u001B[39;00m\u001B[38;5;21;01m.\u001B[39;00m\u001B[38;5;21;01mutil\u001B[39;00m\u001B[38;5;21;01m.\u001B[39;00m\u001B[38;5;21;01m_decorators\u001B[39;00m\u001B[38;5;250m \u001B[39m\u001B[38;5;28;01mimport\u001B[39;00m Appender\n",
      "File \u001B[0;32mparsers.pyx:1418\u001B[0m, in \u001B[0;36minit pandas._libs.parsers\u001B[0;34m()\u001B[0m\n",
      "\u001B[0;31mAttributeError\u001B[0m: partially initialized module 'pandas' has no attribute '_pandas_parser_CAPI' (most likely due to a circular import)"
     ]
    }
   ],
   "execution_count": 28
  },
  {
   "cell_type": "code",
   "execution_count": 2,
   "id": "699fefd460fcb823",
   "metadata": {
    "ExecuteTime": {
     "end_time": "2025-03-21T11:33:42.293702Z",
     "start_time": "2025-03-21T08:30:08.779528Z"
    }
   },
   "outputs": [
    {
     "name": "stdout",
     "output_type": "stream",
     "text": [
      "<class 'pandas.core.frame.DataFrame'>\n",
      "RangeIndex: 1472 entries, 0 to 1471\n",
      "Data columns (total 11 columns):\n",
      " #   Column       Non-Null Count  Dtype  \n",
      "---  ------       --------------  -----  \n",
      " 0   Label        1472 non-null   object \n",
      " 1   Brand        1472 non-null   object \n",
      " 2   Name         1472 non-null   object \n",
      " 3   Price        1472 non-null   int64  \n",
      " 4   Rank         1472 non-null   float64\n",
      " 5   Ingredients  1472 non-null   object \n",
      " 6   Combination  1472 non-null   int64  \n",
      " 7   Dry          1472 non-null   int64  \n",
      " 8   Normal       1472 non-null   int64  \n",
      " 9   Oily         1472 non-null   int64  \n",
      " 10  Sensitive    1472 non-null   int64  \n",
      "dtypes: float64(1), int64(6), object(4)\n",
      "memory usage: 126.6+ KB\n"
     ]
    }
   ],
   "source": [
    "df = pd.read_csv('../data/raw/cosmetics.csv')\n",
    "df.info()"
   ]
  },
  {
   "cell_type": "markdown",
   "id": "ef3c1d0e7b4c44ba",
   "metadata": {},
   "source": [
    "## Handling Missing Values"
   ]
  },
  {
   "cell_type": "code",
   "execution_count": 3,
   "id": "28bc859a808fea8e",
   "metadata": {
    "ExecuteTime": {
     "end_time": "2025-03-21T11:33:42.313041Z",
     "start_time": "2025-03-21T08:30:13.755703Z"
    }
   },
   "outputs": [
    {
     "name": "stdout",
     "output_type": "stream",
     "text": [
      "Label          0\n",
      "Brand          0\n",
      "Name           0\n",
      "Price          0\n",
      "Rank           0\n",
      "Ingredients    0\n",
      "Combination    0\n",
      "Dry            0\n",
      "Normal         0\n",
      "Oily           0\n",
      "Sensitive      0\n",
      "dtype: int64\n"
     ]
    }
   ],
   "source": [
    "print(df.isna().sum())"
   ]
  },
  {
   "cell_type": "markdown",
   "id": "e0635727483c2afc",
   "metadata": {},
   "source": [
    "## Removing Duplicates "
   ]
  },
  {
   "cell_type": "code",
   "execution_count": 4,
   "id": "539865f29fe9522c",
   "metadata": {
    "ExecuteTime": {
     "end_time": "2025-03-21T11:33:42.333990Z",
     "start_time": "2025-03-21T04:19:50.523911Z"
    }
   },
   "outputs": [
    {
     "name": "stdout",
     "output_type": "stream",
     "text": [
      "0\n"
     ]
    }
   ],
   "source": [
    "print(df.duplicated().sum())"
   ]
  },
  {
   "cell_type": "markdown",
   "id": "f5983cfe1654f689",
   "metadata": {},
   "source": [
    "## Irrelevant/Erroneous Rows and Columns"
   ]
  },
  {
   "cell_type": "code",
   "execution_count": 5,
   "id": "2b31560699531770",
   "metadata": {
    "ExecuteTime": {
     "end_time": "2025-03-21T11:33:42.352112Z",
     "start_time": "2025-03-21T09:35:24.495033Z"
    }
   },
   "outputs": [
    {
     "ename": "KeyError",
     "evalue": "\"['Visit the OLEHENRIKSEN boutique', 'Visit the Shiseido boutique', 'Visit the Jack Black boutique', 'Visit the La Mer boutique', 'Visit the Shiseido boutique', 'Visit the MAKE UP FOR EVER boutique', 'Water, Butylene Glycol, Caffeine, Magnesium Chloride, Calcium Chloride, Sodium Sulfate, Potassium Nitrate, Potassium Phosphate, Polysorbate 80, Diamond Powder, Fragrance, Limonene, Linalool, Citral, Phenoxyethanol, Sodium Benzoate', 'Visit the Guerlain boutique', 'Visit the Dior boutique', 'Visit the Fresh boutique', 'No Info', 'Visit the Kopari boutique', 'Visit the Shiseido boutique', 'Visit the Dior boutique', 'Visit the philosophy boutique', 'Water , Glycerin , Cetyl Alcohol , Dimethicone , Glyceryl Polymethacrylate , Butyrospermum Parkii (Shea Butter) , Cetyl Ethylhexanoate , Peg-8 , Glycereth-26 , Sucrose , Sorbitan Stearate , Peg-100 Stearate , Trehalose , Mangifera Indica (Mango) Seed Butter , Hypnea Musciformis (Algae) Extract , Gellidiela Acerosa (Algae) Extract , Olea Europaea (Olive) Fruit Extract , Triticum Vulgare (Wheat Bran) Extract , Cladosiphon Okamuranus Extract , Astrocaryum Murumuru Seed Butter , Cetearyl Alcohol , Aloe Barbadensis Leaf Water , Peg-75 , Caffeine , Pantethine , Sorbitol , Butylene Glycol , Oryzanol , Bisabolol , Panthenol , Phytosterols , Tocopheryl Acetate , Caprylyl Glycol , Sodium Hyaluronate , Hexylene Glycol , Carbomer , Potassium Hydroxide , Dextrin , Disodium Edta , Phenoxyethanol , Red 4 (Ci 14700) , Yellow 5 (Ci 19140)', 'Cetyl Ethylhexanoate , Triethylhexanoin , Peg-20 Glyceryl Triisostearate , Polybutene , Peg-8 Diisostearate , Peg-12 Diisostearate , Ppg-15 Stearyl Ether , Water , Tocopheryl Acetate , Glycerin , Caprylyl Glycol , Glyceryl Laurate , Bht', 'Visit the Dior boutique', 'No Info', 'Visit the Clarins boutique', 'Water, Cyclopentasiloxane, Ceresin, Glycerin, Dimethicone, Peg-10 Dimethicone, Propanediol, Volcanic Sand, Solanum Lycopersicum (Tomato) Leaf Cell Culture Extract, Daphne Odora Callus Extract, Opuntia Ficus-Indica Callus Culture Extract, Opuntia Ficus-Indica Stem Extract, Ethylhexylglycerin, C12-15 Alkyl Benzoate, Benzyl Benzoate, Silica, Sorbitan Olivate, Panthenol, Distearyldimonium Chloride, Disteardimonium Hectorite, Sodium Chloride, Caprylyl Glycol, Cetyl Alcohol, Fragrance, Citral, Linalool, Limonene, Disodium Edta, Phenoxyethanol', 'Visit the IT Cosmetics boutique', 'Visit the Kat Von D boutique', 'Visit the Dior boutique', 'No Info', 'Visit the Tata Harper boutique', 'Visit the philosophy boutique', 'Visit the Dior boutique', 'No Info', 'No Info', 'Visit the SEPHORA COLLECTION boutique', 'No Info', 'Visit the Shiseido boutique', 'Water, Montmorillonite, Kaolin, Magnesium Aluminum Silicate, Silica, Pumice, Camellia Sinensis Leaf, Cucumis Sativus (Cucumber) Fruit Extract, Chamomilla Recutita (Matricaria) Extract, Hedera Helix (Ivy) Extract, Symphytum Officinale (Comfrey) Leaf Extract, Camellia Oleifera Leaf Extract, Glycerin, Tocopheryl Acetate, Calendula Officinalis Extract, Ethylhexylglycerin, Hexylene Glycol, Lavandula Hybrida (Lavandin) Oil, Caprylyl Glycol, Pvp, Xanthan Gum, Fragrance, Hexyl Cinnamal, Linalool, Benzyl Benzoate, Limonene, Cinnamal, Chlorphenesin, Phenoxyethanol', 'Water, Disodium Laureth Sulfosuccinate, Octyldoecanol, Polyacrylate-33, Propanediol, Polygyceryl-2 Caprate, Sodium Cocoyl Isethionate, Montmorillonoite, Kaolin, Olive Oil Polyglyceryl-6 esters, Rice Oil Glycereth-8 esters, Phospholipids, Sodium Lauroamphoacetate, Bisabolol, Pentylene Glycol, Sodium Chloride, Sodium Phytate, Caprylyl Glycol, Dehydeoacetic Acid, Benzoic Acid, Propylene Carbonate, Linalool, Farnesol', 'Visit the Makeup Eraser boutique', 'Water, Silica, Kaolin, Cetyl Alcohol, C12-15 Alkyl Benzoate, Butylene Glycol, Niacinamide, Acetyl Glucosamine, Polymethylsilsesquioxane, Pumice, Glyceryl Stearate, Peg-100 Stearate, Pentylene Glycol, Diamond Powder, Rosmarinus Officinalis (Rosemary) Leaf Extract, Betula Alba Leaf Extract, Lactic Acid, Paeonia Suffruticosa (Peony) Root Extract, Tetrahexyldecyl Ascorbate, Betula Pendula Wood Powder, Salicylic Acid, Lilium Candidum (White Lily) Bulb Extract, Glycerin, Ribes Nigrum (Blackcurrent) Seed Oil, Solidago Virgaurea (Goldenrod) Extract, Octyldodecyl Oleate, Ethylhexylglycerin, Rosa Canina Flower Extract, Octyldodecanol, Camellia Sinensis Leaf Extract, Allantoin, Jasminum Officinale (Jasmine) Flower Extract, Tocopheryl Acetate, Octyldodecyl Stearoyl Stearate, Magnesium Aluminum Silicate, Xanthan Gum, Fragrance, Benzyl Alcohol, Alpha-Isomethyl Ionone, Benzyl Benzoate, Linalool, Amyl Cinnamal, Hexyl Cinnamal, Benzyl Salicylate, Limonene, Geraniol, Disodium Edta, Potassium Sorbate, Phenoxyethanol, Titanium Dioxide (Ci 77891)', 'Visit the Jack Black boutique', 'No Info', 'Visit the REN Clean Skincare boutique', 'Water, Sodium C14-16 Olefin Sulfonate, Magnesium Aluminum Silicate, Sodium Cocoamphoacetate, Cetearyl Alcohol, Glyceryl Stearate, Glycerin, Charcoal Powder, Propanediol, Kaolin, Carbon, Eucalyptus Globulus Leaf Powder, Mentha Piperita (Peppermint) Oil, Glycyrrhiza Glabra (Licorice) Root Extract, Nigella Sativa Seed Extract, Ethylhexylglycerin, Sodium Chloride, Glyceryl Polyacrylate, Cocamidopropyl Hydroxysultaine, Xanthan Gum, Caprylyl Glycol, Lactic Acid, Glycolic Acid, Fragrance, Linalool, Benzyl Benzoate, Phenoxyethanol, Titanium Dioxide (Ci 77891)', 'No Info', 'Water , Glycerin , Sodium Laureth Sulfate , Silica , Acrylates Copolymer , Lauramidopropyl Betaine , Butylene Glycol , Sucrose , Cocamidopropyl Hydroxysultaine , Carica Papaya (Papaya) Fruit Extract , Bambusa Arundinacea (Bamboo) Stem Extract , Laminaria Saccharina Extract , Salicylic Acid , Palmitoyl Tetrapeptide-7 , Palmitoyl Tripeptide-1 , Caffeine , Sodium Hyaluronate , Acetyl Glucosamine , Sodium Coco Pg-Dimonium Chloride Phosphate , Polysorbate 20 , Disodium Cocoyl Glutamate , Citric Acid , Sodium Cocoyl Glutamate , Laureth-2 , Sodium Chloride , Sodium Hydroxide , Sodium Sulfate , Carbomer , Monosodium Citrate , Disodium Edta , Edta , Bht , Phenoxyethanol , Orange 4 (Ci 15510) , Yellow 5 (Ci 19140) , Red 4 (Ci 14700)', 'No Info', 'Isopropyl Palmitate, Triethylhexanoin, Isodecyl Isononanoate, Peg-20 Glyceryl Triisostearate, Polybutene, Triisostearin, Peg-8 Diisostearate, Peg-12 Diisostearate, Aleurites Moluccana (Kukui) Seed Oil, Simmondsia Chinensis (Jojoba) Seed Oil, Olea Europaea (Olive) Fruit Oil, Helianthus Annuus (Sunflower) Seed Oil, Zingiber Officinale (Ginger) Root Extract, Bixa Orellana Seed Extract, Lavandula Angustifolia (Lavender), Jasminum Officinale (Jasmine) Flower Wax, Glycerin, Methyldihydrojasmonate, Pentylene Glycol, Glyceryl Laurate, Bisabolol, Tocopheryl Acetate, Linalool, Water', 'No Info', 'Visit the Shiseido boutique', 'Water , Isopropyl Palmitate , Pentylene Glycol , Dimethicone , Trisiloxane , Methyl Glucose Sesquistearate , Peg-20 Methyl Glucose Sesquistearate , Caprylyl Glycol , Arginine , Hexylene Glycol , Sorbic Acid , Disodium Edta , Phenoxyethanol', 'Water , Peg-32 , Butylene Glycol , Disodium Cocoamphodiacetate , Peg-6 , Trisodium Edta , Phenoxyethanol', 'Visit the SEPHORA COLLECTION boutique', 'Visit the SEPHORA COLLECTION boutique', 'No Info', 'No Info', 'Visit the Perricone MD boutique', 'No Info', 'Visit the SEPHORA COLLECTION boutique', 'Visit the SEPHORA COLLECTION boutique', 'Water, Glycerin, Methyl Perfluorobutyl Ether, Acrylates Copolymer, Cocamidopropyl Betaine, Disodium Cocoamphodiacetate, Lauryl Glucoside, Retinyl Palmitate, Allantoin, Arginine, Camellia Sinensis Leaf Extract, Helianthus Annuus (Sunflower) Seed Oil, Ascorbyl Glucoside, Ethylhexylglycerin, Ceramide Np, Sodium Pca, Sodium Chloride, Saccharide Isomerate, Polyquaternium-10, Potassium Cocoyl Glycinate, Potassium Cocoate, Hexylene Glycol, Butylene Glycol, Citric Acid, Hydroxyethyl Urea, Citrus Limon (Lemon) Peel Oil, Limonene, Citral, Sodium Citrate, Disodium Edta, Phenoxyethanol', 'No Info', 'No Info', 'Visit the CLINIQUE boutique', 'Visit the Eve Lom boutique', 'Visit the CLINIQUE boutique', 'Water, Isohexadecane, Dimethicone, Cyclopentasiloxane, Trisiloxane, Sodium Chloride, Hexylene Glycol, Peg-4 Dilaurate, Lauryl Methyl Gluceth-10 Hydroxypropyldimonium Chloride, Potassium Phosphate, Dipotassium Phosphate, Dipotassium Edta, Phenoxyethanol', 'No Info', 'Water , Kaolin , Butylene Glycol , Silica , Magnesium Aluminum Silicate , Charcoal Powder , Glyceryl Stearate , Peg-100 Stearate , Sodium Methyl Cocoyl Taurate , Gentiana Lutea (Gentian) Root Extract , Laminaria Saccharina Extract , Tocopheryl Acetate , Acetyl Glucosamine , Sucrose , Caprylyl Glycol , Xanthan Gum , Disodium Edta , Phenoxyethanol , Chlorphenesin , Iron Oxides (Ci 77499) , Titanium Dioxide (Ci 77891)', 'Maltodextrin , Sodium Lauryl Sulfoacetate , Sodium Cocoyl Isethionate , Sodium Methyl Cocoyl Taurate , Kaolin , Ascorbic Acid , Sodium Chloride , Sapindus Mukurossi Peel Extract , Salicylic Acid , Allyl Methacrylates Crosspolymer , Cyclodextrin , Coconut Acid , Ethylbisiminomethylguaiacol Manganese Chloride , Water , Disodium Edta', 'No Info', 'No Info', 'Visit the FENTY BEAUTY by Rihanna boutique', 'Water, Kaolin, Magnesium Aluminum Silicate, Mandelic Acid, Carbon, Eucalyptus Globulus Leaf, Tartaric Acid, Pyruvic Acid, Lactic Acid, Salicylic Acid, Glycolic Acid, Eucalyptus Globulus Leaf Powder, Aloe Barbadensis Leaf Juice, Glycyrrhiza Glabra (Licorice) Root Extract, Cucumis Sativus (Cucumber) Fruit Extract, Hedera Helix (Ivy) Extract, Symphytum Officinale (Comfrey) Leaf Extract, Chamomilla Recutita (Matricaria) Extract, Peg-12 Dimethicone, Caprylyl Glycol, Sodium Hydroxide, Butylene Glycol, Mentha Piperita (Peppermint) Oil, Hectorite, Hexylene Glycol, Glycerin, Calendula Officinalis Extract, Maltodextrin, Ethylhexylglycerin, Xanthan Gum, Fragrance, Limonene, Benzyl Benzoate, Linalool, Phenoxyethanol, Potassium Sorbate, Sodium Benzoate, Iron Oxides (Ci 77499)', 'Visit the Dior boutique', 'Visit the Dior boutique', 'Visit the Dior boutique', 'Visit the Dior boutique', 'Visit the Foreo boutique', 'Visit the LightStim boutique', 'Visit the REN Clean Skincare boutique', 'Visit the Clarins boutique', 'Visit the Murad boutique', 'Visit the Dior boutique', 'Visit the Dior boutique', 'Visit the Dior boutique', 'Visit the Skin Inc Supplement Bar boutique', 'Visit the Dior boutique', 'Visit the philosophy boutique', 'Visit the Perricone MD boutique', 'Visit the Jack Black boutique', 'Visit the SEPHORA COLLECTION boutique', 'Visit the Perricone MD boutique', 'Visit the REN Clean Skincare boutique', 'Visit the Shiseido boutique', 'Visit the SEPHORA COLLECTION boutique', 'Visit the Erno Laszlo boutique', 'Visit the Dior boutique', '-Ginseng -Olive Oil', '-Hyaluronic Acid -Red Algae', 'Visit the Perricone MD boutique', 'Water , Kaolin , Butylene Glycol , Bentonite , Montmorillonite , Polysorbate 20 , Peg-100 Stearate , Glycerin , Charcoal Powder , Laminaria Saccharina Extract , Caffeine , Lecithin , Sucrose , Propylene Glycol Laurate , Ethylhexylglycerin , Caprylyl Glycol , Propylene Glycol Stearate , Sodium Hyaluronate , Simethicone , Sorbitan Laurate , Peg-150 Distearate , Hexylene Glycol , Xanthan Gum , Galactoarabinan , Trisodium Edta , Phenoxyethanol , Iron Oxides (Ci 77499)', '-Hyaluronic Acid -Ceramide', 'Visit the Dior boutique', 'Visit the Too Cool For School boutique', 'Water , Kaolin , Butylene Glycol , Magnesium Aluminum Silicate , Sodium Lauroyl Sarcosinate , Glyceryl Stearate , Peg-100 Stearate , Gentiana Lutea (Gentian) Root Extract , Laminaria Saccharina Extract , Sucrose , Chamomilla Recutita (Matricaria) , Algae Extract , Aloe Barbadensis Powder , Acetyl Glucosamine , Inulin , 1,2-Hexanediol , Caprylyl Glycol , Xanthan Gum , Disodium Edta , Chlorphenesin , Phenoxyethanol , Titanium Dioxide (Ci 77891)', '-Pearl Extract -Niacinamide', 'Visit the Too Cool For School boutique', '-Charcoal -Snow Lotus', '-Rose Water -Caffeine-infused', 'Visit the philosophy boutique', 'Water, Kaolin, Bentonite, Butylene Glycol, Glycerin, Charcoal Powder, Algae Extract, Polygonum Cuspidatum Root Extract, Saccharomyces Lysate Extract, Rosmarinus Officinalis (Rosemary), Lavandula Angustifolia (Lavender) Oil, Citrus Grandis (Grapefruit) Peel Oil, Laminaria Saccharina Extract, Sodium Hyaluronate, Caprylyl Glycol, Methyldihydrojasmonate, Hexylene Glycol, Xanthan Gum, Citral, Linalool, Limonene, Phenoxyethanol', 'Water, Petrolatum, Dimethicone, Butyrospermum Parkii (Shea Butter), Glycerin, Ceresin, Phenyl Trimethicone, Acetyl Glucosamine, Pentylene Glycol, Lauryl Peg-9 Polydimethylsiloxyethyl Dimethicone, Lanolin Alcohol, Camellia Sinensis (Green Tea) Leaf Extract, Olea Europaea (Olive) Fruit Extract, Triticum Vulgare (Wheat Bran) Extract, Scutellaria Baicalensis Root Extract, Ascophyllum Nodosum Extract, Asparagopsis Armata Extract, Pyrus Malus (Apple) Fruit Extract, Morus Bombycis (Mulberry) Root Extract, Salvia Sclarea (Clary) Extract, Oenothera Biennis (Evening Primrose) Oil, Limnanthes Alba (Meadowfoam) Seed Oil, Vitis Vinifera (Grape) Seed Oil, Tocopheryl Acetate, Caffeine, Sucrose, Silica, Cholesterol, Sorbitol, Di-C12-15 Alkyl Fumarate, Peg-30 Dipolyhydroxystearate, Behenyl Alcohol, Hydroxystearic Acid, Micrococcus Lysate, Peg-8 Distearate, Acetyl Hexapeptide-8, Trehalose, Linoleic Acid, Butylene Glycol, Sodium Hyaluronate, Lecithin, Potassium Stearate, Potassium Palmitate, Fragrance, Sodium Chloride, Trisodium Edta, Limonene, Benzyl Salicylate, Chlorphenesin, Phenoxyethanol', 'Visit the OLEHENRIKSEN boutique', 'Visit the Shiseido boutique', 'Visit the Perricone MD boutique', 'Visit the SEPHORA COLLECTION boutique', 'No Info', 'Visit the philosophy boutique', 'Visit the Origins boutique', 'Visit the CLINIQUE boutique', 'Visit the Guerlain boutique', 'Visit the Shiseido boutique', 'Visit the Dior boutique', 'Visit the Foreo boutique', 'Visit the BeautyBio boutique', 'Visit the Perricone MD boutique', 'Visit the Shiseido boutique', 'Visit the Dior boutique', 'Visit the Clarins boutique', 'Visit the bareMinerals boutique', 'Visit the Guerlain boutique', 'Visit the NARS boutique', 'No Info', 'Visit the KENZOKI boutique', 'No Info', 'Visit the Laura Mercier boutique', 'Visit the Laura Mercier boutique', 'Visit the NARS boutique', 'Visit the Clarins boutique', 'Visit the Shiseido boutique', 'Visit the Laura Mercier boutique', 'No Info', 'Visit the SEPHORA COLLECTION boutique', 'Visit the CLINIQUE boutique', 'No Info', 'Visit the Dior boutique', 'Visit the AMOREPACIFIC boutique', 'Visit the Clarins boutique', 'Visit the Eve Lom boutique', 'Visit the COOLA boutique', 'Visit the DERMAFLASH boutique'] not found in axis\"",
     "output_type": "error",
     "traceback": [
      "\u001B[0;31m---------------------------------------------------------------------------\u001B[0m",
      "\u001B[0;31mKeyError\u001B[0m                                  Traceback (most recent call last)",
      "Cell \u001B[0;32mIn[5], line 12\u001B[0m\n\u001B[1;32m     10\u001B[0m     \u001B[38;5;28;01mif\u001B[39;00m \u001B[38;5;28misinstance\u001B[39m(row, \u001B[38;5;28mstr\u001B[39m) \u001B[38;5;129;01mand\u001B[39;00m re\u001B[38;5;241m.\u001B[39mmatch(expected_format, row):\n\u001B[1;32m     11\u001B[0m         erroneous_rows\u001B[38;5;241m.\u001B[39mappend(row)\n\u001B[0;32m---> 12\u001B[0m \u001B[43mdf\u001B[49m\u001B[38;5;241;43m.\u001B[39;49m\u001B[43mdrop\u001B[49m\u001B[43m(\u001B[49m\u001B[43merroneous_rows\u001B[49m\u001B[43m)\u001B[49m\n\u001B[1;32m     14\u001B[0m \u001B[38;5;66;03m# if combination dry oily sensitive is 0 remove it bc this is logic error\u001B[39;00m\n\u001B[1;32m     15\u001B[0m df \u001B[38;5;241m=\u001B[39m df\u001B[38;5;241m.\u001B[39mloc[(df[[\u001B[38;5;124m'\u001B[39m\u001B[38;5;124mCombination\u001B[39m\u001B[38;5;124m'\u001B[39m, \u001B[38;5;124m'\u001B[39m\u001B[38;5;124mDry\u001B[39m\u001B[38;5;124m'\u001B[39m, \u001B[38;5;124m'\u001B[39m\u001B[38;5;124mNormal\u001B[39m\u001B[38;5;124m'\u001B[39m, \u001B[38;5;124m'\u001B[39m\u001B[38;5;124mOily\u001B[39m\u001B[38;5;124m'\u001B[39m, \u001B[38;5;124m'\u001B[39m\u001B[38;5;124mSensitive\u001B[39m\u001B[38;5;124m'\u001B[39m]]\u001B[38;5;241m.\u001B[39msum(axis\u001B[38;5;241m=\u001B[39m\u001B[38;5;241m1\u001B[39m) \u001B[38;5;241m>\u001B[39m \u001B[38;5;241m0\u001B[39m)]\n",
      "File \u001B[0;32m~/venv/lib/python3.9/site-packages/pandas/core/frame.py:5581\u001B[0m, in \u001B[0;36mDataFrame.drop\u001B[0;34m(self, labels, axis, index, columns, level, inplace, errors)\u001B[0m\n\u001B[1;32m   5433\u001B[0m \u001B[38;5;28;01mdef\u001B[39;00m\u001B[38;5;250m \u001B[39m\u001B[38;5;21mdrop\u001B[39m(\n\u001B[1;32m   5434\u001B[0m     \u001B[38;5;28mself\u001B[39m,\n\u001B[1;32m   5435\u001B[0m     labels: IndexLabel \u001B[38;5;241m|\u001B[39m \u001B[38;5;28;01mNone\u001B[39;00m \u001B[38;5;241m=\u001B[39m \u001B[38;5;28;01mNone\u001B[39;00m,\n\u001B[0;32m   (...)\u001B[0m\n\u001B[1;32m   5442\u001B[0m     errors: IgnoreRaise \u001B[38;5;241m=\u001B[39m \u001B[38;5;124m\"\u001B[39m\u001B[38;5;124mraise\u001B[39m\u001B[38;5;124m\"\u001B[39m,\n\u001B[1;32m   5443\u001B[0m ) \u001B[38;5;241m-\u001B[39m\u001B[38;5;241m>\u001B[39m DataFrame \u001B[38;5;241m|\u001B[39m \u001B[38;5;28;01mNone\u001B[39;00m:\n\u001B[1;32m   5444\u001B[0m \u001B[38;5;250m    \u001B[39m\u001B[38;5;124;03m\"\"\"\u001B[39;00m\n\u001B[1;32m   5445\u001B[0m \u001B[38;5;124;03m    Drop specified labels from rows or columns.\u001B[39;00m\n\u001B[1;32m   5446\u001B[0m \n\u001B[0;32m   (...)\u001B[0m\n\u001B[1;32m   5579\u001B[0m \u001B[38;5;124;03m            weight  1.0     0.8\u001B[39;00m\n\u001B[1;32m   5580\u001B[0m \u001B[38;5;124;03m    \"\"\"\u001B[39;00m\n\u001B[0;32m-> 5581\u001B[0m     \u001B[38;5;28;01mreturn\u001B[39;00m \u001B[38;5;28;43msuper\u001B[39;49m\u001B[43m(\u001B[49m\u001B[43m)\u001B[49m\u001B[38;5;241;43m.\u001B[39;49m\u001B[43mdrop\u001B[49m\u001B[43m(\u001B[49m\n\u001B[1;32m   5582\u001B[0m \u001B[43m        \u001B[49m\u001B[43mlabels\u001B[49m\u001B[38;5;241;43m=\u001B[39;49m\u001B[43mlabels\u001B[49m\u001B[43m,\u001B[49m\n\u001B[1;32m   5583\u001B[0m \u001B[43m        \u001B[49m\u001B[43maxis\u001B[49m\u001B[38;5;241;43m=\u001B[39;49m\u001B[43maxis\u001B[49m\u001B[43m,\u001B[49m\n\u001B[1;32m   5584\u001B[0m \u001B[43m        \u001B[49m\u001B[43mindex\u001B[49m\u001B[38;5;241;43m=\u001B[39;49m\u001B[43mindex\u001B[49m\u001B[43m,\u001B[49m\n\u001B[1;32m   5585\u001B[0m \u001B[43m        \u001B[49m\u001B[43mcolumns\u001B[49m\u001B[38;5;241;43m=\u001B[39;49m\u001B[43mcolumns\u001B[49m\u001B[43m,\u001B[49m\n\u001B[1;32m   5586\u001B[0m \u001B[43m        \u001B[49m\u001B[43mlevel\u001B[49m\u001B[38;5;241;43m=\u001B[39;49m\u001B[43mlevel\u001B[49m\u001B[43m,\u001B[49m\n\u001B[1;32m   5587\u001B[0m \u001B[43m        \u001B[49m\u001B[43minplace\u001B[49m\u001B[38;5;241;43m=\u001B[39;49m\u001B[43minplace\u001B[49m\u001B[43m,\u001B[49m\n\u001B[1;32m   5588\u001B[0m \u001B[43m        \u001B[49m\u001B[43merrors\u001B[49m\u001B[38;5;241;43m=\u001B[39;49m\u001B[43merrors\u001B[49m\u001B[43m,\u001B[49m\n\u001B[1;32m   5589\u001B[0m \u001B[43m    \u001B[49m\u001B[43m)\u001B[49m\n",
      "File \u001B[0;32m~/venv/lib/python3.9/site-packages/pandas/core/generic.py:4788\u001B[0m, in \u001B[0;36mNDFrame.drop\u001B[0;34m(self, labels, axis, index, columns, level, inplace, errors)\u001B[0m\n\u001B[1;32m   4786\u001B[0m \u001B[38;5;28;01mfor\u001B[39;00m axis, labels \u001B[38;5;129;01min\u001B[39;00m axes\u001B[38;5;241m.\u001B[39mitems():\n\u001B[1;32m   4787\u001B[0m     \u001B[38;5;28;01mif\u001B[39;00m labels \u001B[38;5;129;01mis\u001B[39;00m \u001B[38;5;129;01mnot\u001B[39;00m \u001B[38;5;28;01mNone\u001B[39;00m:\n\u001B[0;32m-> 4788\u001B[0m         obj \u001B[38;5;241m=\u001B[39m \u001B[43mobj\u001B[49m\u001B[38;5;241;43m.\u001B[39;49m\u001B[43m_drop_axis\u001B[49m\u001B[43m(\u001B[49m\u001B[43mlabels\u001B[49m\u001B[43m,\u001B[49m\u001B[43m \u001B[49m\u001B[43maxis\u001B[49m\u001B[43m,\u001B[49m\u001B[43m \u001B[49m\u001B[43mlevel\u001B[49m\u001B[38;5;241;43m=\u001B[39;49m\u001B[43mlevel\u001B[49m\u001B[43m,\u001B[49m\u001B[43m \u001B[49m\u001B[43merrors\u001B[49m\u001B[38;5;241;43m=\u001B[39;49m\u001B[43merrors\u001B[49m\u001B[43m)\u001B[49m\n\u001B[1;32m   4790\u001B[0m \u001B[38;5;28;01mif\u001B[39;00m inplace:\n\u001B[1;32m   4791\u001B[0m     \u001B[38;5;28mself\u001B[39m\u001B[38;5;241m.\u001B[39m_update_inplace(obj)\n",
      "File \u001B[0;32m~/venv/lib/python3.9/site-packages/pandas/core/generic.py:4830\u001B[0m, in \u001B[0;36mNDFrame._drop_axis\u001B[0;34m(self, labels, axis, level, errors, only_slice)\u001B[0m\n\u001B[1;32m   4828\u001B[0m         new_axis \u001B[38;5;241m=\u001B[39m axis\u001B[38;5;241m.\u001B[39mdrop(labels, level\u001B[38;5;241m=\u001B[39mlevel, errors\u001B[38;5;241m=\u001B[39merrors)\n\u001B[1;32m   4829\u001B[0m     \u001B[38;5;28;01melse\u001B[39;00m:\n\u001B[0;32m-> 4830\u001B[0m         new_axis \u001B[38;5;241m=\u001B[39m \u001B[43maxis\u001B[49m\u001B[38;5;241;43m.\u001B[39;49m\u001B[43mdrop\u001B[49m\u001B[43m(\u001B[49m\u001B[43mlabels\u001B[49m\u001B[43m,\u001B[49m\u001B[43m \u001B[49m\u001B[43merrors\u001B[49m\u001B[38;5;241;43m=\u001B[39;49m\u001B[43merrors\u001B[49m\u001B[43m)\u001B[49m\n\u001B[1;32m   4831\u001B[0m     indexer \u001B[38;5;241m=\u001B[39m axis\u001B[38;5;241m.\u001B[39mget_indexer(new_axis)\n\u001B[1;32m   4833\u001B[0m \u001B[38;5;66;03m# Case for non-unique axis\u001B[39;00m\n\u001B[1;32m   4834\u001B[0m \u001B[38;5;28;01melse\u001B[39;00m:\n",
      "File \u001B[0;32m~/venv/lib/python3.9/site-packages/pandas/core/indexes/base.py:7070\u001B[0m, in \u001B[0;36mIndex.drop\u001B[0;34m(self, labels, errors)\u001B[0m\n\u001B[1;32m   7068\u001B[0m \u001B[38;5;28;01mif\u001B[39;00m mask\u001B[38;5;241m.\u001B[39many():\n\u001B[1;32m   7069\u001B[0m     \u001B[38;5;28;01mif\u001B[39;00m errors \u001B[38;5;241m!=\u001B[39m \u001B[38;5;124m\"\u001B[39m\u001B[38;5;124mignore\u001B[39m\u001B[38;5;124m\"\u001B[39m:\n\u001B[0;32m-> 7070\u001B[0m         \u001B[38;5;28;01mraise\u001B[39;00m \u001B[38;5;167;01mKeyError\u001B[39;00m(\u001B[38;5;124mf\u001B[39m\u001B[38;5;124m\"\u001B[39m\u001B[38;5;132;01m{\u001B[39;00mlabels[mask]\u001B[38;5;241m.\u001B[39mtolist()\u001B[38;5;132;01m}\u001B[39;00m\u001B[38;5;124m not found in axis\u001B[39m\u001B[38;5;124m\"\u001B[39m)\n\u001B[1;32m   7071\u001B[0m     indexer \u001B[38;5;241m=\u001B[39m indexer[\u001B[38;5;241m~\u001B[39mmask]\n\u001B[1;32m   7072\u001B[0m \u001B[38;5;28;01mreturn\u001B[39;00m \u001B[38;5;28mself\u001B[39m\u001B[38;5;241m.\u001B[39mdelete(indexer)\n",
      "\u001B[0;31mKeyError\u001B[0m: \"['Visit the OLEHENRIKSEN boutique', 'Visit the Shiseido boutique', 'Visit the Jack Black boutique', 'Visit the La Mer boutique', 'Visit the Shiseido boutique', 'Visit the MAKE UP FOR EVER boutique', 'Water, Butylene Glycol, Caffeine, Magnesium Chloride, Calcium Chloride, Sodium Sulfate, Potassium Nitrate, Potassium Phosphate, Polysorbate 80, Diamond Powder, Fragrance, Limonene, Linalool, Citral, Phenoxyethanol, Sodium Benzoate', 'Visit the Guerlain boutique', 'Visit the Dior boutique', 'Visit the Fresh boutique', 'No Info', 'Visit the Kopari boutique', 'Visit the Shiseido boutique', 'Visit the Dior boutique', 'Visit the philosophy boutique', 'Water , Glycerin , Cetyl Alcohol , Dimethicone , Glyceryl Polymethacrylate , Butyrospermum Parkii (Shea Butter) , Cetyl Ethylhexanoate , Peg-8 , Glycereth-26 , Sucrose , Sorbitan Stearate , Peg-100 Stearate , Trehalose , Mangifera Indica (Mango) Seed Butter , Hypnea Musciformis (Algae) Extract , Gellidiela Acerosa (Algae) Extract , Olea Europaea (Olive) Fruit Extract , Triticum Vulgare (Wheat Bran) Extract , Cladosiphon Okamuranus Extract , Astrocaryum Murumuru Seed Butter , Cetearyl Alcohol , Aloe Barbadensis Leaf Water , Peg-75 , Caffeine , Pantethine , Sorbitol , Butylene Glycol , Oryzanol , Bisabolol , Panthenol , Phytosterols , Tocopheryl Acetate , Caprylyl Glycol , Sodium Hyaluronate , Hexylene Glycol , Carbomer , Potassium Hydroxide , Dextrin , Disodium Edta , Phenoxyethanol , Red 4 (Ci 14700) , Yellow 5 (Ci 19140)', 'Cetyl Ethylhexanoate , Triethylhexanoin , Peg-20 Glyceryl Triisostearate , Polybutene , Peg-8 Diisostearate , Peg-12 Diisostearate , Ppg-15 Stearyl Ether , Water , Tocopheryl Acetate , Glycerin , Caprylyl Glycol , Glyceryl Laurate , Bht', 'Visit the Dior boutique', 'No Info', 'Visit the Clarins boutique', 'Water, Cyclopentasiloxane, Ceresin, Glycerin, Dimethicone, Peg-10 Dimethicone, Propanediol, Volcanic Sand, Solanum Lycopersicum (Tomato) Leaf Cell Culture Extract, Daphne Odora Callus Extract, Opuntia Ficus-Indica Callus Culture Extract, Opuntia Ficus-Indica Stem Extract, Ethylhexylglycerin, C12-15 Alkyl Benzoate, Benzyl Benzoate, Silica, Sorbitan Olivate, Panthenol, Distearyldimonium Chloride, Disteardimonium Hectorite, Sodium Chloride, Caprylyl Glycol, Cetyl Alcohol, Fragrance, Citral, Linalool, Limonene, Disodium Edta, Phenoxyethanol', 'Visit the IT Cosmetics boutique', 'Visit the Kat Von D boutique', 'Visit the Dior boutique', 'No Info', 'Visit the Tata Harper boutique', 'Visit the philosophy boutique', 'Visit the Dior boutique', 'No Info', 'No Info', 'Visit the SEPHORA COLLECTION boutique', 'No Info', 'Visit the Shiseido boutique', 'Water, Montmorillonite, Kaolin, Magnesium Aluminum Silicate, Silica, Pumice, Camellia Sinensis Leaf, Cucumis Sativus (Cucumber) Fruit Extract, Chamomilla Recutita (Matricaria) Extract, Hedera Helix (Ivy) Extract, Symphytum Officinale (Comfrey) Leaf Extract, Camellia Oleifera Leaf Extract, Glycerin, Tocopheryl Acetate, Calendula Officinalis Extract, Ethylhexylglycerin, Hexylene Glycol, Lavandula Hybrida (Lavandin) Oil, Caprylyl Glycol, Pvp, Xanthan Gum, Fragrance, Hexyl Cinnamal, Linalool, Benzyl Benzoate, Limonene, Cinnamal, Chlorphenesin, Phenoxyethanol', 'Water, Disodium Laureth Sulfosuccinate, Octyldoecanol, Polyacrylate-33, Propanediol, Polygyceryl-2 Caprate, Sodium Cocoyl Isethionate, Montmorillonoite, Kaolin, Olive Oil Polyglyceryl-6 esters, Rice Oil Glycereth-8 esters, Phospholipids, Sodium Lauroamphoacetate, Bisabolol, Pentylene Glycol, Sodium Chloride, Sodium Phytate, Caprylyl Glycol, Dehydeoacetic Acid, Benzoic Acid, Propylene Carbonate, Linalool, Farnesol', 'Visit the Makeup Eraser boutique', 'Water, Silica, Kaolin, Cetyl Alcohol, C12-15 Alkyl Benzoate, Butylene Glycol, Niacinamide, Acetyl Glucosamine, Polymethylsilsesquioxane, Pumice, Glyceryl Stearate, Peg-100 Stearate, Pentylene Glycol, Diamond Powder, Rosmarinus Officinalis (Rosemary) Leaf Extract, Betula Alba Leaf Extract, Lactic Acid, Paeonia Suffruticosa (Peony) Root Extract, Tetrahexyldecyl Ascorbate, Betula Pendula Wood Powder, Salicylic Acid, Lilium Candidum (White Lily) Bulb Extract, Glycerin, Ribes Nigrum (Blackcurrent) Seed Oil, Solidago Virgaurea (Goldenrod) Extract, Octyldodecyl Oleate, Ethylhexylglycerin, Rosa Canina Flower Extract, Octyldodecanol, Camellia Sinensis Leaf Extract, Allantoin, Jasminum Officinale (Jasmine) Flower Extract, Tocopheryl Acetate, Octyldodecyl Stearoyl Stearate, Magnesium Aluminum Silicate, Xanthan Gum, Fragrance, Benzyl Alcohol, Alpha-Isomethyl Ionone, Benzyl Benzoate, Linalool, Amyl Cinnamal, Hexyl Cinnamal, Benzyl Salicylate, Limonene, Geraniol, Disodium Edta, Potassium Sorbate, Phenoxyethanol, Titanium Dioxide (Ci 77891)', 'Visit the Jack Black boutique', 'No Info', 'Visit the REN Clean Skincare boutique', 'Water, Sodium C14-16 Olefin Sulfonate, Magnesium Aluminum Silicate, Sodium Cocoamphoacetate, Cetearyl Alcohol, Glyceryl Stearate, Glycerin, Charcoal Powder, Propanediol, Kaolin, Carbon, Eucalyptus Globulus Leaf Powder, Mentha Piperita (Peppermint) Oil, Glycyrrhiza Glabra (Licorice) Root Extract, Nigella Sativa Seed Extract, Ethylhexylglycerin, Sodium Chloride, Glyceryl Polyacrylate, Cocamidopropyl Hydroxysultaine, Xanthan Gum, Caprylyl Glycol, Lactic Acid, Glycolic Acid, Fragrance, Linalool, Benzyl Benzoate, Phenoxyethanol, Titanium Dioxide (Ci 77891)', 'No Info', 'Water , Glycerin , Sodium Laureth Sulfate , Silica , Acrylates Copolymer , Lauramidopropyl Betaine , Butylene Glycol , Sucrose , Cocamidopropyl Hydroxysultaine , Carica Papaya (Papaya) Fruit Extract , Bambusa Arundinacea (Bamboo) Stem Extract , Laminaria Saccharina Extract , Salicylic Acid , Palmitoyl Tetrapeptide-7 , Palmitoyl Tripeptide-1 , Caffeine , Sodium Hyaluronate , Acetyl Glucosamine , Sodium Coco Pg-Dimonium Chloride Phosphate , Polysorbate 20 , Disodium Cocoyl Glutamate , Citric Acid , Sodium Cocoyl Glutamate , Laureth-2 , Sodium Chloride , Sodium Hydroxide , Sodium Sulfate , Carbomer , Monosodium Citrate , Disodium Edta , Edta , Bht , Phenoxyethanol , Orange 4 (Ci 15510) , Yellow 5 (Ci 19140) , Red 4 (Ci 14700)', 'No Info', 'Isopropyl Palmitate, Triethylhexanoin, Isodecyl Isononanoate, Peg-20 Glyceryl Triisostearate, Polybutene, Triisostearin, Peg-8 Diisostearate, Peg-12 Diisostearate, Aleurites Moluccana (Kukui) Seed Oil, Simmondsia Chinensis (Jojoba) Seed Oil, Olea Europaea (Olive) Fruit Oil, Helianthus Annuus (Sunflower) Seed Oil, Zingiber Officinale (Ginger) Root Extract, Bixa Orellana Seed Extract, Lavandula Angustifolia (Lavender), Jasminum Officinale (Jasmine) Flower Wax, Glycerin, Methyldihydrojasmonate, Pentylene Glycol, Glyceryl Laurate, Bisabolol, Tocopheryl Acetate, Linalool, Water', 'No Info', 'Visit the Shiseido boutique', 'Water , Isopropyl Palmitate , Pentylene Glycol , Dimethicone , Trisiloxane , Methyl Glucose Sesquistearate , Peg-20 Methyl Glucose Sesquistearate , Caprylyl Glycol , Arginine , Hexylene Glycol , Sorbic Acid , Disodium Edta , Phenoxyethanol', 'Water , Peg-32 , Butylene Glycol , Disodium Cocoamphodiacetate , Peg-6 , Trisodium Edta , Phenoxyethanol', 'Visit the SEPHORA COLLECTION boutique', 'Visit the SEPHORA COLLECTION boutique', 'No Info', 'No Info', 'Visit the Perricone MD boutique', 'No Info', 'Visit the SEPHORA COLLECTION boutique', 'Visit the SEPHORA COLLECTION boutique', 'Water, Glycerin, Methyl Perfluorobutyl Ether, Acrylates Copolymer, Cocamidopropyl Betaine, Disodium Cocoamphodiacetate, Lauryl Glucoside, Retinyl Palmitate, Allantoin, Arginine, Camellia Sinensis Leaf Extract, Helianthus Annuus (Sunflower) Seed Oil, Ascorbyl Glucoside, Ethylhexylglycerin, Ceramide Np, Sodium Pca, Sodium Chloride, Saccharide Isomerate, Polyquaternium-10, Potassium Cocoyl Glycinate, Potassium Cocoate, Hexylene Glycol, Butylene Glycol, Citric Acid, Hydroxyethyl Urea, Citrus Limon (Lemon) Peel Oil, Limonene, Citral, Sodium Citrate, Disodium Edta, Phenoxyethanol', 'No Info', 'No Info', 'Visit the CLINIQUE boutique', 'Visit the Eve Lom boutique', 'Visit the CLINIQUE boutique', 'Water, Isohexadecane, Dimethicone, Cyclopentasiloxane, Trisiloxane, Sodium Chloride, Hexylene Glycol, Peg-4 Dilaurate, Lauryl Methyl Gluceth-10 Hydroxypropyldimonium Chloride, Potassium Phosphate, Dipotassium Phosphate, Dipotassium Edta, Phenoxyethanol', 'No Info', 'Water , Kaolin , Butylene Glycol , Silica , Magnesium Aluminum Silicate , Charcoal Powder , Glyceryl Stearate , Peg-100 Stearate , Sodium Methyl Cocoyl Taurate , Gentiana Lutea (Gentian) Root Extract , Laminaria Saccharina Extract , Tocopheryl Acetate , Acetyl Glucosamine , Sucrose , Caprylyl Glycol , Xanthan Gum , Disodium Edta , Phenoxyethanol , Chlorphenesin , Iron Oxides (Ci 77499) , Titanium Dioxide (Ci 77891)', 'Maltodextrin , Sodium Lauryl Sulfoacetate , Sodium Cocoyl Isethionate , Sodium Methyl Cocoyl Taurate , Kaolin , Ascorbic Acid , Sodium Chloride , Sapindus Mukurossi Peel Extract , Salicylic Acid , Allyl Methacrylates Crosspolymer , Cyclodextrin , Coconut Acid , Ethylbisiminomethylguaiacol Manganese Chloride , Water , Disodium Edta', 'No Info', 'No Info', 'Visit the FENTY BEAUTY by Rihanna boutique', 'Water, Kaolin, Magnesium Aluminum Silicate, Mandelic Acid, Carbon, Eucalyptus Globulus Leaf, Tartaric Acid, Pyruvic Acid, Lactic Acid, Salicylic Acid, Glycolic Acid, Eucalyptus Globulus Leaf Powder, Aloe Barbadensis Leaf Juice, Glycyrrhiza Glabra (Licorice) Root Extract, Cucumis Sativus (Cucumber) Fruit Extract, Hedera Helix (Ivy) Extract, Symphytum Officinale (Comfrey) Leaf Extract, Chamomilla Recutita (Matricaria) Extract, Peg-12 Dimethicone, Caprylyl Glycol, Sodium Hydroxide, Butylene Glycol, Mentha Piperita (Peppermint) Oil, Hectorite, Hexylene Glycol, Glycerin, Calendula Officinalis Extract, Maltodextrin, Ethylhexylglycerin, Xanthan Gum, Fragrance, Limonene, Benzyl Benzoate, Linalool, Phenoxyethanol, Potassium Sorbate, Sodium Benzoate, Iron Oxides (Ci 77499)', 'Visit the Dior boutique', 'Visit the Dior boutique', 'Visit the Dior boutique', 'Visit the Dior boutique', 'Visit the Foreo boutique', 'Visit the LightStim boutique', 'Visit the REN Clean Skincare boutique', 'Visit the Clarins boutique', 'Visit the Murad boutique', 'Visit the Dior boutique', 'Visit the Dior boutique', 'Visit the Dior boutique', 'Visit the Skin Inc Supplement Bar boutique', 'Visit the Dior boutique', 'Visit the philosophy boutique', 'Visit the Perricone MD boutique', 'Visit the Jack Black boutique', 'Visit the SEPHORA COLLECTION boutique', 'Visit the Perricone MD boutique', 'Visit the REN Clean Skincare boutique', 'Visit the Shiseido boutique', 'Visit the SEPHORA COLLECTION boutique', 'Visit the Erno Laszlo boutique', 'Visit the Dior boutique', '-Ginseng -Olive Oil', '-Hyaluronic Acid -Red Algae', 'Visit the Perricone MD boutique', 'Water , Kaolin , Butylene Glycol , Bentonite , Montmorillonite , Polysorbate 20 , Peg-100 Stearate , Glycerin , Charcoal Powder , Laminaria Saccharina Extract , Caffeine , Lecithin , Sucrose , Propylene Glycol Laurate , Ethylhexylglycerin , Caprylyl Glycol , Propylene Glycol Stearate , Sodium Hyaluronate , Simethicone , Sorbitan Laurate , Peg-150 Distearate , Hexylene Glycol , Xanthan Gum , Galactoarabinan , Trisodium Edta , Phenoxyethanol , Iron Oxides (Ci 77499)', '-Hyaluronic Acid -Ceramide', 'Visit the Dior boutique', 'Visit the Too Cool For School boutique', 'Water , Kaolin , Butylene Glycol , Magnesium Aluminum Silicate , Sodium Lauroyl Sarcosinate , Glyceryl Stearate , Peg-100 Stearate , Gentiana Lutea (Gentian) Root Extract , Laminaria Saccharina Extract , Sucrose , Chamomilla Recutita (Matricaria) , Algae Extract , Aloe Barbadensis Powder , Acetyl Glucosamine , Inulin , 1,2-Hexanediol , Caprylyl Glycol , Xanthan Gum , Disodium Edta , Chlorphenesin , Phenoxyethanol , Titanium Dioxide (Ci 77891)', '-Pearl Extract -Niacinamide', 'Visit the Too Cool For School boutique', '-Charcoal -Snow Lotus', '-Rose Water -Caffeine-infused', 'Visit the philosophy boutique', 'Water, Kaolin, Bentonite, Butylene Glycol, Glycerin, Charcoal Powder, Algae Extract, Polygonum Cuspidatum Root Extract, Saccharomyces Lysate Extract, Rosmarinus Officinalis (Rosemary), Lavandula Angustifolia (Lavender) Oil, Citrus Grandis (Grapefruit) Peel Oil, Laminaria Saccharina Extract, Sodium Hyaluronate, Caprylyl Glycol, Methyldihydrojasmonate, Hexylene Glycol, Xanthan Gum, Citral, Linalool, Limonene, Phenoxyethanol', 'Water, Petrolatum, Dimethicone, Butyrospermum Parkii (Shea Butter), Glycerin, Ceresin, Phenyl Trimethicone, Acetyl Glucosamine, Pentylene Glycol, Lauryl Peg-9 Polydimethylsiloxyethyl Dimethicone, Lanolin Alcohol, Camellia Sinensis (Green Tea) Leaf Extract, Olea Europaea (Olive) Fruit Extract, Triticum Vulgare (Wheat Bran) Extract, Scutellaria Baicalensis Root Extract, Ascophyllum Nodosum Extract, Asparagopsis Armata Extract, Pyrus Malus (Apple) Fruit Extract, Morus Bombycis (Mulberry) Root Extract, Salvia Sclarea (Clary) Extract, Oenothera Biennis (Evening Primrose) Oil, Limnanthes Alba (Meadowfoam) Seed Oil, Vitis Vinifera (Grape) Seed Oil, Tocopheryl Acetate, Caffeine, Sucrose, Silica, Cholesterol, Sorbitol, Di-C12-15 Alkyl Fumarate, Peg-30 Dipolyhydroxystearate, Behenyl Alcohol, Hydroxystearic Acid, Micrococcus Lysate, Peg-8 Distearate, Acetyl Hexapeptide-8, Trehalose, Linoleic Acid, Butylene Glycol, Sodium Hyaluronate, Lecithin, Potassium Stearate, Potassium Palmitate, Fragrance, Sodium Chloride, Trisodium Edta, Limonene, Benzyl Salicylate, Chlorphenesin, Phenoxyethanol', 'Visit the OLEHENRIKSEN boutique', 'Visit the Shiseido boutique', 'Visit the Perricone MD boutique', 'Visit the SEPHORA COLLECTION boutique', 'No Info', 'Visit the philosophy boutique', 'Visit the Origins boutique', 'Visit the CLINIQUE boutique', 'Visit the Guerlain boutique', 'Visit the Shiseido boutique', 'Visit the Dior boutique', 'Visit the Foreo boutique', 'Visit the BeautyBio boutique', 'Visit the Perricone MD boutique', 'Visit the Shiseido boutique', 'Visit the Dior boutique', 'Visit the Clarins boutique', 'Visit the bareMinerals boutique', 'Visit the Guerlain boutique', 'Visit the NARS boutique', 'No Info', 'Visit the KENZOKI boutique', 'No Info', 'Visit the Laura Mercier boutique', 'Visit the Laura Mercier boutique', 'Visit the NARS boutique', 'Visit the Clarins boutique', 'Visit the Shiseido boutique', 'Visit the Laura Mercier boutique', 'No Info', 'Visit the SEPHORA COLLECTION boutique', 'Visit the CLINIQUE boutique', 'No Info', 'Visit the Dior boutique', 'Visit the AMOREPACIFIC boutique', 'Visit the Clarins boutique', 'Visit the Eve Lom boutique', 'Visit the COOLA boutique', 'Visit the DERMAFLASH boutique'] not found in axis\""
     ]
    }
   ],
   "source": [
    "import re\n",
    "# removing irrelevant\n",
    "irrelevent_columns = [\"Label\",\"Brand\",\"Name\",\"Price\",\"Rank\"]\n",
    "df.drop(irrelevent_columns, axis=1, inplace=True)\n",
    "\n",
    "# if the content in the ingredients is not a list then remove it\n",
    "erroneous_rows = []\n",
    "expected_format = r\"^[A-Za-z0-9(),\\-\\s]+$\"\n",
    "for row in df['Ingredients']:\n",
    "    if isinstance(row, str) and re.match(expected_format, row):\n",
    "        erroneous_rows.append(row)\n",
    "df.drop(erroneous_rows)\n",
    "\n",
    "# if combination dry oily sensitive is 0 remove it bc this is logic error\n",
    "df = df.loc[(df[['Combination', 'Dry', 'Normal', 'Oily', 'Sensitive']].sum(axis=1) > 0)]\n",
    "\n"
   ]
  },
  {
   "cell_type": "markdown",
   "id": "7e6935ab8f94eb3d",
   "metadata": {},
   "source": [
    "## Standardisation of Ingredients "
   ]
  },
  {
   "cell_type": "code",
   "execution_count": null,
   "id": "83c7c95aff8cbe43",
   "metadata": {
    "ExecuteTime": {
     "end_time": "2025-03-21T11:33:42.352691Z",
     "start_time": "2025-03-21T04:31:13.229990Z"
    }
   },
   "outputs": [],
   "source": [
    "# converting to lowercase\n",
    "df['Ingredients'] = df['Ingredients'].str.lower()\n",
    "\n",
    "# only using biological names for the ingredients - regex - pattern mathciung\n",
    "for row in df['Ingredients']:\n",
    "    re.sub(r\"\\s*\\(.*?\\)\", \"\", row)\n",
    "    print(row)"
   ]
  },
  {
   "cell_type": "markdown",
   "id": "6b0d4789d592cb10",
   "metadata": {},
   "source": [
    "## Feature Engineering "
   ]
  },
  {
   "cell_type": "code",
   "execution_count": null,
   "id": "a0fd9e7c8d31b524",
   "metadata": {
    "ExecuteTime": {
     "end_time": "2025-03-21T11:33:42.356290Z",
     "start_time": "2025-03-21T10:23:58.142774Z"
    }
   },
   "outputs": [],
   "source": [
    "# tokenisation\n",
    "# natural langauage toolkit\n",
    "import nltk\n",
    "from nltk.tokenize import word_tokenize\n",
    "\n",
    "#tokenisation library\n",
    "nltk.download('punkt')\n",
    "\n",
    "df['Ingredients'] = df['Ingredients'].apply(lambda x:word_tokenize(x.lower))"
   ]
  },
  {
   "cell_type": "markdown",
   "id": "89fd0d16b8cb6d87",
   "metadata": {},
   "source": [
    "## Feature Extraction "
   ]
  },
  {
   "cell_type": "code",
   "execution_count": null,
   "id": "4f9633dd5048edf3",
   "metadata": {
    "ExecuteTime": {
     "end_time": "2025-03-21T11:33:42.363357Z",
     "start_time": "2025-03-21T10:33:28.230693Z"
    }
   },
   "outputs": [],
   "source": [
    "# vectorisation\n",
    "from sklearn.feature_extraction.text import TfidfVectorizer\n",
    "tfidf = TfidfVectorizer()\n",
    "vectorizer = TfidfVectorizer(analyzer=lambda x: x)  # Use the tokenized list directly\n",
    "weight = tfidf.fit_transform(df['Ingredients'])\n",
    "df['Ingredients'] = pd.DataFrame(weight.toarray(), columns=vectorizer.get_feature_names_out())\n",
    "df\n"
   ]
  },
  {
   "cell_type": "markdown",
   "id": "908155f89b74c1d9",
   "metadata": {},
   "source": [
    "## Cleaned Dataset\n"
   ]
  },
  {
   "cell_type": "code",
   "execution_count": null,
   "id": "6f5c3e540753ff3d",
   "metadata": {},
   "outputs": [],
   "source": [
    "df.to_csv(\"../data/cleaned/cleaned_dataset.csv\", index=False)"
   ]
  }
 ],
 "metadata": {
  "kernelspec": {
   "display_name": "Python 3 (ipykernel)",
   "language": "python",
   "name": "python3"
  },
  "language_info": {
   "codemirror_mode": {
    "name": "ipython",
    "version": 3
   },
   "file_extension": ".py",
   "mimetype": "text/x-python",
   "name": "python",
   "nbconvert_exporter": "python",
   "pygments_lexer": "ipython3",
   "version": "3.9.6"
  }
 },
 "nbformat": 4,
 "nbformat_minor": 5
}
