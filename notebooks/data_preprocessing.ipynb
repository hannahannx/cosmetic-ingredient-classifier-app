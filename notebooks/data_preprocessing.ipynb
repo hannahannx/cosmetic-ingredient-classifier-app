{
 "cells": [
  {
   "metadata": {},
   "cell_type": "markdown",
   "source": "# Data Cleaning  ",
   "id": "e7f6742afdbbeaef"
  },
  {
   "metadata": {},
   "cell_type": "markdown",
   "source": "## Load and Present Data",
   "id": "9f22806f03cb8c31"
  },
  {
   "metadata": {
    "collapsed": true,
    "ExecuteTime": {
     "end_time": "2025-03-21T08:10:09.367198Z",
     "start_time": "2025-03-21T08:10:09.281016Z"
    }
   },
   "cell_type": "code",
   "source": [
    "import pandas as pd\n",
    "\n",
    "%matplotlib"
   ],
   "id": "initial_id",
   "outputs": [
    {
     "ename": "AttributeError",
     "evalue": "partially initialized module 'pandas' has no attribute '_pandas_datetime_CAPI' (most likely due to a circular import)",
     "output_type": "error",
     "traceback": [
      "\u001B[0;31m---------------------------------------------------------------------------\u001B[0m",
      "\u001B[0;31mAttributeError\u001B[0m                            Traceback (most recent call last)",
      "Cell \u001B[0;32mIn[14], line 1\u001B[0m\n\u001B[0;32m----> 1\u001B[0m \u001B[38;5;28;01mimport\u001B[39;00m\u001B[38;5;250m \u001B[39m\u001B[38;5;21;01mpandas\u001B[39;00m\u001B[38;5;250m \u001B[39m\u001B[38;5;28;01mas\u001B[39;00m\u001B[38;5;250m \u001B[39m\u001B[38;5;21;01mpd\u001B[39;00m\n\u001B[1;32m      3\u001B[0m get_ipython()\u001B[38;5;241m.\u001B[39mrun_line_magic(\u001B[38;5;124m'\u001B[39m\u001B[38;5;124mmatplotlib\u001B[39m\u001B[38;5;124m'\u001B[39m, \u001B[38;5;124m'\u001B[39m\u001B[38;5;124m'\u001B[39m)\n",
      "File \u001B[0;32m~/venv/lib/python3.9/site-packages/pandas/__init__.py:49\u001B[0m\n\u001B[1;32m     46\u001B[0m \u001B[38;5;66;03m# let init-time option registration happen\u001B[39;00m\n\u001B[1;32m     47\u001B[0m \u001B[38;5;28;01mimport\u001B[39;00m\u001B[38;5;250m \u001B[39m\u001B[38;5;21;01mpandas\u001B[39;00m\u001B[38;5;21;01m.\u001B[39;00m\u001B[38;5;21;01mcore\u001B[39;00m\u001B[38;5;21;01m.\u001B[39;00m\u001B[38;5;21;01mconfig_init\u001B[39;00m  \u001B[38;5;66;03m# pyright: ignore[reportUnusedImport] # noqa: F401\u001B[39;00m\n\u001B[0;32m---> 49\u001B[0m \u001B[38;5;28;01mfrom\u001B[39;00m\u001B[38;5;250m \u001B[39m\u001B[38;5;21;01mpandas\u001B[39;00m\u001B[38;5;21;01m.\u001B[39;00m\u001B[38;5;21;01mcore\u001B[39;00m\u001B[38;5;21;01m.\u001B[39;00m\u001B[38;5;21;01mapi\u001B[39;00m\u001B[38;5;250m \u001B[39m\u001B[38;5;28;01mimport\u001B[39;00m (\n\u001B[1;32m     50\u001B[0m     \u001B[38;5;66;03m# dtype\u001B[39;00m\n\u001B[1;32m     51\u001B[0m     ArrowDtype,\n\u001B[1;32m     52\u001B[0m     Int8Dtype,\n\u001B[1;32m     53\u001B[0m     Int16Dtype,\n\u001B[1;32m     54\u001B[0m     Int32Dtype,\n\u001B[1;32m     55\u001B[0m     Int64Dtype,\n\u001B[1;32m     56\u001B[0m     UInt8Dtype,\n\u001B[1;32m     57\u001B[0m     UInt16Dtype,\n\u001B[1;32m     58\u001B[0m     UInt32Dtype,\n\u001B[1;32m     59\u001B[0m     UInt64Dtype,\n\u001B[1;32m     60\u001B[0m     Float32Dtype,\n\u001B[1;32m     61\u001B[0m     Float64Dtype,\n\u001B[1;32m     62\u001B[0m     CategoricalDtype,\n\u001B[1;32m     63\u001B[0m     PeriodDtype,\n\u001B[1;32m     64\u001B[0m     IntervalDtype,\n\u001B[1;32m     65\u001B[0m     DatetimeTZDtype,\n\u001B[1;32m     66\u001B[0m     StringDtype,\n\u001B[1;32m     67\u001B[0m     BooleanDtype,\n\u001B[1;32m     68\u001B[0m     \u001B[38;5;66;03m# missing\u001B[39;00m\n\u001B[1;32m     69\u001B[0m     NA,\n\u001B[1;32m     70\u001B[0m     isna,\n\u001B[1;32m     71\u001B[0m     isnull,\n\u001B[1;32m     72\u001B[0m     notna,\n\u001B[1;32m     73\u001B[0m     notnull,\n\u001B[1;32m     74\u001B[0m     \u001B[38;5;66;03m# indexes\u001B[39;00m\n\u001B[1;32m     75\u001B[0m     Index,\n\u001B[1;32m     76\u001B[0m     CategoricalIndex,\n\u001B[1;32m     77\u001B[0m     RangeIndex,\n\u001B[1;32m     78\u001B[0m     MultiIndex,\n\u001B[1;32m     79\u001B[0m     IntervalIndex,\n\u001B[1;32m     80\u001B[0m     TimedeltaIndex,\n\u001B[1;32m     81\u001B[0m     DatetimeIndex,\n\u001B[1;32m     82\u001B[0m     PeriodIndex,\n\u001B[1;32m     83\u001B[0m     IndexSlice,\n\u001B[1;32m     84\u001B[0m     \u001B[38;5;66;03m# tseries\u001B[39;00m\n\u001B[1;32m     85\u001B[0m     NaT,\n\u001B[1;32m     86\u001B[0m     Period,\n\u001B[1;32m     87\u001B[0m     period_range,\n\u001B[1;32m     88\u001B[0m     Timedelta,\n\u001B[1;32m     89\u001B[0m     timedelta_range,\n\u001B[1;32m     90\u001B[0m     Timestamp,\n\u001B[1;32m     91\u001B[0m     date_range,\n\u001B[1;32m     92\u001B[0m     bdate_range,\n\u001B[1;32m     93\u001B[0m     Interval,\n\u001B[1;32m     94\u001B[0m     interval_range,\n\u001B[1;32m     95\u001B[0m     DateOffset,\n\u001B[1;32m     96\u001B[0m     \u001B[38;5;66;03m# conversion\u001B[39;00m\n\u001B[1;32m     97\u001B[0m     to_numeric,\n\u001B[1;32m     98\u001B[0m     to_datetime,\n\u001B[1;32m     99\u001B[0m     to_timedelta,\n\u001B[1;32m    100\u001B[0m     \u001B[38;5;66;03m# misc\u001B[39;00m\n\u001B[1;32m    101\u001B[0m     Flags,\n\u001B[1;32m    102\u001B[0m     Grouper,\n\u001B[1;32m    103\u001B[0m     factorize,\n\u001B[1;32m    104\u001B[0m     unique,\n\u001B[1;32m    105\u001B[0m     value_counts,\n\u001B[1;32m    106\u001B[0m     NamedAgg,\n\u001B[1;32m    107\u001B[0m     array,\n\u001B[1;32m    108\u001B[0m     Categorical,\n\u001B[1;32m    109\u001B[0m     set_eng_float_format,\n\u001B[1;32m    110\u001B[0m     Series,\n\u001B[1;32m    111\u001B[0m     DataFrame,\n\u001B[1;32m    112\u001B[0m )\n\u001B[1;32m    114\u001B[0m \u001B[38;5;28;01mfrom\u001B[39;00m\u001B[38;5;250m \u001B[39m\u001B[38;5;21;01mpandas\u001B[39;00m\u001B[38;5;21;01m.\u001B[39;00m\u001B[38;5;21;01mcore\u001B[39;00m\u001B[38;5;21;01m.\u001B[39;00m\u001B[38;5;21;01mdtypes\u001B[39;00m\u001B[38;5;21;01m.\u001B[39;00m\u001B[38;5;21;01mdtypes\u001B[39;00m\u001B[38;5;250m \u001B[39m\u001B[38;5;28;01mimport\u001B[39;00m SparseDtype\n\u001B[1;32m    116\u001B[0m \u001B[38;5;28;01mfrom\u001B[39;00m\u001B[38;5;250m \u001B[39m\u001B[38;5;21;01mpandas\u001B[39;00m\u001B[38;5;21;01m.\u001B[39;00m\u001B[38;5;21;01mtseries\u001B[39;00m\u001B[38;5;21;01m.\u001B[39;00m\u001B[38;5;21;01mapi\u001B[39;00m\u001B[38;5;250m \u001B[39m\u001B[38;5;28;01mimport\u001B[39;00m infer_freq\n",
      "File \u001B[0;32m~/venv/lib/python3.9/site-packages/pandas/core/api.py:1\u001B[0m\n\u001B[0;32m----> 1\u001B[0m \u001B[38;5;28;01mfrom\u001B[39;00m\u001B[38;5;250m \u001B[39m\u001B[38;5;21;01mpandas\u001B[39;00m\u001B[38;5;21;01m.\u001B[39;00m\u001B[38;5;21;01m_libs\u001B[39;00m\u001B[38;5;250m \u001B[39m\u001B[38;5;28;01mimport\u001B[39;00m (\n\u001B[1;32m      2\u001B[0m     NaT,\n\u001B[1;32m      3\u001B[0m     Period,\n\u001B[1;32m      4\u001B[0m     Timedelta,\n\u001B[1;32m      5\u001B[0m     Timestamp,\n\u001B[1;32m      6\u001B[0m )\n\u001B[1;32m      7\u001B[0m \u001B[38;5;28;01mfrom\u001B[39;00m\u001B[38;5;250m \u001B[39m\u001B[38;5;21;01mpandas\u001B[39;00m\u001B[38;5;21;01m.\u001B[39;00m\u001B[38;5;21;01m_libs\u001B[39;00m\u001B[38;5;21;01m.\u001B[39;00m\u001B[38;5;21;01mmissing\u001B[39;00m\u001B[38;5;250m \u001B[39m\u001B[38;5;28;01mimport\u001B[39;00m NA\n\u001B[1;32m      9\u001B[0m \u001B[38;5;28;01mfrom\u001B[39;00m\u001B[38;5;250m \u001B[39m\u001B[38;5;21;01mpandas\u001B[39;00m\u001B[38;5;21;01m.\u001B[39;00m\u001B[38;5;21;01mcore\u001B[39;00m\u001B[38;5;21;01m.\u001B[39;00m\u001B[38;5;21;01mdtypes\u001B[39;00m\u001B[38;5;21;01m.\u001B[39;00m\u001B[38;5;21;01mdtypes\u001B[39;00m\u001B[38;5;250m \u001B[39m\u001B[38;5;28;01mimport\u001B[39;00m (\n\u001B[1;32m     10\u001B[0m     ArrowDtype,\n\u001B[1;32m     11\u001B[0m     CategoricalDtype,\n\u001B[0;32m   (...)\u001B[0m\n\u001B[1;32m     14\u001B[0m     PeriodDtype,\n\u001B[1;32m     15\u001B[0m )\n",
      "File \u001B[0;32m~/venv/lib/python3.9/site-packages/pandas/_libs/__init__.py:18\u001B[0m\n\u001B[1;32m     16\u001B[0m \u001B[38;5;28;01mimport\u001B[39;00m\u001B[38;5;250m \u001B[39m\u001B[38;5;21;01mpandas\u001B[39;00m\u001B[38;5;21;01m.\u001B[39;00m\u001B[38;5;21;01m_libs\u001B[39;00m\u001B[38;5;21;01m.\u001B[39;00m\u001B[38;5;21;01mpandas_parser\u001B[39;00m  \u001B[38;5;66;03m# isort: skip # type: ignore[reportUnusedImport]\u001B[39;00m\n\u001B[1;32m     17\u001B[0m \u001B[38;5;28;01mimport\u001B[39;00m\u001B[38;5;250m \u001B[39m\u001B[38;5;21;01mpandas\u001B[39;00m\u001B[38;5;21;01m.\u001B[39;00m\u001B[38;5;21;01m_libs\u001B[39;00m\u001B[38;5;21;01m.\u001B[39;00m\u001B[38;5;21;01mpandas_datetime\u001B[39;00m  \u001B[38;5;66;03m# noqa: F401 # isort: skip # type: ignore[reportUnusedImport]\u001B[39;00m\n\u001B[0;32m---> 18\u001B[0m \u001B[38;5;28;01mfrom\u001B[39;00m\u001B[38;5;250m \u001B[39m\u001B[38;5;21;01mpandas\u001B[39;00m\u001B[38;5;21;01m.\u001B[39;00m\u001B[38;5;21;01m_libs\u001B[39;00m\u001B[38;5;21;01m.\u001B[39;00m\u001B[38;5;21;01minterval\u001B[39;00m\u001B[38;5;250m \u001B[39m\u001B[38;5;28;01mimport\u001B[39;00m Interval\n\u001B[1;32m     19\u001B[0m \u001B[38;5;28;01mfrom\u001B[39;00m\u001B[38;5;250m \u001B[39m\u001B[38;5;21;01mpandas\u001B[39;00m\u001B[38;5;21;01m.\u001B[39;00m\u001B[38;5;21;01m_libs\u001B[39;00m\u001B[38;5;21;01m.\u001B[39;00m\u001B[38;5;21;01mtslibs\u001B[39;00m\u001B[38;5;250m \u001B[39m\u001B[38;5;28;01mimport\u001B[39;00m (\n\u001B[1;32m     20\u001B[0m     NaT,\n\u001B[1;32m     21\u001B[0m     NaTType,\n\u001B[0;32m   (...)\u001B[0m\n\u001B[1;32m     26\u001B[0m     iNaT,\n\u001B[1;32m     27\u001B[0m )\n",
      "File \u001B[0;32minterval.pyx:1\u001B[0m, in \u001B[0;36minit pandas._libs.interval\u001B[0;34m()\u001B[0m\n",
      "File \u001B[0;32mhashtable.pyx:1\u001B[0m, in \u001B[0;36minit pandas._libs.hashtable\u001B[0;34m()\u001B[0m\n",
      "File \u001B[0;32mmissing.pyx:40\u001B[0m, in \u001B[0;36minit pandas._libs.missing\u001B[0;34m()\u001B[0m\n",
      "\u001B[0;31mAttributeError\u001B[0m: partially initialized module 'pandas' has no attribute '_pandas_datetime_CAPI' (most likely due to a circular import)"
     ]
    }
   ],
   "execution_count": 14
  },
  {
   "metadata": {
    "ExecuteTime": {
     "end_time": "2025-03-21T08:04:36.720248Z",
     "start_time": "2025-03-21T08:04:36.695101Z"
    }
   },
   "cell_type": "code",
   "source": [
    "df = pd.read_csv('../data/raw/cosmetics.csv')\n",
    "df.info()"
   ],
   "id": "699fefd460fcb823",
   "outputs": [
    {
     "ename": "NameError",
     "evalue": "name 'pd' is not defined",
     "output_type": "error",
     "traceback": [
      "\u001B[0;31m---------------------------------------------------------------------------\u001B[0m",
      "\u001B[0;31mNameError\u001B[0m                                 Traceback (most recent call last)",
      "Cell \u001B[0;32mIn[9], line 1\u001B[0m\n\u001B[0;32m----> 1\u001B[0m df \u001B[38;5;241m=\u001B[39m \u001B[43mpd\u001B[49m\u001B[38;5;241m.\u001B[39mread_csv(\u001B[38;5;124m'\u001B[39m\u001B[38;5;124m../data/raw/cosmetics.csv\u001B[39m\u001B[38;5;124m'\u001B[39m)\n\u001B[1;32m      2\u001B[0m df\u001B[38;5;241m.\u001B[39minfo()\n",
      "\u001B[0;31mNameError\u001B[0m: name 'pd' is not defined"
     ]
    }
   ],
   "execution_count": 9
  },
  {
   "metadata": {},
   "cell_type": "markdown",
   "source": "## Handling Missing Values",
   "id": "ef3c1d0e7b4c44ba"
  },
  {
   "metadata": {
    "ExecuteTime": {
     "end_time": "2025-03-21T04:19:48.623454Z",
     "start_time": "2025-03-21T04:19:48.615495Z"
    }
   },
   "cell_type": "code",
   "source": "print(df.isna().sum())",
   "id": "28bc859a808fea8e",
   "outputs": [
    {
     "name": "stdout",
     "output_type": "stream",
     "text": [
      "Label          0\n",
      "Brand          0\n",
      "Name           0\n",
      "Price          0\n",
      "Rank           0\n",
      "Ingredients    0\n",
      "Combination    0\n",
      "Dry            0\n",
      "Normal         0\n",
      "Oily           0\n",
      "Sensitive      0\n",
      "dtype: int64\n"
     ]
    }
   ],
   "execution_count": 11
  },
  {
   "metadata": {},
   "cell_type": "markdown",
   "source": "## Removing Duplicates ",
   "id": "e0635727483c2afc"
  },
  {
   "metadata": {
    "ExecuteTime": {
     "end_time": "2025-03-21T04:19:50.538630Z",
     "start_time": "2025-03-21T04:19:50.523911Z"
    }
   },
   "cell_type": "code",
   "source": "print(df.duplicated().sum())",
   "id": "539865f29fe9522c",
   "outputs": [
    {
     "name": "stdout",
     "output_type": "stream",
     "text": [
      "0\n"
     ]
    }
   ],
   "execution_count": 12
  },
  {
   "metadata": {},
   "cell_type": "markdown",
   "source": "## Irrelevant/Erroneous Rows and Columns",
   "id": "f5983cfe1654f689"
  },
  {
   "metadata": {
    "ExecuteTime": {
     "end_time": "2025-03-21T08:10:05.652164Z",
     "start_time": "2025-03-21T08:10:05.614041Z"
    }
   },
   "cell_type": "code",
   "source": [
    "import re\n",
    "\n",
    "# removing irrelevant\n",
    "irrelevent_columns = [\"Label\",\"Brand\",\"Name\",\"Price\",\"Rank\"]\n",
    "df.drop(irrelevent_columns, axis=1, inplace=True)\n",
    "\n",
    "# if the content in the ingredients is not a list then remove it\n",
    "erroneous_rows = []\n",
    "\n",
    "expected_format = r\"^[A-Za-z0-9(),\\-\\s]+$\"\n",
    "for row in df['Ingredients']:\n",
    "    if isinstance(row, str) and re.match(expected_format, row):\n",
    "        erroneous_rows.append(row)\n",
    "\n",
    "print(erroneous_rows)"
   ],
   "id": "2b31560699531770",
   "outputs": [
    {
     "ename": "NameError",
     "evalue": "name 'df' is not defined",
     "output_type": "error",
     "traceback": [
      "\u001B[0;31m---------------------------------------------------------------------------\u001B[0m",
      "\u001B[0;31mNameError\u001B[0m                                 Traceback (most recent call last)",
      "Cell \u001B[0;32mIn[13], line 5\u001B[0m\n\u001B[1;32m      3\u001B[0m \u001B[38;5;66;03m# removing irrelevant\u001B[39;00m\n\u001B[1;32m      4\u001B[0m irrelevent_columns \u001B[38;5;241m=\u001B[39m [\u001B[38;5;124m\"\u001B[39m\u001B[38;5;124mLabel\u001B[39m\u001B[38;5;124m\"\u001B[39m,\u001B[38;5;124m\"\u001B[39m\u001B[38;5;124mBrand\u001B[39m\u001B[38;5;124m\"\u001B[39m,\u001B[38;5;124m\"\u001B[39m\u001B[38;5;124mName\u001B[39m\u001B[38;5;124m\"\u001B[39m,\u001B[38;5;124m\"\u001B[39m\u001B[38;5;124mPrice\u001B[39m\u001B[38;5;124m\"\u001B[39m,\u001B[38;5;124m\"\u001B[39m\u001B[38;5;124mRank\u001B[39m\u001B[38;5;124m\"\u001B[39m]\n\u001B[0;32m----> 5\u001B[0m \u001B[43mdf\u001B[49m\u001B[38;5;241m.\u001B[39mdrop(irrelevent_columns, axis\u001B[38;5;241m=\u001B[39m\u001B[38;5;241m1\u001B[39m, inplace\u001B[38;5;241m=\u001B[39m\u001B[38;5;28;01mTrue\u001B[39;00m)\n\u001B[1;32m      7\u001B[0m \u001B[38;5;66;03m# if the content in the ingredients is not a list then remove it\u001B[39;00m\n\u001B[1;32m      8\u001B[0m erroneous_rows \u001B[38;5;241m=\u001B[39m []\n",
      "\u001B[0;31mNameError\u001B[0m: name 'df' is not defined"
     ]
    }
   ],
   "execution_count": 13
  },
  {
   "metadata": {},
   "cell_type": "markdown",
   "source": "## Standardisation of Ingredients ",
   "id": "7e6935ab8f94eb3d"
  },
  {
   "metadata": {
    "ExecuteTime": {
     "end_time": "2025-03-21T04:31:13.272158Z",
     "start_time": "2025-03-21T04:31:13.229990Z"
    }
   },
   "cell_type": "code",
   "source": [
    "# converting to lowercase\n",
    "df['Ingredients'] = df['Ingredients'].str.lower()\n",
    "# removing spaces\n",
    "\n",
    "# only using biological names for the ingredients "
   ],
   "id": "83c7c95aff8cbe43",
   "outputs": [
    {
     "data": {
      "text/plain": [
       "                                            Ingredients  Combination  Dry  \\\n",
       "0     algae (seaweed) extract, mineral oil, petrolat...            1    1   \n",
       "1     galactomyces ferment filtrate (pitera), butyle...            1    1   \n",
       "2     water, dicaprylyl carbonate, glycerin, ceteary...            1    1   \n",
       "3     algae (seaweed) extract, cyclopentasiloxane, p...            1    1   \n",
       "4     water, snail secretion filtrate, phenyl trimet...            1    1   \n",
       "...                                                 ...          ...  ...   \n",
       "1467  water, alcohol denat., potassium cetyl phospha...            1    1   \n",
       "1468  water, isododecane, dimethicone, butyloctyl sa...            0    0   \n",
       "1469  water, dihydroxyacetone, glycerin, sclerocarya...            0    0   \n",
       "1470  water, dihydroxyacetone, propylene glycol, ppg...            0    0   \n",
       "1471                      visit the dermaflash boutique            1    1   \n",
       "\n",
       "      Normal  Oily  Sensitive  \n",
       "0          1     1          1  \n",
       "1          1     1          1  \n",
       "2          1     1          0  \n",
       "3          1     1          1  \n",
       "4          1     1          1  \n",
       "...      ...   ...        ...  \n",
       "1467       1     1          1  \n",
       "1468       0     0          0  \n",
       "1469       0     0          0  \n",
       "1470       0     0          0  \n",
       "1471       1     1          1  \n",
       "\n",
       "[1472 rows x 6 columns]"
      ],
      "text/html": [
       "<div>\n",
       "<style scoped>\n",
       "    .dataframe tbody tr th:only-of-type {\n",
       "        vertical-align: middle;\n",
       "    }\n",
       "\n",
       "    .dataframe tbody tr th {\n",
       "        vertical-align: top;\n",
       "    }\n",
       "\n",
       "    .dataframe thead th {\n",
       "        text-align: right;\n",
       "    }\n",
       "</style>\n",
       "<table border=\"1\" class=\"dataframe\">\n",
       "  <thead>\n",
       "    <tr style=\"text-align: right;\">\n",
       "      <th></th>\n",
       "      <th>Ingredients</th>\n",
       "      <th>Combination</th>\n",
       "      <th>Dry</th>\n",
       "      <th>Normal</th>\n",
       "      <th>Oily</th>\n",
       "      <th>Sensitive</th>\n",
       "    </tr>\n",
       "  </thead>\n",
       "  <tbody>\n",
       "    <tr>\n",
       "      <th>0</th>\n",
       "      <td>algae (seaweed) extract, mineral oil, petrolat...</td>\n",
       "      <td>1</td>\n",
       "      <td>1</td>\n",
       "      <td>1</td>\n",
       "      <td>1</td>\n",
       "      <td>1</td>\n",
       "    </tr>\n",
       "    <tr>\n",
       "      <th>1</th>\n",
       "      <td>galactomyces ferment filtrate (pitera), butyle...</td>\n",
       "      <td>1</td>\n",
       "      <td>1</td>\n",
       "      <td>1</td>\n",
       "      <td>1</td>\n",
       "      <td>1</td>\n",
       "    </tr>\n",
       "    <tr>\n",
       "      <th>2</th>\n",
       "      <td>water, dicaprylyl carbonate, glycerin, ceteary...</td>\n",
       "      <td>1</td>\n",
       "      <td>1</td>\n",
       "      <td>1</td>\n",
       "      <td>1</td>\n",
       "      <td>0</td>\n",
       "    </tr>\n",
       "    <tr>\n",
       "      <th>3</th>\n",
       "      <td>algae (seaweed) extract, cyclopentasiloxane, p...</td>\n",
       "      <td>1</td>\n",
       "      <td>1</td>\n",
       "      <td>1</td>\n",
       "      <td>1</td>\n",
       "      <td>1</td>\n",
       "    </tr>\n",
       "    <tr>\n",
       "      <th>4</th>\n",
       "      <td>water, snail secretion filtrate, phenyl trimet...</td>\n",
       "      <td>1</td>\n",
       "      <td>1</td>\n",
       "      <td>1</td>\n",
       "      <td>1</td>\n",
       "      <td>1</td>\n",
       "    </tr>\n",
       "    <tr>\n",
       "      <th>...</th>\n",
       "      <td>...</td>\n",
       "      <td>...</td>\n",
       "      <td>...</td>\n",
       "      <td>...</td>\n",
       "      <td>...</td>\n",
       "      <td>...</td>\n",
       "    </tr>\n",
       "    <tr>\n",
       "      <th>1467</th>\n",
       "      <td>water, alcohol denat., potassium cetyl phospha...</td>\n",
       "      <td>1</td>\n",
       "      <td>1</td>\n",
       "      <td>1</td>\n",
       "      <td>1</td>\n",
       "      <td>1</td>\n",
       "    </tr>\n",
       "    <tr>\n",
       "      <th>1468</th>\n",
       "      <td>water, isododecane, dimethicone, butyloctyl sa...</td>\n",
       "      <td>0</td>\n",
       "      <td>0</td>\n",
       "      <td>0</td>\n",
       "      <td>0</td>\n",
       "      <td>0</td>\n",
       "    </tr>\n",
       "    <tr>\n",
       "      <th>1469</th>\n",
       "      <td>water, dihydroxyacetone, glycerin, sclerocarya...</td>\n",
       "      <td>0</td>\n",
       "      <td>0</td>\n",
       "      <td>0</td>\n",
       "      <td>0</td>\n",
       "      <td>0</td>\n",
       "    </tr>\n",
       "    <tr>\n",
       "      <th>1470</th>\n",
       "      <td>water, dihydroxyacetone, propylene glycol, ppg...</td>\n",
       "      <td>0</td>\n",
       "      <td>0</td>\n",
       "      <td>0</td>\n",
       "      <td>0</td>\n",
       "      <td>0</td>\n",
       "    </tr>\n",
       "    <tr>\n",
       "      <th>1471</th>\n",
       "      <td>visit the dermaflash boutique</td>\n",
       "      <td>1</td>\n",
       "      <td>1</td>\n",
       "      <td>1</td>\n",
       "      <td>1</td>\n",
       "      <td>1</td>\n",
       "    </tr>\n",
       "  </tbody>\n",
       "</table>\n",
       "<p>1472 rows × 6 columns</p>\n",
       "</div>"
      ]
     },
     "execution_count": 15,
     "metadata": {},
     "output_type": "execute_result"
    }
   ],
   "execution_count": 15
  },
  {
   "metadata": {},
   "cell_type": "markdown",
   "source": "## Feature Engineering ",
   "id": "6b0d4789d592cb10"
  },
  {
   "metadata": {},
   "cell_type": "code",
   "outputs": [],
   "execution_count": null,
   "source": "# tokenisation ",
   "id": "a0fd9e7c8d31b524"
  },
  {
   "metadata": {},
   "cell_type": "markdown",
   "source": "## Feature Extraction ",
   "id": "89fd0d16b8cb6d87"
  },
  {
   "metadata": {},
   "cell_type": "code",
   "outputs": [],
   "execution_count": null,
   "source": "# vectorisation",
   "id": "4f9633dd5048edf3"
  },
  {
   "metadata": {},
   "cell_type": "markdown",
   "source": "## Cleaned Dataset\n",
   "id": "908155f89b74c1d9"
  },
  {
   "metadata": {},
   "cell_type": "code",
   "outputs": [],
   "execution_count": null,
   "source": "",
   "id": "6f5c3e540753ff3d"
  }
 ],
 "metadata": {
  "kernelspec": {
   "display_name": "Python 3",
   "language": "python",
   "name": "python3"
  },
  "language_info": {
   "codemirror_mode": {
    "name": "ipython",
    "version": 2
   },
   "file_extension": ".py",
   "mimetype": "text/x-python",
   "name": "python",
   "nbconvert_exporter": "python",
   "pygments_lexer": "ipython2",
   "version": "2.7.6"
  }
 },
 "nbformat": 4,
 "nbformat_minor": 5
}
