{
 "cells": [
  {
   "metadata": {},
   "cell_type": "markdown",
   "source": "# Data Cleaning  ",
   "id": "e7f6742afdbbeaef"
  },
  {
   "metadata": {},
   "cell_type": "markdown",
   "source": "## Load and Present Data",
   "id": "9f22806f03cb8c31"
  },
  {
   "metadata": {
    "collapsed": true,
    "ExecuteTime": {
     "end_time": "2025-03-04T10:37:54.293002Z",
     "start_time": "2025-03-04T10:36:31.001069Z"
    }
   },
   "cell_type": "code",
   "source": [
    "import pandas as pd\n",
    "import numpy as np\n",
    "import matplotlib.pyplot as plt\n",
    "import sklearn\n",
    "import plotly.express as px\n",
    "%matplotlib"
   ],
   "id": "initial_id",
   "outputs": [
    {
     "name": "stdout",
     "output_type": "stream",
     "text": [
      "Using matplotlib backend: <object object at 0x7fabf003a440>\n"
     ]
    }
   ],
   "execution_count": 1
  },
  {
   "metadata": {
    "ExecuteTime": {
     "end_time": "2025-03-04T10:40:03.592995Z",
     "start_time": "2025-03-04T10:40:03.504387Z"
    }
   },
   "cell_type": "code",
   "source": [
    "df = pd.read_csv('../data/raw/cosmetics.csv')\n",
    "df.info()"
   ],
   "id": "699fefd460fcb823",
   "outputs": [
    {
     "name": "stdout",
     "output_type": "stream",
     "text": [
      "<class 'pandas.core.frame.DataFrame'>\n",
      "RangeIndex: 1472 entries, 0 to 1471\n",
      "Data columns (total 11 columns):\n",
      " #   Column       Non-Null Count  Dtype  \n",
      "---  ------       --------------  -----  \n",
      " 0   Label        1472 non-null   object \n",
      " 1   Brand        1472 non-null   object \n",
      " 2   Name         1472 non-null   object \n",
      " 3   Price        1472 non-null   int64  \n",
      " 4   Rank         1472 non-null   float64\n",
      " 5   Ingredients  1472 non-null   object \n",
      " 6   Combination  1472 non-null   int64  \n",
      " 7   Dry          1472 non-null   int64  \n",
      " 8   Normal       1472 non-null   int64  \n",
      " 9   Oily         1472 non-null   int64  \n",
      " 10  Sensitive    1472 non-null   int64  \n",
      "dtypes: float64(1), int64(6), object(4)\n",
      "memory usage: 126.6+ KB\n"
     ]
    }
   ],
   "execution_count": 2
  },
  {
   "metadata": {},
   "cell_type": "markdown",
   "source": "## Handling Missing Values",
   "id": "ef3c1d0e7b4c44ba"
  },
  {
   "metadata": {
    "ExecuteTime": {
     "end_time": "2025-03-04T10:49:56.444583Z",
     "start_time": "2025-03-04T10:49:56.436187Z"
    }
   },
   "cell_type": "code",
   "source": "print(df.isna().sum())",
   "id": "28bc859a808fea8e",
   "outputs": [
    {
     "name": "stdout",
     "output_type": "stream",
     "text": [
      "Label          0\n",
      "Brand          0\n",
      "Name           0\n",
      "Price          0\n",
      "Rank           0\n",
      "Ingredients    0\n",
      "Combination    0\n",
      "Dry            0\n",
      "Normal         0\n",
      "Oily           0\n",
      "Sensitive      0\n",
      "dtype: int64\n"
     ]
    }
   ],
   "execution_count": 4
  },
  {
   "metadata": {},
   "cell_type": "markdown",
   "source": "## Removing Duplicates ",
   "id": "e0635727483c2afc"
  },
  {
   "metadata": {
    "ExecuteTime": {
     "end_time": "2025-03-04T10:52:00.430921Z",
     "start_time": "2025-03-04T10:52:00.398687Z"
    }
   },
   "cell_type": "code",
   "source": "print(df.duplicated().sum())",
   "id": "539865f29fe9522c",
   "outputs": [
    {
     "name": "stdout",
     "output_type": "stream",
     "text": [
      "0\n"
     ]
    }
   ],
   "execution_count": 5
  },
  {
   "metadata": {},
   "cell_type": "markdown",
   "source": "## Irrelevant Rows",
   "id": "f5983cfe1654f689"
  },
  {
   "metadata": {},
   "cell_type": "code",
   "outputs": [],
   "execution_count": null,
   "source": "irrelevent_rows = [\"Label\",\"Brand\",\"Name\",\"Price\",\"Rank\"]",
   "id": "2b31560699531770"
  },
  {
   "metadata": {},
   "cell_type": "markdown",
   "source": "## Outliers",
   "id": "f4db224b9ec035d"
  },
  {
   "metadata": {},
   "cell_type": "markdown",
   "source": "## Standardisation of Ingredients ",
   "id": "7e6935ab8f94eb3d"
  },
  {
   "metadata": {},
   "cell_type": "code",
   "outputs": [],
   "execution_count": null,
   "source": "# converting to lowercase and removing characters etc",
   "id": "83c7c95aff8cbe43"
  },
  {
   "metadata": {},
   "cell_type": "markdown",
   "source": "## Feature Engineering ",
   "id": "6b0d4789d592cb10"
  },
  {
   "metadata": {},
   "cell_type": "code",
   "outputs": [],
   "execution_count": null,
   "source": "# tokenisation ",
   "id": "a0fd9e7c8d31b524"
  },
  {
   "metadata": {},
   "cell_type": "markdown",
   "source": "## Feature Extraction ",
   "id": "89fd0d16b8cb6d87"
  },
  {
   "metadata": {},
   "cell_type": "code",
   "outputs": [],
   "execution_count": null,
   "source": "# vectorisation",
   "id": "4f9633dd5048edf3"
  }
 ],
 "metadata": {
  "kernelspec": {
   "display_name": "Python 3",
   "language": "python",
   "name": "python3"
  },
  "language_info": {
   "codemirror_mode": {
    "name": "ipython",
    "version": 2
   },
   "file_extension": ".py",
   "mimetype": "text/x-python",
   "name": "python",
   "nbconvert_exporter": "python",
   "pygments_lexer": "ipython2",
   "version": "2.7.6"
  }
 },
 "nbformat": 4,
 "nbformat_minor": 5
}
