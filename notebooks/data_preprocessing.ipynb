{
 "cells": [
  {
   "cell_type": "markdown",
   "id": "e7f6742afdbbeaef",
   "metadata": {},
   "source": [
    "# Data Cleaning  "
   ]
  },
  {
   "cell_type": "markdown",
   "id": "9f22806f03cb8c31",
   "metadata": {},
   "source": [
    "## Load and Present Data"
   ]
  },
  {
   "cell_type": "code",
   "id": "initial_id",
   "metadata": {
    "ExecuteTime": {
     "end_time": "2025-03-26T13:16:36.956105Z",
     "start_time": "2025-03-26T13:16:36.949365Z"
    }
   },
   "source": [
    "import pandas as pd\n",
    "%matplotlib\n"
   ],
   "outputs": [
    {
     "name": "stdout",
     "output_type": "stream",
     "text": [
      "Using matplotlib backend: macosx\n"
     ]
    }
   ],
   "execution_count": 137
  },
  {
   "cell_type": "code",
   "id": "699fefd460fcb823",
   "metadata": {
    "ExecuteTime": {
     "end_time": "2025-03-26T13:16:37.002315Z",
     "start_time": "2025-03-26T13:16:36.974270Z"
    }
   },
   "source": [
    "df = pd.read_csv('../data/raw/cosmetics.csv')\n",
    "df.info()"
   ],
   "outputs": [
    {
     "name": "stdout",
     "output_type": "stream",
     "text": [
      "<class 'pandas.core.frame.DataFrame'>\n",
      "RangeIndex: 1472 entries, 0 to 1471\n",
      "Data columns (total 11 columns):\n",
      " #   Column       Non-Null Count  Dtype  \n",
      "---  ------       --------------  -----  \n",
      " 0   Label        1472 non-null   object \n",
      " 1   Brand        1472 non-null   object \n",
      " 2   Name         1472 non-null   object \n",
      " 3   Price        1472 non-null   int64  \n",
      " 4   Rank         1472 non-null   float64\n",
      " 5   Ingredients  1472 non-null   object \n",
      " 6   Combination  1472 non-null   int64  \n",
      " 7   Dry          1472 non-null   int64  \n",
      " 8   Normal       1472 non-null   int64  \n",
      " 9   Oily         1472 non-null   int64  \n",
      " 10  Sensitive    1472 non-null   int64  \n",
      "dtypes: float64(1), int64(6), object(4)\n",
      "memory usage: 126.6+ KB\n"
     ]
    }
   ],
   "execution_count": 138
  },
  {
   "cell_type": "markdown",
   "id": "ef3c1d0e7b4c44ba",
   "metadata": {},
   "source": [
    "## Handling Missing Values"
   ]
  },
  {
   "cell_type": "code",
   "id": "28bc859a808fea8e",
   "metadata": {
    "ExecuteTime": {
     "end_time": "2025-03-26T13:16:37.023508Z",
     "start_time": "2025-03-26T13:16:37.018453Z"
    }
   },
   "source": [
    "print(df.isna().sum())"
   ],
   "outputs": [
    {
     "name": "stdout",
     "output_type": "stream",
     "text": [
      "Label          0\n",
      "Brand          0\n",
      "Name           0\n",
      "Price          0\n",
      "Rank           0\n",
      "Ingredients    0\n",
      "Combination    0\n",
      "Dry            0\n",
      "Normal         0\n",
      "Oily           0\n",
      "Sensitive      0\n",
      "dtype: int64\n"
     ]
    }
   ],
   "execution_count": 139
  },
  {
   "cell_type": "markdown",
   "id": "e0635727483c2afc",
   "metadata": {},
   "source": [
    "## Removing Duplicates "
   ]
  },
  {
   "cell_type": "code",
   "id": "539865f29fe9522c",
   "metadata": {
    "ExecuteTime": {
     "end_time": "2025-03-26T13:16:37.050528Z",
     "start_time": "2025-03-26T13:16:37.039614Z"
    }
   },
   "source": [
    "print(df.duplicated().sum())"
   ],
   "outputs": [
    {
     "name": "stdout",
     "output_type": "stream",
     "text": [
      "0\n"
     ]
    }
   ],
   "execution_count": 140
  },
  {
   "cell_type": "markdown",
   "id": "f5983cfe1654f689",
   "metadata": {},
   "source": [
    "## Irrelevant/Erroneous Rows and Columns"
   ]
  },
  {
   "cell_type": "code",
   "id": "2b31560699531770",
   "metadata": {
    "ExecuteTime": {
     "end_time": "2025-03-26T13:16:37.150488Z",
     "start_time": "2025-03-26T13:16:37.067986Z"
    }
   },
   "source": [
    "import re\n",
    "# removing irrelevant\n",
    "irrelevent_columns = [\"Label\",\"Brand\",\"Name\",\"Price\",\"Rank\"]\n",
    "df.drop(irrelevent_columns, axis=1, inplace=True)\n",
    "\n",
    "# removing the content in the parenthesis\n",
    "df['Ingredients'] = df['Ingredients'].str.replace(r\"\\s*\\([^)]*\\)\", \"\", regex=True)\n",
    "\n",
    "# if the content in the ingredients is not a list then remove it\n",
    "expected_format = r\"[^A-Za-z0-9(),\\-\\s]+[:].*\"\n",
    "\n",
    "df_cleaned = df[~df['Ingredients'].str.contains(r\"[^A-Za-z0-9(),\\-\\s]+[:].*\", na=False) &\n",
    "                ~df['Ingredients'].str.contains(r\"#NAME\\?|Visit|\\*\", na=False) &\n",
    "                ~df['Ingredients'].str.match(expected_format) &\n",
    "                ~df['Ingredients'].str.startswith('-')]\n",
    "\n",
    "# if combination dry oily sensitive is 0 remove it bc this is logic error\n",
    "df_cleaned = df_cleaned.loc[(df[['Combination', 'Dry', 'Normal', 'Oily', 'Sensitive']].sum(axis=1) > 0)]\n",
    "\n",
    "df_cleaned\n"
   ],
   "outputs": [
    {
     "data": {
      "text/plain": [
       "                                            Ingredients  Combination  Dry  \\\n",
       "0     Algae Extract, Mineral Oil, Petrolatum, Glycer...            1    1   \n",
       "1     Galactomyces Ferment Filtrate, Butylene Glycol...            1    1   \n",
       "2     Water, Dicaprylyl Carbonate, Glycerin, Ceteary...            1    1   \n",
       "3     Algae Extract, Cyclopentasiloxane, Petrolatum,...            1    1   \n",
       "4     Water, Snail Secretion Filtrate, Phenyl Trimet...            1    1   \n",
       "...                                                 ...          ...  ...   \n",
       "1457  SD Alcohol 40, Butyloctyl Salicylate, Polyeste...            1    1   \n",
       "1458  Alcohol, Algae Extract, Aloe Barbadensis Leaf ...            1    1   \n",
       "1459  Water, Caprylic/Caprlc Triglyceride, Glycerin,...            1    1   \n",
       "1464  Water, Cyclopentasiloxane, Butyloctyl Salicyla...            1    1   \n",
       "1467  Water, Alcohol Denat., Potassium Cetyl Phospha...            1    1   \n",
       "\n",
       "      Normal  Oily  Sensitive  \n",
       "0          1     1          1  \n",
       "1          1     1          1  \n",
       "2          1     1          0  \n",
       "3          1     1          1  \n",
       "4          1     1          1  \n",
       "...      ...   ...        ...  \n",
       "1457       1     1          1  \n",
       "1458       1     1          1  \n",
       "1459       1     1          0  \n",
       "1464       1     1          1  \n",
       "1467       1     1          1  \n",
       "\n",
       "[763 rows x 6 columns]"
      ],
      "text/html": [
       "<div>\n",
       "<style scoped>\n",
       "    .dataframe tbody tr th:only-of-type {\n",
       "        vertical-align: middle;\n",
       "    }\n",
       "\n",
       "    .dataframe tbody tr th {\n",
       "        vertical-align: top;\n",
       "    }\n",
       "\n",
       "    .dataframe thead th {\n",
       "        text-align: right;\n",
       "    }\n",
       "</style>\n",
       "<table border=\"1\" class=\"dataframe\">\n",
       "  <thead>\n",
       "    <tr style=\"text-align: right;\">\n",
       "      <th></th>\n",
       "      <th>Ingredients</th>\n",
       "      <th>Combination</th>\n",
       "      <th>Dry</th>\n",
       "      <th>Normal</th>\n",
       "      <th>Oily</th>\n",
       "      <th>Sensitive</th>\n",
       "    </tr>\n",
       "  </thead>\n",
       "  <tbody>\n",
       "    <tr>\n",
       "      <th>0</th>\n",
       "      <td>Algae Extract, Mineral Oil, Petrolatum, Glycer...</td>\n",
       "      <td>1</td>\n",
       "      <td>1</td>\n",
       "      <td>1</td>\n",
       "      <td>1</td>\n",
       "      <td>1</td>\n",
       "    </tr>\n",
       "    <tr>\n",
       "      <th>1</th>\n",
       "      <td>Galactomyces Ferment Filtrate, Butylene Glycol...</td>\n",
       "      <td>1</td>\n",
       "      <td>1</td>\n",
       "      <td>1</td>\n",
       "      <td>1</td>\n",
       "      <td>1</td>\n",
       "    </tr>\n",
       "    <tr>\n",
       "      <th>2</th>\n",
       "      <td>Water, Dicaprylyl Carbonate, Glycerin, Ceteary...</td>\n",
       "      <td>1</td>\n",
       "      <td>1</td>\n",
       "      <td>1</td>\n",
       "      <td>1</td>\n",
       "      <td>0</td>\n",
       "    </tr>\n",
       "    <tr>\n",
       "      <th>3</th>\n",
       "      <td>Algae Extract, Cyclopentasiloxane, Petrolatum,...</td>\n",
       "      <td>1</td>\n",
       "      <td>1</td>\n",
       "      <td>1</td>\n",
       "      <td>1</td>\n",
       "      <td>1</td>\n",
       "    </tr>\n",
       "    <tr>\n",
       "      <th>4</th>\n",
       "      <td>Water, Snail Secretion Filtrate, Phenyl Trimet...</td>\n",
       "      <td>1</td>\n",
       "      <td>1</td>\n",
       "      <td>1</td>\n",
       "      <td>1</td>\n",
       "      <td>1</td>\n",
       "    </tr>\n",
       "    <tr>\n",
       "      <th>...</th>\n",
       "      <td>...</td>\n",
       "      <td>...</td>\n",
       "      <td>...</td>\n",
       "      <td>...</td>\n",
       "      <td>...</td>\n",
       "      <td>...</td>\n",
       "    </tr>\n",
       "    <tr>\n",
       "      <th>1457</th>\n",
       "      <td>SD Alcohol 40, Butyloctyl Salicylate, Polyeste...</td>\n",
       "      <td>1</td>\n",
       "      <td>1</td>\n",
       "      <td>1</td>\n",
       "      <td>1</td>\n",
       "      <td>1</td>\n",
       "    </tr>\n",
       "    <tr>\n",
       "      <th>1458</th>\n",
       "      <td>Alcohol, Algae Extract, Aloe Barbadensis Leaf ...</td>\n",
       "      <td>1</td>\n",
       "      <td>1</td>\n",
       "      <td>1</td>\n",
       "      <td>1</td>\n",
       "      <td>1</td>\n",
       "    </tr>\n",
       "    <tr>\n",
       "      <th>1459</th>\n",
       "      <td>Water, Caprylic/Caprlc Triglyceride, Glycerin,...</td>\n",
       "      <td>1</td>\n",
       "      <td>1</td>\n",
       "      <td>1</td>\n",
       "      <td>1</td>\n",
       "      <td>0</td>\n",
       "    </tr>\n",
       "    <tr>\n",
       "      <th>1464</th>\n",
       "      <td>Water, Cyclopentasiloxane, Butyloctyl Salicyla...</td>\n",
       "      <td>1</td>\n",
       "      <td>1</td>\n",
       "      <td>1</td>\n",
       "      <td>1</td>\n",
       "      <td>1</td>\n",
       "    </tr>\n",
       "    <tr>\n",
       "      <th>1467</th>\n",
       "      <td>Water, Alcohol Denat., Potassium Cetyl Phospha...</td>\n",
       "      <td>1</td>\n",
       "      <td>1</td>\n",
       "      <td>1</td>\n",
       "      <td>1</td>\n",
       "      <td>1</td>\n",
       "    </tr>\n",
       "  </tbody>\n",
       "</table>\n",
       "<p>763 rows × 6 columns</p>\n",
       "</div>"
      ]
     },
     "execution_count": 141,
     "metadata": {},
     "output_type": "execute_result"
    }
   ],
   "execution_count": 141
  },
  {
   "cell_type": "markdown",
   "id": "7e6935ab8f94eb3d",
   "metadata": {},
   "source": [
    "## Standardisation of Ingredients "
   ]
  },
  {
   "cell_type": "code",
   "id": "83c7c95aff8cbe43",
   "metadata": {
    "ExecuteTime": {
     "end_time": "2025-03-26T13:16:37.252125Z",
     "start_time": "2025-03-26T13:16:37.220202Z"
    }
   },
   "source": [
    "# converting to lowercase\n",
    "df_cleaned['Ingredients'] = df_cleaned['Ingredients'].str.lower()\n",
    "\n",
    "# only using biological names for the ingredients - regex - pattern mathciung\n",
    "for row in df_cleaned['Ingredients']:\n",
    "    re.sub(r\"\\s*\\(.*?\\)\", \"\", row)\n",
    "df_cleaned"
   ],
   "outputs": [
    {
     "data": {
      "text/plain": [
       "                                            Ingredients  Combination  Dry  \\\n",
       "0     algae extract, mineral oil, petrolatum, glycer...            1    1   \n",
       "1     galactomyces ferment filtrate, butylene glycol...            1    1   \n",
       "2     water, dicaprylyl carbonate, glycerin, ceteary...            1    1   \n",
       "3     algae extract, cyclopentasiloxane, petrolatum,...            1    1   \n",
       "4     water, snail secretion filtrate, phenyl trimet...            1    1   \n",
       "...                                                 ...          ...  ...   \n",
       "1457  sd alcohol 40, butyloctyl salicylate, polyeste...            1    1   \n",
       "1458  alcohol, algae extract, aloe barbadensis leaf ...            1    1   \n",
       "1459  water, caprylic/caprlc triglyceride, glycerin,...            1    1   \n",
       "1464  water, cyclopentasiloxane, butyloctyl salicyla...            1    1   \n",
       "1467  water, alcohol denat., potassium cetyl phospha...            1    1   \n",
       "\n",
       "      Normal  Oily  Sensitive  \n",
       "0          1     1          1  \n",
       "1          1     1          1  \n",
       "2          1     1          0  \n",
       "3          1     1          1  \n",
       "4          1     1          1  \n",
       "...      ...   ...        ...  \n",
       "1457       1     1          1  \n",
       "1458       1     1          1  \n",
       "1459       1     1          0  \n",
       "1464       1     1          1  \n",
       "1467       1     1          1  \n",
       "\n",
       "[763 rows x 6 columns]"
      ],
      "text/html": [
       "<div>\n",
       "<style scoped>\n",
       "    .dataframe tbody tr th:only-of-type {\n",
       "        vertical-align: middle;\n",
       "    }\n",
       "\n",
       "    .dataframe tbody tr th {\n",
       "        vertical-align: top;\n",
       "    }\n",
       "\n",
       "    .dataframe thead th {\n",
       "        text-align: right;\n",
       "    }\n",
       "</style>\n",
       "<table border=\"1\" class=\"dataframe\">\n",
       "  <thead>\n",
       "    <tr style=\"text-align: right;\">\n",
       "      <th></th>\n",
       "      <th>Ingredients</th>\n",
       "      <th>Combination</th>\n",
       "      <th>Dry</th>\n",
       "      <th>Normal</th>\n",
       "      <th>Oily</th>\n",
       "      <th>Sensitive</th>\n",
       "    </tr>\n",
       "  </thead>\n",
       "  <tbody>\n",
       "    <tr>\n",
       "      <th>0</th>\n",
       "      <td>algae extract, mineral oil, petrolatum, glycer...</td>\n",
       "      <td>1</td>\n",
       "      <td>1</td>\n",
       "      <td>1</td>\n",
       "      <td>1</td>\n",
       "      <td>1</td>\n",
       "    </tr>\n",
       "    <tr>\n",
       "      <th>1</th>\n",
       "      <td>galactomyces ferment filtrate, butylene glycol...</td>\n",
       "      <td>1</td>\n",
       "      <td>1</td>\n",
       "      <td>1</td>\n",
       "      <td>1</td>\n",
       "      <td>1</td>\n",
       "    </tr>\n",
       "    <tr>\n",
       "      <th>2</th>\n",
       "      <td>water, dicaprylyl carbonate, glycerin, ceteary...</td>\n",
       "      <td>1</td>\n",
       "      <td>1</td>\n",
       "      <td>1</td>\n",
       "      <td>1</td>\n",
       "      <td>0</td>\n",
       "    </tr>\n",
       "    <tr>\n",
       "      <th>3</th>\n",
       "      <td>algae extract, cyclopentasiloxane, petrolatum,...</td>\n",
       "      <td>1</td>\n",
       "      <td>1</td>\n",
       "      <td>1</td>\n",
       "      <td>1</td>\n",
       "      <td>1</td>\n",
       "    </tr>\n",
       "    <tr>\n",
       "      <th>4</th>\n",
       "      <td>water, snail secretion filtrate, phenyl trimet...</td>\n",
       "      <td>1</td>\n",
       "      <td>1</td>\n",
       "      <td>1</td>\n",
       "      <td>1</td>\n",
       "      <td>1</td>\n",
       "    </tr>\n",
       "    <tr>\n",
       "      <th>...</th>\n",
       "      <td>...</td>\n",
       "      <td>...</td>\n",
       "      <td>...</td>\n",
       "      <td>...</td>\n",
       "      <td>...</td>\n",
       "      <td>...</td>\n",
       "    </tr>\n",
       "    <tr>\n",
       "      <th>1457</th>\n",
       "      <td>sd alcohol 40, butyloctyl salicylate, polyeste...</td>\n",
       "      <td>1</td>\n",
       "      <td>1</td>\n",
       "      <td>1</td>\n",
       "      <td>1</td>\n",
       "      <td>1</td>\n",
       "    </tr>\n",
       "    <tr>\n",
       "      <th>1458</th>\n",
       "      <td>alcohol, algae extract, aloe barbadensis leaf ...</td>\n",
       "      <td>1</td>\n",
       "      <td>1</td>\n",
       "      <td>1</td>\n",
       "      <td>1</td>\n",
       "      <td>1</td>\n",
       "    </tr>\n",
       "    <tr>\n",
       "      <th>1459</th>\n",
       "      <td>water, caprylic/caprlc triglyceride, glycerin,...</td>\n",
       "      <td>1</td>\n",
       "      <td>1</td>\n",
       "      <td>1</td>\n",
       "      <td>1</td>\n",
       "      <td>0</td>\n",
       "    </tr>\n",
       "    <tr>\n",
       "      <th>1464</th>\n",
       "      <td>water, cyclopentasiloxane, butyloctyl salicyla...</td>\n",
       "      <td>1</td>\n",
       "      <td>1</td>\n",
       "      <td>1</td>\n",
       "      <td>1</td>\n",
       "      <td>1</td>\n",
       "    </tr>\n",
       "    <tr>\n",
       "      <th>1467</th>\n",
       "      <td>water, alcohol denat., potassium cetyl phospha...</td>\n",
       "      <td>1</td>\n",
       "      <td>1</td>\n",
       "      <td>1</td>\n",
       "      <td>1</td>\n",
       "      <td>1</td>\n",
       "    </tr>\n",
       "  </tbody>\n",
       "</table>\n",
       "<p>763 rows × 6 columns</p>\n",
       "</div>"
      ]
     },
     "execution_count": 142,
     "metadata": {},
     "output_type": "execute_result"
    }
   ],
   "execution_count": 142
  },
  {
   "cell_type": "markdown",
   "id": "6b0d4789d592cb10",
   "metadata": {},
   "source": [
    "## Feature Engineering "
   ]
  },
  {
   "cell_type": "code",
   "id": "a0fd9e7c8d31b524",
   "metadata": {
    "ExecuteTime": {
     "end_time": "2025-03-26T13:16:39.901272Z",
     "start_time": "2025-03-26T13:16:37.365436Z"
    }
   },
   "source": [
    "# tokenisation\n",
    "# natural language toolkit\n",
    "import nltk\n",
    "from nltk import word_tokenize\n",
    "#tokenisation library\n",
    "nltk.download('punkt_tab')\n",
    "\n",
    "df_cleaned['Ingredients'] = df_cleaned['Ingredients'].apply(lambda x: [word_tokenize(part.strip()) for part in x.split(',')])\n",
    "df_cleaned"
   ],
   "outputs": [
    {
     "name": "stderr",
     "output_type": "stream",
     "text": [
      "[nltk_data] Downloading package punkt_tab to /Users/hannah-\n",
      "[nltk_data]     ann/nltk_data...\n",
      "[nltk_data]   Package punkt_tab is already up-to-date!\n"
     ]
    },
    {
     "data": {
      "text/plain": [
       "                                            Ingredients  Combination  Dry  \\\n",
       "0     [[algae, extract], [mineral, oil], [petrolatum...            1    1   \n",
       "1     [[galactomyces, ferment, filtrate], [butylene,...            1    1   \n",
       "2     [[water], [dicaprylyl, carbonate], [glycerin],...            1    1   \n",
       "3     [[algae, extract], [cyclopentasiloxane], [petr...            1    1   \n",
       "4     [[water], [snail, secretion, filtrate], [pheny...            1    1   \n",
       "...                                                 ...          ...  ...   \n",
       "1457  [[sd, alcohol, 40], [butyloctyl, salicylate], ...            1    1   \n",
       "1458  [[alcohol], [algae, extract], [aloe, barbadens...            1    1   \n",
       "1459  [[water], [caprylic/caprlc, triglyceride], [gl...            1    1   \n",
       "1464  [[water], [cyclopentasiloxane], [butyloctyl, s...            1    1   \n",
       "1467  [[water], [alcohol, denat, .], [potassium, cet...            1    1   \n",
       "\n",
       "      Normal  Oily  Sensitive  \n",
       "0          1     1          1  \n",
       "1          1     1          1  \n",
       "2          1     1          0  \n",
       "3          1     1          1  \n",
       "4          1     1          1  \n",
       "...      ...   ...        ...  \n",
       "1457       1     1          1  \n",
       "1458       1     1          1  \n",
       "1459       1     1          0  \n",
       "1464       1     1          1  \n",
       "1467       1     1          1  \n",
       "\n",
       "[763 rows x 6 columns]"
      ],
      "text/html": [
       "<div>\n",
       "<style scoped>\n",
       "    .dataframe tbody tr th:only-of-type {\n",
       "        vertical-align: middle;\n",
       "    }\n",
       "\n",
       "    .dataframe tbody tr th {\n",
       "        vertical-align: top;\n",
       "    }\n",
       "\n",
       "    .dataframe thead th {\n",
       "        text-align: right;\n",
       "    }\n",
       "</style>\n",
       "<table border=\"1\" class=\"dataframe\">\n",
       "  <thead>\n",
       "    <tr style=\"text-align: right;\">\n",
       "      <th></th>\n",
       "      <th>Ingredients</th>\n",
       "      <th>Combination</th>\n",
       "      <th>Dry</th>\n",
       "      <th>Normal</th>\n",
       "      <th>Oily</th>\n",
       "      <th>Sensitive</th>\n",
       "    </tr>\n",
       "  </thead>\n",
       "  <tbody>\n",
       "    <tr>\n",
       "      <th>0</th>\n",
       "      <td>[[algae, extract], [mineral, oil], [petrolatum...</td>\n",
       "      <td>1</td>\n",
       "      <td>1</td>\n",
       "      <td>1</td>\n",
       "      <td>1</td>\n",
       "      <td>1</td>\n",
       "    </tr>\n",
       "    <tr>\n",
       "      <th>1</th>\n",
       "      <td>[[galactomyces, ferment, filtrate], [butylene,...</td>\n",
       "      <td>1</td>\n",
       "      <td>1</td>\n",
       "      <td>1</td>\n",
       "      <td>1</td>\n",
       "      <td>1</td>\n",
       "    </tr>\n",
       "    <tr>\n",
       "      <th>2</th>\n",
       "      <td>[[water], [dicaprylyl, carbonate], [glycerin],...</td>\n",
       "      <td>1</td>\n",
       "      <td>1</td>\n",
       "      <td>1</td>\n",
       "      <td>1</td>\n",
       "      <td>0</td>\n",
       "    </tr>\n",
       "    <tr>\n",
       "      <th>3</th>\n",
       "      <td>[[algae, extract], [cyclopentasiloxane], [petr...</td>\n",
       "      <td>1</td>\n",
       "      <td>1</td>\n",
       "      <td>1</td>\n",
       "      <td>1</td>\n",
       "      <td>1</td>\n",
       "    </tr>\n",
       "    <tr>\n",
       "      <th>4</th>\n",
       "      <td>[[water], [snail, secretion, filtrate], [pheny...</td>\n",
       "      <td>1</td>\n",
       "      <td>1</td>\n",
       "      <td>1</td>\n",
       "      <td>1</td>\n",
       "      <td>1</td>\n",
       "    </tr>\n",
       "    <tr>\n",
       "      <th>...</th>\n",
       "      <td>...</td>\n",
       "      <td>...</td>\n",
       "      <td>...</td>\n",
       "      <td>...</td>\n",
       "      <td>...</td>\n",
       "      <td>...</td>\n",
       "    </tr>\n",
       "    <tr>\n",
       "      <th>1457</th>\n",
       "      <td>[[sd, alcohol, 40], [butyloctyl, salicylate], ...</td>\n",
       "      <td>1</td>\n",
       "      <td>1</td>\n",
       "      <td>1</td>\n",
       "      <td>1</td>\n",
       "      <td>1</td>\n",
       "    </tr>\n",
       "    <tr>\n",
       "      <th>1458</th>\n",
       "      <td>[[alcohol], [algae, extract], [aloe, barbadens...</td>\n",
       "      <td>1</td>\n",
       "      <td>1</td>\n",
       "      <td>1</td>\n",
       "      <td>1</td>\n",
       "      <td>1</td>\n",
       "    </tr>\n",
       "    <tr>\n",
       "      <th>1459</th>\n",
       "      <td>[[water], [caprylic/caprlc, triglyceride], [gl...</td>\n",
       "      <td>1</td>\n",
       "      <td>1</td>\n",
       "      <td>1</td>\n",
       "      <td>1</td>\n",
       "      <td>0</td>\n",
       "    </tr>\n",
       "    <tr>\n",
       "      <th>1464</th>\n",
       "      <td>[[water], [cyclopentasiloxane], [butyloctyl, s...</td>\n",
       "      <td>1</td>\n",
       "      <td>1</td>\n",
       "      <td>1</td>\n",
       "      <td>1</td>\n",
       "      <td>1</td>\n",
       "    </tr>\n",
       "    <tr>\n",
       "      <th>1467</th>\n",
       "      <td>[[water], [alcohol, denat, .], [potassium, cet...</td>\n",
       "      <td>1</td>\n",
       "      <td>1</td>\n",
       "      <td>1</td>\n",
       "      <td>1</td>\n",
       "      <td>1</td>\n",
       "    </tr>\n",
       "  </tbody>\n",
       "</table>\n",
       "<p>763 rows × 6 columns</p>\n",
       "</div>"
      ]
     },
     "execution_count": 143,
     "metadata": {},
     "output_type": "execute_result"
    }
   ],
   "execution_count": 143
  },
  {
   "cell_type": "markdown",
   "id": "89fd0d16b8cb6d87",
   "metadata": {},
   "source": [
    "## Feature Extraction "
   ]
  },
  {
   "cell_type": "code",
   "id": "4f9633dd5048edf3",
   "metadata": {
    "ExecuteTime": {
     "end_time": "2025-03-26T13:16:40.122357Z",
     "start_time": "2025-03-26T13:16:40.023328Z"
    }
   },
   "source": [
    ".# vectorisation\n",
    "from sklearn.feature_extraction.text import TfidfVectorizer\n",
    "vectorizer = TfidfVectorizer()\n",
    "\n",
    "# converting the values into a string for it to be vectorised\n",
    "df_cleaned['Ingredients'] = df_cleaned['Ingredients'].apply(lambda x: ' '.join([' '.join(ing) for ing in x]))\n",
    "\n",
    "X = vectorizer.fit_transform(df_cleaned['Ingredients'])\n",
    "\n",
    "# View results\n",
    "print(vectorizer.get_feature_names_out())  # Words used as features\n",
    "print(X.toarray())  # TF-IDF values for each row\n"
   ],
   "outputs": [
    {
     "name": "stdout",
     "output_type": "stream",
     "text": [
      "['00' '10' '100' ... 'zizanoides' 'ziziphus' 'zizyphus']\n",
      "[[0.        0.        0.        ... 0.        0.        0.       ]\n",
      " [0.        0.        0.        ... 0.        0.        0.       ]\n",
      " [0.        0.        0.        ... 0.        0.        0.       ]\n",
      " ...\n",
      " [0.        0.        0.        ... 0.        0.        0.       ]\n",
      " [0.        0.0487096 0.        ... 0.        0.        0.       ]\n",
      " [0.        0.        0.        ... 0.        0.        0.       ]]\n"
     ]
    }
   ],
   "execution_count": 144
  },
  {
   "cell_type": "markdown",
   "id": "908155f89b74c1d9",
   "metadata": {},
   "source": [
    "## Cleaned Dataset\n"
   ]
  },
  {
   "cell_type": "code",
   "id": "6f5c3e540753ff3d",
   "metadata": {
    "ExecuteTime": {
     "end_time": "2025-03-26T13:16:40.203450Z",
     "start_time": "2025-03-26T13:16:40.174299Z"
    }
   },
   "source": "df_cleaned.to_csv(\"../data/cleaned/cleaned_dataset.csv\", index=False)",
   "outputs": [],
   "execution_count": 145
  }
 ],
 "metadata": {
  "kernelspec": {
   "display_name": "Python 3 (ipykernel)",
   "language": "python",
   "name": "python3"
  },
  "language_info": {
   "codemirror_mode": {
    "name": "ipython",
    "version": 3
   },
   "file_extension": ".py",
   "mimetype": "text/x-python",
   "name": "python",
   "nbconvert_exporter": "python",
   "pygments_lexer": "ipython3",
   "version": "3.9.6"
  }
 },
 "nbformat": 4,
 "nbformat_minor": 5
}
