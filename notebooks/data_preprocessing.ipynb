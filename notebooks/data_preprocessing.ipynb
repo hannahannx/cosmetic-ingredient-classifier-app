{
 "cells": [
  {
   "metadata": {},
   "cell_type": "markdown",
   "source": "# Data Cleaning  ",
   "id": "e7f6742afdbbeaef"
  },
  {
   "metadata": {},
   "cell_type": "markdown",
   "source": "## Load and Present Data",
   "id": "9f22806f03cb8c31"
  },
  {
   "metadata": {
    "collapsed": true,
    "ExecuteTime": {
     "end_time": "2025-03-21T04:19:28.928326Z",
     "start_time": "2025-03-21T04:19:28.921292Z"
    }
   },
   "cell_type": "code",
   "source": [
    "import pandas as pd\n",
    "\n",
    "%matplotlib"
   ],
   "id": "initial_id",
   "outputs": [
    {
     "name": "stdout",
     "output_type": "stream",
     "text": [
      "Using matplotlib backend: macosx\n"
     ]
    }
   ],
   "execution_count": 9
  },
  {
   "metadata": {
    "ExecuteTime": {
     "end_time": "2025-03-21T04:19:45.252299Z",
     "start_time": "2025-03-21T04:19:45.197746Z"
    }
   },
   "cell_type": "code",
   "source": [
    "df = pd.read_csv('../data/raw/cosmetics.csv')\n",
    "df.info()"
   ],
   "id": "699fefd460fcb823",
   "outputs": [
    {
     "name": "stdout",
     "output_type": "stream",
     "text": [
      "<class 'pandas.core.frame.DataFrame'>\n",
      "RangeIndex: 1472 entries, 0 to 1471\n",
      "Data columns (total 11 columns):\n",
      " #   Column       Non-Null Count  Dtype  \n",
      "---  ------       --------------  -----  \n",
      " 0   Label        1472 non-null   object \n",
      " 1   Brand        1472 non-null   object \n",
      " 2   Name         1472 non-null   object \n",
      " 3   Price        1472 non-null   int64  \n",
      " 4   Rank         1472 non-null   float64\n",
      " 5   Ingredients  1472 non-null   object \n",
      " 6   Combination  1472 non-null   int64  \n",
      " 7   Dry          1472 non-null   int64  \n",
      " 8   Normal       1472 non-null   int64  \n",
      " 9   Oily         1472 non-null   int64  \n",
      " 10  Sensitive    1472 non-null   int64  \n",
      "dtypes: float64(1), int64(6), object(4)\n",
      "memory usage: 126.6+ KB\n"
     ]
    }
   ],
   "execution_count": 10
  },
  {
   "metadata": {},
   "cell_type": "markdown",
   "source": "## Handling Missing Values",
   "id": "ef3c1d0e7b4c44ba"
  },
  {
   "metadata": {
    "ExecuteTime": {
     "end_time": "2025-03-21T04:19:48.623454Z",
     "start_time": "2025-03-21T04:19:48.615495Z"
    }
   },
   "cell_type": "code",
   "source": "print(df.isna().sum())",
   "id": "28bc859a808fea8e",
   "outputs": [
    {
     "name": "stdout",
     "output_type": "stream",
     "text": [
      "Label          0\n",
      "Brand          0\n",
      "Name           0\n",
      "Price          0\n",
      "Rank           0\n",
      "Ingredients    0\n",
      "Combination    0\n",
      "Dry            0\n",
      "Normal         0\n",
      "Oily           0\n",
      "Sensitive      0\n",
      "dtype: int64\n"
     ]
    }
   ],
   "execution_count": 11
  },
  {
   "metadata": {},
   "cell_type": "markdown",
   "source": "## Handling ",
   "id": "dbad3260fb5fe2a3"
  },
  {
   "metadata": {},
   "cell_type": "code",
   "outputs": [],
   "execution_count": null,
   "source": "",
   "id": "374f8b8839cc5893"
  },
  {
   "metadata": {},
   "cell_type": "markdown",
   "source": "## Removing Duplicates ",
   "id": "e0635727483c2afc"
  },
  {
   "metadata": {
    "ExecuteTime": {
     "end_time": "2025-03-21T04:19:50.538630Z",
     "start_time": "2025-03-21T04:19:50.523911Z"
    }
   },
   "cell_type": "code",
   "source": "print(df.duplicated().sum())",
   "id": "539865f29fe9522c",
   "outputs": [
    {
     "name": "stdout",
     "output_type": "stream",
     "text": [
      "0\n"
     ]
    }
   ],
   "execution_count": 12
  },
  {
   "metadata": {},
   "cell_type": "markdown",
   "source": "## Irrelevant Rows",
   "id": "f5983cfe1654f689"
  },
  {
   "metadata": {
    "ExecuteTime": {
     "end_time": "2025-03-21T04:19:52.603932Z",
     "start_time": "2025-03-21T04:19:52.582716Z"
    }
   },
   "cell_type": "code",
   "source": [
    "irrelevent_rows = [\"Label\",\"Brand\",\"Name\",\"Price\",\"Rank\"]\n",
    "df.drop(irrelevent_rows, axis=1, inplace=True)\n",
    "df"
   ],
   "id": "2b31560699531770",
   "outputs": [
    {
     "data": {
      "text/plain": [
       "                                            Ingredients  Combination  Dry  \\\n",
       "0     Algae (Seaweed) Extract, Mineral Oil, Petrolat...            1    1   \n",
       "1     Galactomyces Ferment Filtrate (Pitera), Butyle...            1    1   \n",
       "2     Water, Dicaprylyl Carbonate, Glycerin, Ceteary...            1    1   \n",
       "3     Algae (Seaweed) Extract, Cyclopentasiloxane, P...            1    1   \n",
       "4     Water, Snail Secretion Filtrate, Phenyl Trimet...            1    1   \n",
       "...                                                 ...          ...  ...   \n",
       "1467  Water, Alcohol Denat., Potassium Cetyl Phospha...            1    1   \n",
       "1468  Water, Isododecane, Dimethicone, Butyloctyl Sa...            0    0   \n",
       "1469  Water, Dihydroxyacetone, Glycerin, Sclerocarya...            0    0   \n",
       "1470  Water, Dihydroxyacetone, Propylene Glycol, PPG...            0    0   \n",
       "1471                      Visit the DERMAFLASH boutique            1    1   \n",
       "\n",
       "      Normal  Oily  Sensitive  \n",
       "0          1     1          1  \n",
       "1          1     1          1  \n",
       "2          1     1          0  \n",
       "3          1     1          1  \n",
       "4          1     1          1  \n",
       "...      ...   ...        ...  \n",
       "1467       1     1          1  \n",
       "1468       0     0          0  \n",
       "1469       0     0          0  \n",
       "1470       0     0          0  \n",
       "1471       1     1          1  \n",
       "\n",
       "[1472 rows x 6 columns]"
      ],
      "text/html": [
       "<div>\n",
       "<style scoped>\n",
       "    .dataframe tbody tr th:only-of-type {\n",
       "        vertical-align: middle;\n",
       "    }\n",
       "\n",
       "    .dataframe tbody tr th {\n",
       "        vertical-align: top;\n",
       "    }\n",
       "\n",
       "    .dataframe thead th {\n",
       "        text-align: right;\n",
       "    }\n",
       "</style>\n",
       "<table border=\"1\" class=\"dataframe\">\n",
       "  <thead>\n",
       "    <tr style=\"text-align: right;\">\n",
       "      <th></th>\n",
       "      <th>Ingredients</th>\n",
       "      <th>Combination</th>\n",
       "      <th>Dry</th>\n",
       "      <th>Normal</th>\n",
       "      <th>Oily</th>\n",
       "      <th>Sensitive</th>\n",
       "    </tr>\n",
       "  </thead>\n",
       "  <tbody>\n",
       "    <tr>\n",
       "      <th>0</th>\n",
       "      <td>Algae (Seaweed) Extract, Mineral Oil, Petrolat...</td>\n",
       "      <td>1</td>\n",
       "      <td>1</td>\n",
       "      <td>1</td>\n",
       "      <td>1</td>\n",
       "      <td>1</td>\n",
       "    </tr>\n",
       "    <tr>\n",
       "      <th>1</th>\n",
       "      <td>Galactomyces Ferment Filtrate (Pitera), Butyle...</td>\n",
       "      <td>1</td>\n",
       "      <td>1</td>\n",
       "      <td>1</td>\n",
       "      <td>1</td>\n",
       "      <td>1</td>\n",
       "    </tr>\n",
       "    <tr>\n",
       "      <th>2</th>\n",
       "      <td>Water, Dicaprylyl Carbonate, Glycerin, Ceteary...</td>\n",
       "      <td>1</td>\n",
       "      <td>1</td>\n",
       "      <td>1</td>\n",
       "      <td>1</td>\n",
       "      <td>0</td>\n",
       "    </tr>\n",
       "    <tr>\n",
       "      <th>3</th>\n",
       "      <td>Algae (Seaweed) Extract, Cyclopentasiloxane, P...</td>\n",
       "      <td>1</td>\n",
       "      <td>1</td>\n",
       "      <td>1</td>\n",
       "      <td>1</td>\n",
       "      <td>1</td>\n",
       "    </tr>\n",
       "    <tr>\n",
       "      <th>4</th>\n",
       "      <td>Water, Snail Secretion Filtrate, Phenyl Trimet...</td>\n",
       "      <td>1</td>\n",
       "      <td>1</td>\n",
       "      <td>1</td>\n",
       "      <td>1</td>\n",
       "      <td>1</td>\n",
       "    </tr>\n",
       "    <tr>\n",
       "      <th>...</th>\n",
       "      <td>...</td>\n",
       "      <td>...</td>\n",
       "      <td>...</td>\n",
       "      <td>...</td>\n",
       "      <td>...</td>\n",
       "      <td>...</td>\n",
       "    </tr>\n",
       "    <tr>\n",
       "      <th>1467</th>\n",
       "      <td>Water, Alcohol Denat., Potassium Cetyl Phospha...</td>\n",
       "      <td>1</td>\n",
       "      <td>1</td>\n",
       "      <td>1</td>\n",
       "      <td>1</td>\n",
       "      <td>1</td>\n",
       "    </tr>\n",
       "    <tr>\n",
       "      <th>1468</th>\n",
       "      <td>Water, Isododecane, Dimethicone, Butyloctyl Sa...</td>\n",
       "      <td>0</td>\n",
       "      <td>0</td>\n",
       "      <td>0</td>\n",
       "      <td>0</td>\n",
       "      <td>0</td>\n",
       "    </tr>\n",
       "    <tr>\n",
       "      <th>1469</th>\n",
       "      <td>Water, Dihydroxyacetone, Glycerin, Sclerocarya...</td>\n",
       "      <td>0</td>\n",
       "      <td>0</td>\n",
       "      <td>0</td>\n",
       "      <td>0</td>\n",
       "      <td>0</td>\n",
       "    </tr>\n",
       "    <tr>\n",
       "      <th>1470</th>\n",
       "      <td>Water, Dihydroxyacetone, Propylene Glycol, PPG...</td>\n",
       "      <td>0</td>\n",
       "      <td>0</td>\n",
       "      <td>0</td>\n",
       "      <td>0</td>\n",
       "      <td>0</td>\n",
       "    </tr>\n",
       "    <tr>\n",
       "      <th>1471</th>\n",
       "      <td>Visit the DERMAFLASH boutique</td>\n",
       "      <td>1</td>\n",
       "      <td>1</td>\n",
       "      <td>1</td>\n",
       "      <td>1</td>\n",
       "      <td>1</td>\n",
       "    </tr>\n",
       "  </tbody>\n",
       "</table>\n",
       "<p>1472 rows × 6 columns</p>\n",
       "</div>"
      ]
     },
     "execution_count": 13,
     "metadata": {},
     "output_type": "execute_result"
    }
   ],
   "execution_count": 13
  },
  {
   "metadata": {},
   "cell_type": "markdown",
   "source": "## Standardisation of Ingredients ",
   "id": "7e6935ab8f94eb3d"
  },
  {
   "metadata": {
    "ExecuteTime": {
     "end_time": "2025-03-21T04:31:13.272158Z",
     "start_time": "2025-03-21T04:31:13.229990Z"
    }
   },
   "cell_type": "code",
   "source": [
    "# converting to lowercase\n",
    "df['Ingredients'] = df['Ingredients'].str.lower()\n",
    "# removing spaces\n",
    "\n",
    "# only using biological names for the ingredients "
   ],
   "id": "83c7c95aff8cbe43",
   "outputs": [
    {
     "data": {
      "text/plain": [
       "                                            Ingredients  Combination  Dry  \\\n",
       "0     algae (seaweed) extract, mineral oil, petrolat...            1    1   \n",
       "1     galactomyces ferment filtrate (pitera), butyle...            1    1   \n",
       "2     water, dicaprylyl carbonate, glycerin, ceteary...            1    1   \n",
       "3     algae (seaweed) extract, cyclopentasiloxane, p...            1    1   \n",
       "4     water, snail secretion filtrate, phenyl trimet...            1    1   \n",
       "...                                                 ...          ...  ...   \n",
       "1467  water, alcohol denat., potassium cetyl phospha...            1    1   \n",
       "1468  water, isododecane, dimethicone, butyloctyl sa...            0    0   \n",
       "1469  water, dihydroxyacetone, glycerin, sclerocarya...            0    0   \n",
       "1470  water, dihydroxyacetone, propylene glycol, ppg...            0    0   \n",
       "1471                      visit the dermaflash boutique            1    1   \n",
       "\n",
       "      Normal  Oily  Sensitive  \n",
       "0          1     1          1  \n",
       "1          1     1          1  \n",
       "2          1     1          0  \n",
       "3          1     1          1  \n",
       "4          1     1          1  \n",
       "...      ...   ...        ...  \n",
       "1467       1     1          1  \n",
       "1468       0     0          0  \n",
       "1469       0     0          0  \n",
       "1470       0     0          0  \n",
       "1471       1     1          1  \n",
       "\n",
       "[1472 rows x 6 columns]"
      ],
      "text/html": [
       "<div>\n",
       "<style scoped>\n",
       "    .dataframe tbody tr th:only-of-type {\n",
       "        vertical-align: middle;\n",
       "    }\n",
       "\n",
       "    .dataframe tbody tr th {\n",
       "        vertical-align: top;\n",
       "    }\n",
       "\n",
       "    .dataframe thead th {\n",
       "        text-align: right;\n",
       "    }\n",
       "</style>\n",
       "<table border=\"1\" class=\"dataframe\">\n",
       "  <thead>\n",
       "    <tr style=\"text-align: right;\">\n",
       "      <th></th>\n",
       "      <th>Ingredients</th>\n",
       "      <th>Combination</th>\n",
       "      <th>Dry</th>\n",
       "      <th>Normal</th>\n",
       "      <th>Oily</th>\n",
       "      <th>Sensitive</th>\n",
       "    </tr>\n",
       "  </thead>\n",
       "  <tbody>\n",
       "    <tr>\n",
       "      <th>0</th>\n",
       "      <td>algae (seaweed) extract, mineral oil, petrolat...</td>\n",
       "      <td>1</td>\n",
       "      <td>1</td>\n",
       "      <td>1</td>\n",
       "      <td>1</td>\n",
       "      <td>1</td>\n",
       "    </tr>\n",
       "    <tr>\n",
       "      <th>1</th>\n",
       "      <td>galactomyces ferment filtrate (pitera), butyle...</td>\n",
       "      <td>1</td>\n",
       "      <td>1</td>\n",
       "      <td>1</td>\n",
       "      <td>1</td>\n",
       "      <td>1</td>\n",
       "    </tr>\n",
       "    <tr>\n",
       "      <th>2</th>\n",
       "      <td>water, dicaprylyl carbonate, glycerin, ceteary...</td>\n",
       "      <td>1</td>\n",
       "      <td>1</td>\n",
       "      <td>1</td>\n",
       "      <td>1</td>\n",
       "      <td>0</td>\n",
       "    </tr>\n",
       "    <tr>\n",
       "      <th>3</th>\n",
       "      <td>algae (seaweed) extract, cyclopentasiloxane, p...</td>\n",
       "      <td>1</td>\n",
       "      <td>1</td>\n",
       "      <td>1</td>\n",
       "      <td>1</td>\n",
       "      <td>1</td>\n",
       "    </tr>\n",
       "    <tr>\n",
       "      <th>4</th>\n",
       "      <td>water, snail secretion filtrate, phenyl trimet...</td>\n",
       "      <td>1</td>\n",
       "      <td>1</td>\n",
       "      <td>1</td>\n",
       "      <td>1</td>\n",
       "      <td>1</td>\n",
       "    </tr>\n",
       "    <tr>\n",
       "      <th>...</th>\n",
       "      <td>...</td>\n",
       "      <td>...</td>\n",
       "      <td>...</td>\n",
       "      <td>...</td>\n",
       "      <td>...</td>\n",
       "      <td>...</td>\n",
       "    </tr>\n",
       "    <tr>\n",
       "      <th>1467</th>\n",
       "      <td>water, alcohol denat., potassium cetyl phospha...</td>\n",
       "      <td>1</td>\n",
       "      <td>1</td>\n",
       "      <td>1</td>\n",
       "      <td>1</td>\n",
       "      <td>1</td>\n",
       "    </tr>\n",
       "    <tr>\n",
       "      <th>1468</th>\n",
       "      <td>water, isododecane, dimethicone, butyloctyl sa...</td>\n",
       "      <td>0</td>\n",
       "      <td>0</td>\n",
       "      <td>0</td>\n",
       "      <td>0</td>\n",
       "      <td>0</td>\n",
       "    </tr>\n",
       "    <tr>\n",
       "      <th>1469</th>\n",
       "      <td>water, dihydroxyacetone, glycerin, sclerocarya...</td>\n",
       "      <td>0</td>\n",
       "      <td>0</td>\n",
       "      <td>0</td>\n",
       "      <td>0</td>\n",
       "      <td>0</td>\n",
       "    </tr>\n",
       "    <tr>\n",
       "      <th>1470</th>\n",
       "      <td>water, dihydroxyacetone, propylene glycol, ppg...</td>\n",
       "      <td>0</td>\n",
       "      <td>0</td>\n",
       "      <td>0</td>\n",
       "      <td>0</td>\n",
       "      <td>0</td>\n",
       "    </tr>\n",
       "    <tr>\n",
       "      <th>1471</th>\n",
       "      <td>visit the dermaflash boutique</td>\n",
       "      <td>1</td>\n",
       "      <td>1</td>\n",
       "      <td>1</td>\n",
       "      <td>1</td>\n",
       "      <td>1</td>\n",
       "    </tr>\n",
       "  </tbody>\n",
       "</table>\n",
       "<p>1472 rows × 6 columns</p>\n",
       "</div>"
      ]
     },
     "execution_count": 15,
     "metadata": {},
     "output_type": "execute_result"
    }
   ],
   "execution_count": 15
  },
  {
   "metadata": {},
   "cell_type": "markdown",
   "source": "## Feature Engineering ",
   "id": "6b0d4789d592cb10"
  },
  {
   "metadata": {},
   "cell_type": "code",
   "outputs": [],
   "execution_count": null,
   "source": "# tokenisation ",
   "id": "a0fd9e7c8d31b524"
  },
  {
   "metadata": {},
   "cell_type": "markdown",
   "source": "## Feature Extraction ",
   "id": "89fd0d16b8cb6d87"
  },
  {
   "metadata": {},
   "cell_type": "code",
   "outputs": [],
   "execution_count": null,
   "source": "# vectorisation",
   "id": "4f9633dd5048edf3"
  }
 ],
 "metadata": {
  "kernelspec": {
   "display_name": "Python 3",
   "language": "python",
   "name": "python3"
  },
  "language_info": {
   "codemirror_mode": {
    "name": "ipython",
    "version": 2
   },
   "file_extension": ".py",
   "mimetype": "text/x-python",
   "name": "python",
   "nbconvert_exporter": "python",
   "pygments_lexer": "ipython2",
   "version": "2.7.6"
  }
 },
 "nbformat": 4,
 "nbformat_minor": 5
}
